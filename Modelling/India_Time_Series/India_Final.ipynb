{
 "cells": [
  {
   "cell_type": "code",
   "execution_count": 1,
   "metadata": {},
   "outputs": [],
   "source": [
    "# # Installing Packages\n",
    "# options(repos = c(CRAN=\"https://cloud.r-project.org\"))\n",
    "# install.packages(c('fpp'))"
   ]
  },
  {
   "cell_type": "code",
   "execution_count": 158,
   "metadata": {},
   "outputs": [],
   "source": [
    "library(dynlm)\n",
    "library(car)\n",
    "library(carData)\n",
    "library(zoo)\n",
    "library(xts)\n",
    "library(tsbox)\n",
    "library(tseries)\n",
    "library(forecast)\n",
    "library(vars)\n",
    "library(fpp)\n",
    "# Collect testing data everyday and number of cases in some cities day wise"
   ]
  },
  {
   "cell_type": "code",
   "execution_count": 163,
   "metadata": {},
   "outputs": [
    {
     "data": {
      "text/plain": [
       "           Daily.Confirmed Total.Confirmed Daily.Recovered Total.Recovered\n",
       "2020-04-24 \"1408\"          \"24447\"         \"484\"           \"5496\"         \n",
       "2020-04-25 \"1835\"          \"26282\"         \"442\"           \"5938\"         \n",
       "2020-04-26 \"1607\"          \"27890\"         \"585\"           \"6523\"         \n",
       "2020-04-27 \"1568\"          \"29458\"         \"587\"           \"7110\"         \n",
       "2020-04-28 \"1902\"          \"31360\"         \"637\"           \"7747\"         \n",
       "2020-04-29 \"1702\"          \"33062\"         \"690\"           \"8437\"         \n",
       "           Daily.Deceased Total.Deceased Lockdown\n",
       "2020-04-24 \"59\"           \" 780\"         \"1\"     \n",
       "2020-04-25 \"44\"           \" 824\"         \"1\"     \n",
       "2020-04-26 \"56\"           \" 881\"         \"1\"     \n",
       "2020-04-27 \"58\"           \" 939\"         \"1\"     \n",
       "2020-04-28 \"69\"           \"1008\"         \"1\"     \n",
       "2020-04-29 \"71\"           \"1079\"         \"1\"     "
      ]
     },
     "metadata": {},
     "output_type": "display_data"
    }
   ],
   "source": [
    "# Making an xts object for the data\n",
    "india <- as.data.frame(read.csv(\"../../Data/India_Time_Series.csv\", sep = \",\", colClasses=c(\"character\",\"numeric\", \"numeric\", \"numeric\", \"numeric\", \"numeric\", \"numeric\", \"numeric\")))\n",
    "india$Date <- as.Date(india$Date , format = \"%d-%b\")\n",
    "india.xts <- xts(india, order.by=india$Date)\n",
    "india.xts <- india.xts[, colnames(india.xts) != \"Date\"]                       \n",
    "tail(india.xts)"
   ]
  },
  {
   "cell_type": "code",
   "execution_count": 164,
   "metadata": {},
   "outputs": [
    {
     "data": {
      "text/html": [
       "<table>\n",
       "<thead><tr><th></th><th scope=col>Date</th><th scope=col>DailySamples</th></tr></thead>\n",
       "<tbody>\n",
       "\t<tr><th scope=row>42</th><td>23-04-2020</td><td>41247     </td></tr>\n",
       "\t<tr><th scope=row>43</th><td>24-04-2020</td><td>38168     </td></tr>\n",
       "\t<tr><th scope=row>44</th><td>25-04-2020</td><td>45352     </td></tr>\n",
       "\t<tr><th scope=row>45</th><td>26-04-2020</td><td>40510     </td></tr>\n",
       "\t<tr><th scope=row>46</th><td>27-04-2020</td><td>50914     </td></tr>\n",
       "\t<tr><th scope=row>47</th><td>28-04-2020</td><td>54031     </td></tr>\n",
       "</tbody>\n",
       "</table>\n"
      ],
      "text/latex": [
       "\\begin{tabular}{r|ll}\n",
       "  & Date & DailySamples\\\\\n",
       "\\hline\n",
       "\t42 & 23-04-2020 & 41247     \\\\\n",
       "\t43 & 24-04-2020 & 38168     \\\\\n",
       "\t44 & 25-04-2020 & 45352     \\\\\n",
       "\t45 & 26-04-2020 & 40510     \\\\\n",
       "\t46 & 27-04-2020 & 50914     \\\\\n",
       "\t47 & 28-04-2020 & 54031     \\\\\n",
       "\\end{tabular}\n"
      ],
      "text/markdown": [
       "\n",
       "| <!--/--> | Date | DailySamples | \n",
       "|---|---|---|---|---|---|\n",
       "| 42 | 23-04-2020 | 41247      | \n",
       "| 43 | 24-04-2020 | 38168      | \n",
       "| 44 | 25-04-2020 | 45352      | \n",
       "| 45 | 26-04-2020 | 40510      | \n",
       "| 46 | 27-04-2020 | 50914      | \n",
       "| 47 | 28-04-2020 | 54031      | \n",
       "\n",
       "\n"
      ],
      "text/plain": [
       "   Date       DailySamples\n",
       "42 23-04-2020 41247       \n",
       "43 24-04-2020 38168       \n",
       "44 25-04-2020 45352       \n",
       "45 26-04-2020 40510       \n",
       "46 27-04-2020 50914       \n",
       "47 28-04-2020 54031       "
      ]
     },
     "metadata": {},
     "output_type": "display_data"
    },
    {
     "data": {
      "text/html": [
       "<table>\n",
       "<thead><tr><th></th><th scope=col>Date</th><th scope=col>DailySamples</th></tr></thead>\n",
       "<tbody>\n",
       "\t<tr><th scope=row>42</th><td>2020-04-23</td><td>41247     </td></tr>\n",
       "\t<tr><th scope=row>43</th><td>2020-04-24</td><td>38168     </td></tr>\n",
       "\t<tr><th scope=row>44</th><td>2020-04-25</td><td>45352     </td></tr>\n",
       "\t<tr><th scope=row>45</th><td>2020-04-26</td><td>40510     </td></tr>\n",
       "\t<tr><th scope=row>46</th><td>2020-04-27</td><td>50914     </td></tr>\n",
       "\t<tr><th scope=row>47</th><td>2020-04-28</td><td>54031     </td></tr>\n",
       "</tbody>\n",
       "</table>\n"
      ],
      "text/latex": [
       "\\begin{tabular}{r|ll}\n",
       "  & Date & DailySamples\\\\\n",
       "\\hline\n",
       "\t42 & 2020-04-23 & 41247     \\\\\n",
       "\t43 & 2020-04-24 & 38168     \\\\\n",
       "\t44 & 2020-04-25 & 45352     \\\\\n",
       "\t45 & 2020-04-26 & 40510     \\\\\n",
       "\t46 & 2020-04-27 & 50914     \\\\\n",
       "\t47 & 2020-04-28 & 54031     \\\\\n",
       "\\end{tabular}\n"
      ],
      "text/markdown": [
       "\n",
       "| <!--/--> | Date | DailySamples | \n",
       "|---|---|---|---|---|---|\n",
       "| 42 | 2020-04-23 | 41247      | \n",
       "| 43 | 2020-04-24 | 38168      | \n",
       "| 44 | 2020-04-25 | 45352      | \n",
       "| 45 | 2020-04-26 | 40510      | \n",
       "| 46 | 2020-04-27 | 50914      | \n",
       "| 47 | 2020-04-28 | 54031      | \n",
       "\n",
       "\n"
      ],
      "text/plain": [
       "   Date       DailySamples\n",
       "42 2020-04-23 41247       \n",
       "43 2020-04-24 38168       \n",
       "44 2020-04-25 45352       \n",
       "45 2020-04-26 40510       \n",
       "46 2020-04-27 50914       \n",
       "47 2020-04-28 54031       "
      ]
     },
     "metadata": {},
     "output_type": "display_data"
    }
   ],
   "source": [
    "# Taking the testing data (missing data points(3) are forecasted using Excel's built-in forecast)\n",
    "testing <- as.data.frame(read.csv(\"../../Data/ICMRTestingDetails.csv\", sep = \",\"))\n",
    "testing <- testing[c(\"ï..Date\", \"DailySamples\")]\n",
    "colnames(testing) <- c(\"Date\", \"DailySamples\")\n",
    "tail(testing)\n",
    "testing$Date <- as.Date(testing$Date , format = \"%d-%m-%Y\")\n",
    "testing.xts <- xts(testing, order.by=testing$Date)\n",
    "testing.xts <- testing.xts[, colnames(testing.xts) != \"Date\"] \n",
    "tail(testing)"
   ]
  },
  {
   "cell_type": "code",
   "execution_count": 374,
   "metadata": {},
   "outputs": [
    {
     "data": {
      "image/png": "[encoded data removed]",
      "text/plain": [
       "Plot with title \"Daily Confirmed Cases in India from 20th March(Log)\""
      ]
     },
     "metadata": {},
     "output_type": "display_data"
    },
    {
     "data": {
      "image/png": "[encoded data removed]",
      "text/plain": [
       "Plot with title \"Log of number of Daily Tests in India from 20th March\""
      ]
     },
     "metadata": {},
     "output_type": "display_data"
    }
   ],
   "source": [
    "# Plotting Daily Data\n",
    "# Keep start date after 18th March\n",
    "startDate <- as.Date(\"20-Mar\" , format = \"%d-%b\")\n",
    "endDate <- as.Date(\"25-Apr\" , format = \"%d-%b\")\n",
    "newIndia.xts <- subset(india.xts, index(india.xts)>=startDate)\n",
    "newIndia.xts <- subset(newIndia.xts, index(newIndia.xts)<=endDate)\n",
    "newTesting.xts <- subset(testing.xts, index(testing.xts)>=startDate)\n",
    "newTesting.xts <- subset(newTesting.xts, index(newTesting.xts)<=endDate)\n",
    "\n",
    "par(mfrow = c(2,1)) # set up the graphics\n",
    "# plot(index(india.xts), india.xts$Daily.Confirmed, type=\"o\", col=\"blue\", pch=\"o\", lty=1, main=\"Daily Confirmed Cases in India\", ylab=\"Number of new Cases\", xlab=\"Date\")\n",
    "plot(index(newIndia.xts), newIndia.xts$Daily.Confirmed, type=\"o\", col=\"blue\", pch=\"o\", lty=1, main=\"Daily Confirmed Cases in India from 20th March\", ylab=\"Number of new Cases\", xlab=\"Date\")\n",
    "plot(index(newIndia.xts), log(as.numeric(newIndia.xts$Daily.Confirmed)), type=\"o\", col=\"blue\", pch=\"o\", lty=1, main=\"Daily Confirmed Cases in India from 20th March(Log)\", ylab=\"Log of Number of new Cases\", xlab=\"Date\")\n",
    "\n",
    "par(mfrow =  c(2,1))\n",
    "plot(index(newTesting.xts), newTesting.xts$DailySamples, type=\"o\", col=\"blue\", pch=\"o\", lty=1, main=\"Daily Tests in India from 20th March\", ylab=\"Number of Tests\", xlab=\"Date\")\n",
    "plot(index(newTesting.xts), log(as.numeric(newTesting.xts$DailySamples)), type=\"o\", col=\"blue\", pch=\"o\", lty=1, main=\"Log of number of Daily Tests in India from 20th March\", ylab=\"Log of Number of Tests\", xlab=\"Date\")\n"
   ]
  },
  {
   "cell_type": "code",
   "execution_count": 375,
   "metadata": {},
   "outputs": [
    {
     "data": {
      "image/png": "[encoded data removed]",
      "text/plain": [
       "Plot with title \"Cross Correlation between Confirmed Cases(t+lag) and Daily samples tested(t)\""
      ]
     },
     "metadata": {},
     "output_type": "display_data"
    }
   ],
   "source": [
    "par(mfrow = c(3,1)) # set up the graphics\n",
    "acf(log(as.numeric(newIndia.xts$Daily.Confirmed)), main=\"Autocorrelation for Confirmed Cases (in log)\")\n",
    "# ccf(log(as.numeric(newIndia.xts$Daily.Confirmed)), as.numeric(newIndia.xts$Lockdown), main=\"Cross Correlation between Confirmed Cases(t+lag) and Lockdown(t)\")\n",
    "acf(log(as.numeric(newTesting.xts$DailySamples)), main=\"Autocorrelation for Daily Samples (in log)\")\n",
    "ccf(log(as.numeric(newIndia.xts$Daily.Confirmed)), log(as.numeric(newTesting.xts$DailySamples)), main=\"Cross Correlation between Confirmed Cases(t+lag) and Daily samples tested(t)\")\n",
    "# There is high correlation for both positive and negative lags, hence we should use VAR as they both affect each other"
   ]
  },
  {
   "cell_type": "code",
   "execution_count": 376,
   "metadata": {},
   "outputs": [
    {
     "data": {
      "text/html": [
       "<table>\n",
       "<thead><tr><th></th><th scope=col>Lockdown</th><th scope=col>timeTrend</th><th scope=col>timeTrend_2</th></tr></thead>\n",
       "<tbody>\n",
       "\t<tr><th scope=row>[32,]</th><td>1   </td><td>32  </td><td>1024</td></tr>\n",
       "\t<tr><th scope=row>[33,]</th><td>1   </td><td>33  </td><td>1089</td></tr>\n",
       "\t<tr><th scope=row>[34,]</th><td>1   </td><td>34  </td><td>1156</td></tr>\n",
       "\t<tr><th scope=row>[35,]</th><td>1   </td><td>35  </td><td>1225</td></tr>\n",
       "\t<tr><th scope=row>[36,]</th><td>1   </td><td>36  </td><td>1296</td></tr>\n",
       "\t<tr><th scope=row>[37,]</th><td>1   </td><td>37  </td><td>1369</td></tr>\n",
       "</tbody>\n",
       "</table>\n"
      ],
      "text/latex": [
       "\\begin{tabular}{r|lll}\n",
       "  & Lockdown & timeTrend & timeTrend\\_2\\\\\n",
       "\\hline\n",
       "\t{[}32,{]} & 1    & 32   & 1024\\\\\n",
       "\t{[}33,{]} & 1    & 33   & 1089\\\\\n",
       "\t{[}34,{]} & 1    & 34   & 1156\\\\\n",
       "\t{[}35,{]} & 1    & 35   & 1225\\\\\n",
       "\t{[}36,{]} & 1    & 36   & 1296\\\\\n",
       "\t{[}37,{]} & 1    & 37   & 1369\\\\\n",
       "\\end{tabular}\n"
      ],
      "text/markdown": [
       "\n",
       "| <!--/--> | Lockdown | timeTrend | timeTrend_2 | \n",
       "|---|---|---|---|---|---|\n",
       "| [32,] | 1    | 32   | 1024 | \n",
       "| [33,] | 1    | 33   | 1089 | \n",
       "| [34,] | 1    | 34   | 1156 | \n",
       "| [35,] | 1    | 35   | 1225 | \n",
       "| [36,] | 1    | 36   | 1296 | \n",
       "| [37,] | 1    | 37   | 1369 | \n",
       "\n",
       "\n"
      ],
      "text/plain": [
       "      Lockdown timeTrend timeTrend_2\n",
       "[32,] 1        32        1024       \n",
       "[33,] 1        33        1089       \n",
       "[34,] 1        34        1156       \n",
       "[35,] 1        35        1225       \n",
       "[36,] 1        36        1296       \n",
       "[37,] 1        37        1369       "
      ]
     },
     "metadata": {},
     "output_type": "display_data"
    }
   ],
   "source": [
    "# Date objects\n",
    "DayZero <- as.Date(\"25-Mar\" , format = \"%d-%b\")\n",
    "DayOne <- as.Date(\"26-Mar\" , format = \"%d-%b\")\n",
    "DayTwo <- as.Date(\"27-Mar\" , format = \"%d-%b\")\n",
    "DayThree <- as.Date(\"28-Mar\" , format = \"%d-%b\")\n",
    "DayFour <- as.Date(\"29-Mar\" , format = \"%d-%b\")\n",
    "DayFive <- as.Date(\"30-Mar\" , format = \"%d-%b\")\n",
    "DaySix <- as.Date(\"31-Mar\" , format = \"%d-%b\")\n",
    "DaySeven <- as.Date(\"1-Apr\" , format = \"%d-%b\")\n",
    "DayEight <- as.Date(\"2-Apr\" , format = \"%d-%b\")\n",
    "DayNine <- as.Date(\"3-Apr\" , format = \"%d-%b\")\n",
    "DayTen <- as.Date(\"4-Apr\" , format = \"%d-%b\")\n",
    "DayEleven <- as.Date(\"5-Apr\", format = \"%d-%b\")\n",
    "\n",
    "# Creating columns\n",
    "l1 <- (newIndia.xts$Lockdown)\n",
    "l2 <- (newIndia.xts$Lockdown)\n",
    "l3 <- (newIndia.xts$Lockdown)\n",
    "l4 <- (newIndia.xts$Lockdown)\n",
    "l5 <- (newIndia.xts$Lockdown)\n",
    "l6 <- (newIndia.xts$Lockdown)\n",
    "l7 <- (newIndia.xts$Lockdown)\n",
    "l8 <- (newIndia.xts$Lockdown)\n",
    "l9 <- (newIndia.xts$Lockdown)\n",
    "l10 <- (newIndia.xts$Lockdown)\n",
    "l11 <- (newIndia.xts$Lockdown)\n",
    "\n",
    "l1 <- replace(l1, index(l1)<DayOne, \"0\")\n",
    "l2 <- replace(l2, index(l2)<DayTwo, \"0\")\n",
    "l3 <- replace(l3, index(l3)<DayThree, \"0\")\n",
    "l4 <- replace(l4, index(l4)<DayFour, \"0\")\n",
    "l5 <- replace(l5, index(l5)<DayFive, \"0\")\n",
    "l6 <- replace(l6, index(l6)<DaySix, \"0\")\n",
    "l7 <- replace(l7, index(l7)<DaySeven, \"0\")\n",
    "l8 <- replace(l8, index(l8)<DayEight, \"0\")\n",
    "l9 <- replace(l9, index(l9)<DayNine, \"0\")\n",
    "l10 <- replace(l10, index(l10)<DayTen, \"0\")\n",
    "l11 <- replace(l11, index(l11)<DayEleven, \"0\")\n",
    "\n",
    "# Adding columns to newIndia.xts\n",
    "newIndia.xts$Lockdown_1 <- l1\n",
    "newIndia.xts$Lockdown_2 <- l2\n",
    "newIndia.xts$Lockdown_3 <- l3\n",
    "newIndia.xts$Lockdown_4 <- l4\n",
    "newIndia.xts$Lockdown_5 <- l5\n",
    "newIndia.xts$Lockdown_6 <- l6\n",
    "newIndia.xts$Lockdown_7 <- l7\n",
    "newIndia.xts$Lockdown_8 <- l8\n",
    "newIndia.xts$Lockdown_9 <- l9\n",
    "newIndia.xts$Lockdown_10 <- l10\n",
    "newIndia.xts$Lockdown_11 <- l11\n",
    "\n",
    "# Making the Data\n",
    "# xreg.data <- data.frame(coredata(newIndia.xts$Lockdown), coredata(newIndia.xts$Lockdown_1), coredata(newIndia.xts$Lockdown_2), \n",
    "#                         coredata(newIndia.xts$Lockdown_3), coredata(newIndia.xts$Lockdown_4), coredata(newIndia.xts$Lockdown_5),\n",
    "#                         coredata(newIndia.xts$Lockdown_6), coredata(newIndia.xts$Lockdown_7), coredata(newIndia.xts$Lockdown_8)\n",
    "#                        , coredata(newIndia.xts$Lockdown_9), coredata(newIndia.xts$Lockdown_10))\n",
    "\n",
    "# Making time squared trend to be fit\n",
    "# Adding plus 1 kyunki baadme vo subtract ho jaayega\n",
    "timeTrend_2 <- (1:length(index(newIndia.xts))) ^2 + 1\n",
    "timeTrend <- (1:length(index(newIndia.xts))) + 1\n",
    "\n",
    "xreg.data <- data.frame(coredata(newIndia.xts$Lockdown), timeTrend, timeTrend_2)\n",
    "\n",
    "xreg.data.matrix <- data.matrix(xreg.data)-1\n",
    "tail(xreg.data.matrix) # First let us remove the effects of time trend and lockdown"
   ]
  },
  {
   "cell_type": "markdown",
   "metadata": {},
   "source": [
    "## Model 1"
   ]
  },
  {
   "cell_type": "markdown",
   "metadata": {},
   "source": [
    "### Structural Break followed by VAR. First we de-trend the data and then on the residuals we do the VAR"
   ]
  },
  {
   "cell_type": "code",
   "execution_count": 377,
   "metadata": {},
   "outputs": [
    {
     "name": "stdout",
     "output_type": "stream",
     "text": [
      "[1] 37\n",
      "[1] \"2020-04-01\"\n"
     ]
    },
    {
     "data": {
      "text/plain": [
       "\n",
       "Call:\n",
       "lm(formula = dataTimeSeries ~ regressors)\n",
       "\n",
       "Residuals:\n",
       "     Min       1Q   Median       3Q      Max \n",
       "-0.30597 -0.11543  0.00431  0.10930  0.32265 \n",
       "\n",
       "Coefficients:\n",
       "                                 Estimate Std. Error t value Pr(>|t|)    \n",
       "(Intercept)                     4.3127579  0.1734247  24.868  < 2e-16 ***\n",
       "regressorsLockdown              0.0732656  0.1757627   0.417  0.67967    \n",
       "regressorstime_trend_1         -0.0410779  0.0698358  -0.588  0.56065    \n",
       "regressorssquared_time_trend_1  0.0101622  0.0055556   1.829  0.07701 .  \n",
       "regressorstime_trend_2          0.1402750  0.0233558   6.006 1.21e-06 ***\n",
       "regressorssquared_time_trend_2 -0.0016203  0.0004873  -3.325  0.00228 ** \n",
       "---\n",
       "Signif. codes:  0 '***' 0.001 '**' 0.01 '*' 0.05 '.' 0.1 ' ' 1\n",
       "\n",
       "Residual standard error: 0.1741 on 31 degrees of freedom\n",
       "Multiple R-squared:  0.9789,\tAdjusted R-squared:  0.9754 \n",
       "F-statistic:   287 on 5 and 31 DF,  p-value: < 2.2e-16\n"
      ]
     },
     "metadata": {},
     "output_type": "display_data"
    },
    {
     "data": {
      "text/html": [
       "-123.900771373623"
      ],
      "text/latex": [
       "-123.900771373623"
      ],
      "text/markdown": [
       "-123.900771373623"
      ],
      "text/plain": [
       "[1] -123.9008"
      ]
     },
     "metadata": {},
     "output_type": "display_data"
    }
   ],
   "source": [
    "# Getting time trend and lockdown effect\n",
    "nrows <- length(xreg.data$timeTrend)\n",
    "print(nrows)\n",
    "# Making a data with 6 columns, we can change entries according to the date\n",
    "# Format-> Lockdown|Lockdown_1|time_trend_1|squared_time_trend_1|time_trend_2|squared_time_trend_2\n",
    "modXreg.data <- xreg.data\n",
    "modXreg.data <- cbind(xreg.data,time_trend_2=xreg.data$timeTrend,\n",
    "                            squared_time_trend_2=xreg.data$timeTrend_2)\n",
    "colnames(modXreg.data)<- c(\"Lockdown\", \"time_trend_1\", \"squared_time_trend_1\", \n",
    "                           \"time_trend_2\", \"squared_time_trend_2\")\n",
    "\n",
    "# modXreg.data <- xreg.data\n",
    "# # modXreg.data <- cbind(xreg.data,time_trend_2=xreg.data$timeTrend,squared_time_trend_2=xreg.data$timeTrend_2)\n",
    "# colnames(modXreg.data)<- c(\"Lockdown\", \"time_trend_1\", \"squared_time_trend_1\")\n",
    "\n",
    "\n",
    "# ARIMA Initialisation\n",
    "dataTimeSeries <- log(as.numeric(newIndia.xts$Daily.Confirmed))\n",
    "aicLevel <- 1000\n",
    "# etaDate = today\n",
    "# regressors <- data.matrix(modXreg.data)-1\n",
    "# finalModel <- lm(dataTimeSeries ~ regressors)\n",
    "\n",
    "# StartDate = 15th March\n",
    "# Today = 17th April\n",
    "\n",
    "for (eta in (3:(nrows-2))){\n",
    "    tempXreg.data <- modXreg.data\n",
    "    for (tempEta_2 in (1:(eta-1))){\n",
    "        tempXreg.data[tempEta_2,\"time_trend_2\"] <- 1\n",
    "        tempXreg.data[tempEta_2,\"squared_time_trend_2\"] <- 1\n",
    "    }\n",
    "    for (tempEta_1 in (eta:nrows)){\n",
    "        tempXreg.data[tempEta_1,\"time_trend_1\"] <- 1\n",
    "        tempXreg.data[tempEta_1,\"squared_time_trend_1\"] <- 1\n",
    "    }\n",
    "    \n",
    "    tempXreg.matrix <- data.matrix(tempXreg.data)-1\n",
    "    regressors <- tempXreg.matrix\n",
    "    tempFit <- lm(dataTimeSeries ~ regressors)\n",
    "    if(extractAIC(tempFit)[2] < aicLevel){\n",
    "        aicLevel <- extractAIC(tempFit)[2]\n",
    "        etaDate <- as.Date(startDate + eta)\n",
    "        finalModel <- tempFit\n",
    "    }\n",
    "}\n",
    "print(etaDate)\n",
    "summary(finalModel)\n",
    "extractAIC(finalModel)[2]\n",
    "# finalModel$residuals"
   ]
  },
  {
   "cell_type": "code",
   "execution_count": 378,
   "metadata": {},
   "outputs": [],
   "source": [
    "# residual <- (finalModel$residuals)\n",
    "# # Plotting residuals\n",
    "# par(mfrow = c(2,1)) # set up the graphics\n",
    "# pacf((residual), main=\"Partial Autocorrelation for Residuals\")\n",
    "# acf((residual), main=\"Autocorrelation for Residuals\")"
   ]
  },
  {
   "cell_type": "code",
   "execution_count": 379,
   "metadata": {
    "scrolled": false
   },
   "outputs": [
    {
     "data": {
      "text/plain": [
       "\n",
       "VAR Estimation Results:\n",
       "========================= \n",
       "Endogenous variables: Residuals, DailySamples \n",
       "Deterministic variables: const \n",
       "Sample size: 36 \n",
       "Log Likelihood: -331.064 \n",
       "Roots of the characteristic polynomial:\n",
       "1.009 0.1475\n",
       "Call:\n",
       "VAR(y = dataTimeSeries, p = 1, type = \"const\")\n",
       "\n",
       "\n",
       "Estimation results for equation Residuals: \n",
       "========================================== \n",
       "Residuals = Residuals.l1 + DailySamples.l1 + const \n",
       "\n",
       "                  Estimate Std. Error t value Pr(>|t|)\n",
       "Residuals.l1    -1.451e-01  1.712e-01  -0.848    0.403\n",
       "DailySamples.l1 -6.759e-07  2.112e-06  -0.320    0.751\n",
       "const            1.520e-02  4.293e-02   0.354    0.726\n",
       "\n",
       "\n",
       "Residual standard error: 0.1635 on 33 degrees of freedom\n",
       "Multiple R-Squared: 0.02358,\tAdjusted R-squared: -0.03559 \n",
       "F-statistic: 0.3985 on 2 and 33 DF,  p-value: 0.6745 \n",
       "\n",
       "\n",
       "Estimation results for equation DailySamples: \n",
       "============================================= \n",
       "DailySamples = Residuals.l1 + DailySamples.l1 + const \n",
       "\n",
       "                  Estimate Std. Error t value Pr(>|t|)    \n",
       "Residuals.l1    -4.049e+03  4.039e+03  -1.003    0.323    \n",
       "DailySamples.l1  1.007e+00  4.984e-02  20.197   <2e-16 ***\n",
       "const            1.104e+03  1.013e+03   1.090    0.284    \n",
       "---\n",
       "Signif. codes:  0 '***' 0.001 '**' 0.01 '*' 0.05 '.' 0.1 ' ' 1\n",
       "\n",
       "\n",
       "Residual standard error: 3858 on 33 degrees of freedom\n",
       "Multiple R-Squared: 0.9258,\tAdjusted R-squared: 0.9213 \n",
       "F-statistic: 205.9 on 2 and 33 DF,  p-value: < 2.2e-16 \n",
       "\n",
       "\n",
       "\n",
       "Covariance matrix of residuals:\n",
       "             Residuals DailySamples\n",
       "Residuals      0.02674    3.780e+01\n",
       "DailySamples  37.79746    1.489e+07\n",
       "\n",
       "Correlation matrix of residuals:\n",
       "             Residuals DailySamples\n",
       "Residuals      1.00000      0.05991\n",
       "DailySamples   0.05991      1.00000\n",
       "\n"
      ]
     },
     "metadata": {},
     "output_type": "display_data"
    }
   ],
   "source": [
    "# USE VAR model now on the residuals\n",
    "\n",
    "dataTimeSeriesDF <- data.frame(finalModel$residuals, ((as.numeric(newTesting.xts$DailySamples))))\n",
    "colnames(dataTimeSeriesDF) <- c(\"Residuals\", \"DailySamples\")\n",
    "mat <- data.matrix(dataTimeSeriesDF)\n",
    "dataTimeSeries <- as.ts(mat)\n",
    "\n",
    "fit <- VAR(dataTimeSeries, p=1, type=\"const\")\n",
    "summary(fit)"
   ]
  },
  {
   "cell_type": "code",
   "execution_count": 380,
   "metadata": {},
   "outputs": [
    {
     "data": {
      "text/html": [
       "<ol class=list-inline>\n",
       "\t<li>-0.0382073712962467</li>\n",
       "\t<li>-0.0104295402317113</li>\n",
       "\t<li>-0.0155167820561137</li>\n",
       "\t<li>-0.0157661859985588</li>\n",
       "</ol>\n"
      ],
      "text/latex": [
       "\\begin{enumerate*}\n",
       "\\item -0.0382073712962467\n",
       "\\item -0.0104295402317113\n",
       "\\item -0.0155167820561137\n",
       "\\item -0.0157661859985588\n",
       "\\end{enumerate*}\n"
      ],
      "text/markdown": [
       "1. -0.0382073712962467\n",
       "2. -0.0104295402317113\n",
       "3. -0.0155167820561137\n",
       "4. -0.0157661859985588\n",
       "\n",
       "\n"
      ],
      "text/plain": [
       "[1] -0.03820737 -0.01042954 -0.01551678 -0.01576619"
      ]
     },
     "metadata": {},
     "output_type": "display_data"
    },
    {
     "name": "stdout",
     "output_type": "stream",
     "text": [
      "\n",
      "Forecast method: Linear regression model\n",
      "\n",
      "Model Information:\n",
      "\n",
      "Call:\n",
      "lm(formula = dataTimeSeries ~ regressors)\n",
      "\n",
      "Coefficients:\n",
      "                   (Intercept)              regressorsLockdown  \n",
      "                       4.31276                         0.07327  \n",
      "        regressorstime_trend_1  regressorssquared_time_trend_1  \n",
      "                      -0.04108                         0.01016  \n",
      "        regressorstime_trend_2  regressorssquared_time_trend_2  \n",
      "                       0.14028                        -0.00162  \n",
      "\n",
      "\n",
      "Error measures:\n",
      "                      ME      RMSE       MAE         MPE     MAPE      MASE\n",
      "Training set -7.2013e-17 0.1593748 0.1387286 -0.08697472 2.389211 0.1472822\n",
      "\n",
      "Forecasts:\n",
      "  Point Forecast    Lo 80    Hi 80    Lo 95    Hi 95\n",
      "1       7.376742 7.114200 7.639284 6.967827 7.785657\n",
      "2       7.392253 7.120576 7.663930 6.969111 7.815395\n",
      "3       7.404523 7.121997 7.687050 6.964483 7.844564\n",
      "4       7.413553 7.118387 7.708719 6.953826 7.873280\n"
     ]
    },
    {
     "data": {
      "text/html": [
       "<dl class=dl-horizontal>\n",
       "\t<dt>1</dt>\n",
       "\t\t<dd>7.37674201741267</dd>\n",
       "\t<dt>2</dt>\n",
       "\t\t<dd>7.39225293609956</dd>\n",
       "\t<dt>3</dt>\n",
       "\t\t<dd>7.40452322907431</dd>\n",
       "\t<dt>4</dt>\n",
       "\t\t<dd>7.4135528963369</dd>\n",
       "</dl>\n"
      ],
      "text/latex": [
       "\\begin{description*}\n",
       "\\item[1] 7.37674201741267\n",
       "\\item[2] 7.39225293609956\n",
       "\\item[3] 7.40452322907431\n",
       "\\item[4] 7.4135528963369\n",
       "\\end{description*}\n"
      ],
      "text/markdown": [
       "1\n",
       ":   7.376742017412672\n",
       ":   7.392252936099563\n",
       ":   7.404523229074314\n",
       ":   7.4135528963369\n",
       "\n"
      ],
      "text/plain": [
       "       1        2        3        4 \n",
       "7.376742 7.392253 7.404523 7.413553 "
      ]
     },
     "metadata": {},
     "output_type": "display_data"
    },
    {
     "data": {
      "text/html": [
       "<dl class=dl-horizontal>\n",
       "\t<dt>1</dt>\n",
       "\t\t<dd>1538.45607853558</dd>\n",
       "\t<dt>2</dt>\n",
       "\t\t<dd>1606.51641419548</dd>\n",
       "\t<dt>3</dt>\n",
       "\t\t<dd>1618.09764827528</dd>\n",
       "\t<dt>4</dt>\n",
       "\t\t<dd>1632.36752667424</dd>\n",
       "</dl>\n"
      ],
      "text/latex": [
       "\\begin{description*}\n",
       "\\item[1] 1538.45607853558\n",
       "\\item[2] 1606.51641419548\n",
       "\\item[3] 1618.09764827528\n",
       "\\item[4] 1632.36752667424\n",
       "\\end{description*}\n"
      ],
      "text/markdown": [
       "1\n",
       ":   1538.456078535582\n",
       ":   1606.516414195483\n",
       ":   1618.097648275284\n",
       ":   1632.36752667424\n",
       "\n"
      ],
      "text/plain": [
       "       1        2        3        4 \n",
       "1538.456 1606.516 1618.098 1632.368 "
      ]
     },
     "metadata": {},
     "output_type": "display_data"
    }
   ],
   "source": [
    "# Estimation with the model with structural breaks, for next four days\n",
    "# Estimate residuals first with VAR\n",
    "residualPredict <- predict(fit, n.ahead=4)\n",
    "residualsForLM <- residualPredict$fcst$Residuals[,1]\n",
    "residualsForLM\n",
    "\n",
    "# Add these residuals to the prediction for lm model\n",
    "# Setting the lockdown variable for future\n",
    "lastDate <- index(newIndia.xts)[nrows]\n",
    "startDate <- index(newIndia.xts)[1]\n",
    "\n",
    "# today = as.Date(\"17-Apr\", format=\"%d-%b\")\n",
    "lock <- sample(1:1, 4, replace = TRUE)\n",
    "time_Before <- c(0,0,0,0)\n",
    "time <- (((as.numeric(lastDate-startDate))+2):((as.numeric(lastDate-startDate))+5))\n",
    "time_2 <- time * time\n",
    "\n",
    "regressor.data <- data.frame(lock,time_Before,time_Before,time,time_2)\n",
    "# regressor.data <- data.frame(lock,time,time_2)\n",
    "\n",
    "colnames(regressor.data)<- c(\"Lockdown\", \"time_trend_1\", \"squared_time_trend_1\", \"time_trend_2\", \"squared_time_trend_2\")\n",
    "regressor.matrix <- data.matrix(regressor.data)\n",
    "\n",
    "# Forecast\n",
    "fore <- forecast(finalModel, h=4,  newdata=regressor.data)\n",
    "summary(fore)\n",
    "# plot(fore)\n",
    "(fore$mean)\n",
    "fin <- fore$mean + residualsForLM\n",
    "exp(fin)\n",
    "# plot(fin)"
   ]
  },
  {
   "cell_type": "markdown",
   "metadata": {},
   "source": [
    "## Model 2"
   ]
  },
  {
   "cell_type": "markdown",
   "metadata": {},
   "source": [
    "### This model does not have any structural break, just a direct  VAR with lockdown and time trends"
   ]
  },
  {
   "cell_type": "code",
   "execution_count": 381,
   "metadata": {},
   "outputs": [
    {
     "name": "stdout",
     "output_type": "stream",
     "text": [
      "[1] 37\n"
     ]
    },
    {
     "data": {
      "text/plain": [
       "\n",
       "VAR Estimation Results:\n",
       "========================= \n",
       "Endogenous variables: Daily.Confirmed, DailySamples \n",
       "Deterministic variables: const \n",
       "Sample size: 35 \n",
       "Log Likelihood: -11.535 \n",
       "Roots of the characteristic polynomial:\n",
       "0.9608 0.4054 0.1949 0.1949\n",
       "Call:\n",
       "VAR(y = dataTimeSeries, p = 2)\n",
       "\n",
       "\n",
       "Estimation results for equation Daily.Confirmed: \n",
       "================================================ \n",
       "Daily.Confirmed = Daily.Confirmed.l1 + DailySamples.l1 + Daily.Confirmed.l2 + DailySamples.l2 + const \n",
       "\n",
       "                    Estimate Std. Error t value Pr(>|t|)   \n",
       "Daily.Confirmed.l1  0.688929   0.214092   3.218  0.00309 **\n",
       "DailySamples.l1    -0.070511   0.110969  -0.635  0.52998   \n",
       "Daily.Confirmed.l2  0.343947   0.219835   1.565  0.12817   \n",
       "DailySamples.l2    -0.003233   0.111078  -0.029  0.97698   \n",
       "const               0.594623   0.429580   1.384  0.17651   \n",
       "---\n",
       "Signif. codes:  0 '***' 0.001 '**' 0.01 '*' 0.05 '.' 0.1 ' ' 1\n",
       "\n",
       "\n",
       "Residual standard error: 0.2471 on 30 degrees of freedom\n",
       "Multiple R-Squared: 0.9502,\tAdjusted R-squared: 0.9436 \n",
       "F-statistic: 143.2 on 4 and 30 DF,  p-value: < 2.2e-16 \n",
       "\n",
       "\n",
       "Estimation results for equation DailySamples: \n",
       "============================================= \n",
       "DailySamples = Daily.Confirmed.l1 + DailySamples.l1 + Daily.Confirmed.l2 + DailySamples.l2 + const \n",
       "\n",
       "                   Estimate Std. Error t value Pr(>|t|)    \n",
       "Daily.Confirmed.l1  0.35217    0.38988   0.903 0.373567    \n",
       "DailySamples.l1    -0.07080    0.20208  -0.350 0.728523    \n",
       "Daily.Confirmed.l2  0.87736    0.40034   2.192 0.036311 *  \n",
       "DailySamples.l2    -0.05124    0.20228  -0.253 0.801757    \n",
       "const               2.89924    0.78230   3.706 0.000851 ***\n",
       "---\n",
       "Signif. codes:  0 '***' 0.001 '**' 0.01 '*' 0.05 '.' 0.1 ' ' 1\n",
       "\n",
       "\n",
       "Residual standard error: 0.45 on 30 degrees of freedom\n",
       "Multiple R-Squared: 0.8868,\tAdjusted R-squared: 0.8717 \n",
       "F-statistic: 58.76 on 4 and 30 DF,  p-value: 9.172e-14 \n",
       "\n",
       "\n",
       "\n",
       "Covariance matrix of residuals:\n",
       "                Daily.Confirmed DailySamples\n",
       "Daily.Confirmed         0.06106      0.05783\n",
       "DailySamples            0.05783      0.20249\n",
       "\n",
       "Correlation matrix of residuals:\n",
       "                Daily.Confirmed DailySamples\n",
       "Daily.Confirmed          1.0000       0.5201\n",
       "DailySamples             0.5201       1.0000\n",
       "\n"
      ]
     },
     "metadata": {},
     "output_type": "display_data"
    }
   ],
   "source": [
    "# VAR model without the structural break\n",
    "nrows <- length(xreg.data$timeTrend)\n",
    "print(nrows)\n",
    "# Making a data with 6 columns, we can change entries according to the date\n",
    "# Format-> Lockdown|Lockdown_1|time_trend_1|squared_time_trend_1|time_trend_2|squared_time_trend_2\n",
    "modXreg.data <- xreg.data\n",
    "# modXreg.data <- cbind(xreg.data,time_trend_2=xreg.data$timeTrend,squared_time_trend_2=xreg.data$timeTrend_2)\n",
    "colnames(modXreg.data)<- c(\"Lockdown\", \"time_trend_1\", \"squared_time_trend_1\")\n",
    "# modXreg.data\n",
    "\n",
    "# ARIMA Initialisation\n",
    "dataTimeSeriesDF <- data.frame(log(as.numeric(newIndia.xts$Daily.Confirmed)), log(as.numeric(newTesting.xts$DailySamples)))\n",
    "colnames(dataTimeSeriesDF) <- c(\"Daily.Confirmed\", \"DailySamples\")\n",
    "mat <- data.matrix(dataTimeSeriesDF)\n",
    "dataTimeSeries <- as.ts(mat)\n",
    "\n",
    "regressors <- data.matrix(modXreg.data)-1\n",
    "noStructuralBreakModel <- VAR(dataTimeSeries, p=2)\n",
    "\n",
    "\n",
    "summary(noStructuralBreakModel)"
   ]
  },
  {
   "cell_type": "code",
   "execution_count": 382,
   "metadata": {},
   "outputs": [
    {
     "data": {
      "text/html": [
       "<ol class=list-inline>\n",
       "\t<li>1763.82541732352</li>\n",
       "\t<li>1894.41109442441</li>\n",
       "\t<li>1933.87051246838</li>\n",
       "\t<li>2011.60317313775</li>\n",
       "</ol>\n"
      ],
      "text/latex": [
       "\\begin{enumerate*}\n",
       "\\item 1763.82541732352\n",
       "\\item 1894.41109442441\n",
       "\\item 1933.87051246838\n",
       "\\item 2011.60317313775\n",
       "\\end{enumerate*}\n"
      ],
      "text/markdown": [
       "1. 1763.82541732352\n",
       "2. 1894.41109442441\n",
       "3. 1933.87051246838\n",
       "4. 2011.60317313775\n",
       "\n",
       "\n"
      ],
      "text/plain": [
       "[1] 1763.825 1894.411 1933.871 2011.603"
      ]
     },
     "metadata": {},
     "output_type": "display_data"
    },
    {
     "data": {
      "text/html": [
       "<ol class=list-inline>\n",
       "\t<li>7.47524026189766</li>\n",
       "\t<li>7.54666330110434</li>\n",
       "\t<li>7.56727872054963</li>\n",
       "\t<li>7.60668728171641</li>\n",
       "</ol>\n"
      ],
      "text/latex": [
       "\\begin{enumerate*}\n",
       "\\item 7.47524026189766\n",
       "\\item 7.54666330110434\n",
       "\\item 7.56727872054963\n",
       "\\item 7.60668728171641\n",
       "\\end{enumerate*}\n"
      ],
      "text/markdown": [
       "1. 7.47524026189766\n",
       "2. 7.54666330110434\n",
       "3. 7.56727872054963\n",
       "4. 7.60668728171641\n",
       "\n",
       "\n"
      ],
      "text/plain": [
       "[1] 7.475240 7.546663 7.567279 7.606687"
      ]
     },
     "metadata": {},
     "output_type": "display_data"
    },
    {
     "data": {
      "text/html": [
       "7.47524026189766"
      ],
      "text/latex": [
       "7.47524026189766"
      ],
      "text/markdown": [
       "7.47524026189766"
      ],
      "text/plain": [
       "[1] 7.47524"
      ]
     },
     "metadata": {},
     "output_type": "display_data"
    }
   ],
   "source": [
    "# Forecasting model with everything in VAR (no structural break)\n",
    "lastDate <- index(newIndia.xts)[nrows]\n",
    "startDate <- index(newIndia.xts)[1]\n",
    "\n",
    "# today = as.Date(\"17-Apr\", format=\"%d-%b\")\n",
    "lock <- sample(1:1, 4, replace = TRUE)\n",
    "time_Before <- c(0,0,0,0)\n",
    "time <- (((as.numeric(lastDate-startDate))+2):((as.numeric(lastDate-startDate))+5))\n",
    "time_2 <- time * time\n",
    "\n",
    "regressor.data <- data.frame(lock,time,time_2)\n",
    "colnames(regressor.data)<- c(\"Lockdown\", \"time_trend_1\", \"squared_time_trend_1\")\n",
    "regressor.matrix <- data.matrix(regressor.data)\n",
    "# pred <- predict(noStructuralBreakModel, n.ahead=4, dumvar=regressor.matrix)\n",
    "pred <- predict(noStructuralBreakModel, n.ahead=4)\n",
    "logPred <- pred$fcst$Daily.Confirmed[,1]\n",
    "predictions <- exp(logPred)\n",
    "predictions\n",
    "logPred\n",
    "pred3 <- logPred\n",
    "next3 <- logPred[1]\n",
    "next3"
   ]
  },
  {
   "cell_type": "code",
   "execution_count": 383,
   "metadata": {},
   "outputs": [],
   "source": [
    "# dataTimeSeries"
   ]
  },
  {
   "cell_type": "code",
   "execution_count": 384,
   "metadata": {},
   "outputs": [],
   "source": [
    "prediction3 <- fitted(noStructuralBreakModel)[,1]\n",
    "prediction3 <- append(c(4.094345,4.330733), prediction3)"
   ]
  },
  {
   "cell_type": "markdown",
   "metadata": {},
   "source": [
    "## Model 3"
   ]
  },
  {
   "cell_type": "markdown",
   "metadata": {},
   "source": [
    "### No VAR, original model"
   ]
  },
  {
   "cell_type": "code",
   "execution_count": 385,
   "metadata": {
    "scrolled": false
   },
   "outputs": [
    {
     "name": "stdout",
     "output_type": "stream",
     "text": [
      "[1] 37\n"
     ]
    },
    {
     "data": {
      "text/html": [
       "'numeric'"
      ],
      "text/latex": [
       "'numeric'"
      ],
      "text/markdown": [
       "'numeric'"
      ],
      "text/plain": [
       "[1] \"numeric\""
      ]
     },
     "metadata": {},
     "output_type": "display_data"
    },
    {
     "data": {
      "text/html": [
       "<ol class=list-inline>\n",
       "\t<li>0</li>\n",
       "\t<li>0</li>\n",
       "\t<li>0</li>\n",
       "\t<li>0</li>\n",
       "\t<li>0</li>\n",
       "\t<li>1</li>\n",
       "\t<li>1</li>\n",
       "\t<li>1</li>\n",
       "\t<li>1</li>\n",
       "\t<li>1</li>\n",
       "\t<li>1</li>\n",
       "\t<li>1</li>\n",
       "\t<li>1</li>\n",
       "\t<li>1</li>\n",
       "\t<li>1</li>\n",
       "\t<li>1</li>\n",
       "\t<li>1</li>\n",
       "\t<li>1</li>\n",
       "\t<li>1</li>\n",
       "\t<li>1</li>\n",
       "\t<li>1</li>\n",
       "\t<li>1</li>\n",
       "\t<li>1</li>\n",
       "\t<li>1</li>\n",
       "\t<li>1</li>\n",
       "\t<li>1</li>\n",
       "\t<li>1</li>\n",
       "\t<li>1</li>\n",
       "\t<li>1</li>\n",
       "\t<li>1</li>\n",
       "\t<li>1</li>\n",
       "\t<li>1</li>\n",
       "\t<li>1</li>\n",
       "\t<li>1</li>\n",
       "\t<li>1</li>\n",
       "\t<li>1</li>\n",
       "\t<li>1</li>\n",
       "</ol>\n"
      ],
      "text/latex": [
       "\\begin{enumerate*}\n",
       "\\item 0\n",
       "\\item 0\n",
       "\\item 0\n",
       "\\item 0\n",
       "\\item 0\n",
       "\\item 1\n",
       "\\item 1\n",
       "\\item 1\n",
       "\\item 1\n",
       "\\item 1\n",
       "\\item 1\n",
       "\\item 1\n",
       "\\item 1\n",
       "\\item 1\n",
       "\\item 1\n",
       "\\item 1\n",
       "\\item 1\n",
       "\\item 1\n",
       "\\item 1\n",
       "\\item 1\n",
       "\\item 1\n",
       "\\item 1\n",
       "\\item 1\n",
       "\\item 1\n",
       "\\item 1\n",
       "\\item 1\n",
       "\\item 1\n",
       "\\item 1\n",
       "\\item 1\n",
       "\\item 1\n",
       "\\item 1\n",
       "\\item 1\n",
       "\\item 1\n",
       "\\item 1\n",
       "\\item 1\n",
       "\\item 1\n",
       "\\item 1\n",
       "\\end{enumerate*}\n"
      ],
      "text/markdown": [
       "1. 0\n",
       "2. 0\n",
       "3. 0\n",
       "4. 0\n",
       "5. 0\n",
       "6. 1\n",
       "7. 1\n",
       "8. 1\n",
       "9. 1\n",
       "10. 1\n",
       "11. 1\n",
       "12. 1\n",
       "13. 1\n",
       "14. 1\n",
       "15. 1\n",
       "16. 1\n",
       "17. 1\n",
       "18. 1\n",
       "19. 1\n",
       "20. 1\n",
       "21. 1\n",
       "22. 1\n",
       "23. 1\n",
       "24. 1\n",
       "25. 1\n",
       "26. 1\n",
       "27. 1\n",
       "28. 1\n",
       "29. 1\n",
       "30. 1\n",
       "31. 1\n",
       "32. 1\n",
       "33. 1\n",
       "34. 1\n",
       "35. 1\n",
       "36. 1\n",
       "37. 1\n",
       "\n",
       "\n"
      ],
      "text/plain": [
       " [1] 0 0 0 0 0 1 1 1 1 1 1 1 1 1 1 1 1 1 1 1 1 1 1 1 1 1 1 1 1 1 1 1 1 1 1 1 1"
      ]
     },
     "metadata": {},
     "output_type": "display_data"
    },
    {
     "name": "stdout",
     "output_type": "stream",
     "text": [
      "Series: dataTimeSeries \n",
      "Regression with ARIMA(1,1,0) errors \n",
      "\n",
      "Coefficients:\n",
      "          ar1   drift     xreg\n",
      "      -0.3579  0.0965  -0.1354\n",
      "s.e.   0.1611  0.0295   0.2347\n",
      "\n",
      "sigma^2 estimated as 0.05929:  log likelihood=1.27\n",
      "AIC=5.45   AICc=6.75   BIC=11.79\n",
      "\n",
      "Training set error measures:\n",
      "                      ME      RMSE       MAE       MPE     MAPE      MASE\n",
      "Training set 0.001210592 0.2299511 0.1847271 0.0480709 3.162679 0.8459725\n",
      "                    ACF1\n",
      "Training set -0.01215353\n"
     ]
    },
    {
     "data": {
      "text/plain": [
       "Series: dataTimeSeries \n",
       "Regression with ARIMA(1,1,0) errors \n",
       "\n",
       "Coefficients:\n",
       "          ar1   drift     xreg\n",
       "      -0.3579  0.0965  -0.1354\n",
       "s.e.   0.1611  0.0295   0.2347\n",
       "\n",
       "sigma^2 estimated as 0.05929:  log likelihood=1.27\n",
       "AIC=5.45   AICc=6.75   BIC=11.79"
      ]
     },
     "metadata": {},
     "output_type": "display_data"
    }
   ],
   "source": [
    "# Making two beta waala model using auto-ARIMA and new datasets\n",
    "nrows <- length(xreg.data$timeTrend)\n",
    "print(nrows)\n",
    "# Making a data with 6 columns, we can change entries according to the date\n",
    "# Format-> Lockdown|Lockdown_1|time_trend_1|squared_time_trend_1|time_trend_2|squared_time_trend_2\n",
    "modXreg.data <- xreg.data\n",
    "modXreg.data <- cbind(modXreg.data,time_trend_2=xreg.data$timeTrend,squared_time_trend_2=xreg.data$timeTrend_2)\n",
    "colnames(modXreg.data)<- c(\"Lockdown\", \"time_trend_1\", \"squared_time_trend_1\", \"time_trend_2\", \"squared_time_trend_2\")\n",
    "# modXreg.data\n",
    "\n",
    "\n",
    "lockdown <- as.numeric(xreg.data$Lockdown)\n",
    "lockdown <- lockdown-1\n",
    "class(lockdown)\n",
    "lockdown\n",
    "# ARIMA Initialisation\n",
    "dataTimeSeries <- log(as.numeric(newIndia.xts$Daily.Confirmed))\n",
    "aicLevel <- 1000\n",
    "# etaDate = today\n",
    "# regressors <- data.matrix(modXreg.data)-1\n",
    "finalModel <- auto.arima(dataTimeSeries, xreg=lockdown, method=\"ML\")\n",
    "\n",
    "# StartDate = 15th March\n",
    "# Today = 17th April\n",
    "\n",
    "# for (eta in (3:(nrows-2))){\n",
    "#     tempXreg.data <- modXreg.data\n",
    "#     for (tempEta_2 in (1:(eta-1))){\n",
    "#         tempXreg.data[tempEta_2,\"time_trend_2\"] <- 1\n",
    "#         tempXreg.data[tempEta_2,\"squared_time_trend_2\"] <- 1\n",
    "#     }\n",
    "#     for (tempEta_1 in (eta:nrows)){\n",
    "#         tempXreg.data[tempEta_1,\"time_trend_1\"] <- 1\n",
    "#         tempXreg.data[tempEta_1,\"squared_time_trend_1\"] <- 1\n",
    "#     }\n",
    "    \n",
    "#     tempXreg.matrix <- data.matrix(tempXreg.data)-1\n",
    "#     regressors <- tempXreg.matrix\n",
    "#     tempFit <- auto.arima(dataTimeSeries, xreg=regressors, method=\"ML\")\n",
    "#     if(tempFit$aicc < aicLevel){\n",
    "#         aicLevel <- tempFit$aicc\n",
    "#         etaDate <- as.Date(startDate + eta)\n",
    "#         finalModel <- tempFit\n",
    "#     }\n",
    "# }\n",
    "# print(etaDate)\n",
    "summary(finalModel)\n",
    "finalModel"
   ]
  },
  {
   "cell_type": "code",
   "execution_count": 386,
   "metadata": {},
   "outputs": [
    {
     "data": {
      "text/html": [
       "<table>\n",
       "<thead><tr><th scope=col>Lockdown</th></tr></thead>\n",
       "<tbody>\n",
       "\t<tr><td>1</td></tr>\n",
       "\t<tr><td>1</td></tr>\n",
       "\t<tr><td>1</td></tr>\n",
       "\t<tr><td>1</td></tr>\n",
       "</tbody>\n",
       "</table>\n"
      ],
      "text/latex": [
       "\\begin{tabular}{l}\n",
       " Lockdown\\\\\n",
       "\\hline\n",
       "\t 1\\\\\n",
       "\t 1\\\\\n",
       "\t 1\\\\\n",
       "\t 1\\\\\n",
       "\\end{tabular}\n"
      ],
      "text/markdown": [
       "\n",
       "Lockdown | \n",
       "|---|---|---|---|\n",
       "| 1 | \n",
       "| 1 | \n",
       "| 1 | \n",
       "| 1 | \n",
       "\n",
       "\n"
      ],
      "text/plain": [
       "     Lockdown\n",
       "[1,] 1       \n",
       "[2,] 1       \n",
       "[3,] 1       \n",
       "[4,] 1       "
      ]
     },
     "metadata": {},
     "output_type": "display_data"
    },
    {
     "name": "stdout",
     "output_type": "stream",
     "text": [
      "\n",
      "Forecast method: Regression with ARIMA(1,1,0) errors\n",
      "\n",
      "Model Information:\n",
      "Series: dataTimeSeries \n",
      "Regression with ARIMA(1,1,0) errors \n",
      "\n",
      "Coefficients:\n",
      "          ar1   drift     xreg\n",
      "      -0.3579  0.0965  -0.1354\n",
      "s.e.   0.1611  0.0295   0.2347\n",
      "\n",
      "sigma^2 estimated as 0.05929:  log likelihood=1.27\n",
      "AIC=5.45   AICc=6.75   BIC=11.79\n",
      "\n",
      "Error measures:\n",
      "                      ME      RMSE       MAE       MPE     MAPE      MASE\n",
      "Training set 0.001210592 0.2299511 0.1847271 0.0480709 3.162679 0.8459725\n",
      "                    ACF1\n",
      "Training set -0.01215353\n",
      "\n",
      "Forecasts:\n",
      "   Point Forecast    Lo 80    Hi 80    Lo 95    Hi 95\n",
      "38       7.551064 7.239020 7.863107 7.073834 8.028293\n",
      "39       7.669143 7.298307 8.039979 7.101999 8.236287\n",
      "40       7.757942 7.316037 8.199847 7.082106 8.433778\n",
      "41       7.857220 7.360862 8.353577 7.098107 8.616333\n"
     ]
    },
    {
     "data": {
      "text/plain": [
       "Time Series:\n",
       "Start = 38 \n",
       "End = 41 \n",
       "Frequency = 1 \n",
       "[1] 7.551064 7.669143 7.757942 7.857220"
      ]
     },
     "metadata": {},
     "output_type": "display_data"
    },
    {
     "data": {
      "text/plain": [
       "Time Series:\n",
       "Start = 38 \n",
       "End = 41 \n",
       "Frequency = 1 \n",
       "[1] 1902.766 2141.245 2340.084 2584.326"
      ]
     },
     "metadata": {},
     "output_type": "display_data"
    },
    {
     "data": {
      "text/plain": [
       "Time Series:\n",
       "Start = 38 \n",
       "End = 41 \n",
       "Frequency = 1 \n",
       "[1] 7.551064 7.669143 7.757942 7.857220"
      ]
     },
     "metadata": {},
     "output_type": "display_data"
    },
    {
     "data": {
      "text/html": [
       "7.55106375227242"
      ],
      "text/latex": [
       "7.55106375227242"
      ],
      "text/markdown": [
       "7.55106375227242"
      ],
      "text/plain": [
       "[1] 7.551064"
      ]
     },
     "metadata": {},
     "output_type": "display_data"
    }
   ],
   "source": [
    "# Forecasting this model\n",
    "# Forecasting the above model\n",
    "# Setting the lockdown variable for future\n",
    "lastDate <- index(newIndia.xts)[nrows]\n",
    "startDate <- index(newIndia.xts)[1]\n",
    "# today = as.Date(\"17-Apr\", format=\"%d-%b\")\n",
    "lock <- sample(1:1, 4, replace = TRUE)\n",
    "time_Before <- c(0,0,0,0)\n",
    "time <- ((as.numeric(lastDate-startDate)+2):(as.numeric(lastDate-startDate)+5))\n",
    "time_2 <- time * time\n",
    "\n",
    "# regressor.data <- data.frame(lock,time_Before,time_Before,time,time_2)\n",
    "regressor.data <- data.frame(lock)\n",
    "\n",
    "colnames(regressor.data)<- c(\"Lockdown\")\n",
    "# colnames(regressor.data)<- c(\"Lockdown\", \"time_trend_1\", \"squared_time_trend_1\", \"time_trend_2\", \"squared_time_trend_2\")\n",
    "regressor.matrix <- data.matrix(regressor.data)\n",
    "regressor.matrix\n",
    "# Forecast\n",
    "fore <- forecast(finalModel, h=4,  xreg=c(1,1,1,1))\n",
    "summary(fore)\n",
    "# plot(fore)\n",
    "(fore$mean)\n",
    "exp((fore$mean))\n",
    "pred4 <- fore$mean\n",
    "next4 <- pred4[1]\n",
    "pred4\n",
    "next4"
   ]
  },
  {
   "cell_type": "code",
   "execution_count": 387,
   "metadata": {},
   "outputs": [
    {
     "data": {
      "text/plain": [
       "Time Series:\n",
       "Start = 1 \n",
       "End = 37 \n",
       "Frequency = 1 \n",
       " [1] 4.094345 4.330733 4.234107 4.543295 4.304065 4.454347 4.290459 5.030438\n",
       " [9] 4.948760 4.744932 5.247024 5.723585 6.049733 6.186209 6.327937 6.361302\n",
       "[17] 6.405228 6.192362 6.350886 6.336826 6.700731 6.769642 6.749931 6.630683\n",
       "[25] 7.125283 6.942157 6.782192 6.966967 6.826545 7.222566 7.365180 7.122060\n",
       "[33] 7.337588 7.163947 7.418781 7.249926 7.514800"
      ]
     },
     "metadata": {},
     "output_type": "display_data"
    },
    {
     "data": {
      "text/plain": [
       "Time Series:\n",
       "Start = 1 \n",
       "End = 37 \n",
       "Frequency = 1 \n",
       " [1] 4.090347 4.200123 4.377192 4.399745 4.563700 4.385377 4.483178 4.480169\n",
       " [9] 4.896671 5.109048 4.948936 5.198392 5.684090 6.064069 6.268424 6.408272\n",
       "[17] 6.480419 6.520566 6.399600 6.425211 6.472915 6.701554 6.876037 6.888043\n",
       "[25] 6.804417 7.079333 7.138751 6.970498 7.031897 7.007857 7.211895 7.445199\n",
       "[33] 7.340125 7.391512 7.357147 7.458638 7.441413"
      ]
     },
     "metadata": {},
     "output_type": "display_data"
    }
   ],
   "source": [
    "# Finding the fitted values for this model\n",
    "fit4 <- finalModel\n",
    "fit4$x\n",
    "days <- nrows\n",
    "prediction4 <- fit4$x - fit4$residuals\n",
    "prediction4"
   ]
  },
  {
   "cell_type": "markdown",
   "metadata": {},
   "source": [
    "## Model 4"
   ]
  },
  {
   "cell_type": "markdown",
   "metadata": {},
   "source": [
    "### No structural break, just de-trend the data to find out that the residuals are white noise (do the test)"
   ]
  },
  {
   "cell_type": "code",
   "execution_count": 388,
   "metadata": {},
   "outputs": [
    {
     "name": "stdout",
     "output_type": "stream",
     "text": [
      "[1] 37\n"
     ]
    },
    {
     "data": {
      "text/plain": [
       "\n",
       "Call:\n",
       "lm(formula = dataTimeSeries ~ regressors)\n",
       "\n",
       "Residuals:\n",
       "     Min       1Q   Median       3Q      Max \n",
       "-0.47848 -0.12383 -0.03517  0.19099  0.37855 \n",
       "\n",
       "Coefficients:\n",
       "                                 Estimate Std. Error t value Pr(>|t|)    \n",
       "(Intercept)                     3.6651970  0.1216161  30.137  < 2e-16 ***\n",
       "regressorsLockdown             -0.3637240  0.1929673  -1.885   0.0683 .  \n",
       "regressorstime_trend_1          0.2235257  0.0228068   9.801 2.67e-11 ***\n",
       "regressorssquared_time_trend_1 -0.0031332  0.0005218  -6.004 9.53e-07 ***\n",
       "---\n",
       "Signif. codes:  0 '***' 0.001 '**' 0.01 '*' 0.05 '.' 0.1 ' ' 1\n",
       "\n",
       "Residual standard error: 0.2329 on 33 degrees of freedom\n",
       "Multiple R-squared:  0.9597,\tAdjusted R-squared:  0.9561 \n",
       "F-statistic: 262.1 on 3 and 33 DF,  p-value: < 2.2e-16\n"
      ]
     },
     "metadata": {},
     "output_type": "display_data"
    }
   ],
   "source": [
    "# Making two beta waala model using auto-ARIMA and new datasets\n",
    "nrows <- length(xreg.data$timeTrend)\n",
    "print(nrows)\n",
    "# Making a data with 6 columns, we can change entries according to the date\n",
    "# Format-> Lockdown|Lockdown_1|time_trend_1|squared_time_trend_1|time_trend_2|squared_time_trend_2\n",
    "modXreg.data <- xreg.data\n",
    "colnames(modXreg.data)<- c(\"Lockdown\", \"time_trend_1\", \"squared_time_trend_1\")\n",
    "\n",
    "# ARIMA Initialisation\n",
    "dataTimeSeries <- log(as.numeric(newIndia.xts$Daily.Confirmed))\n",
    "aicLevel <- 1000\n",
    "# etaDate = today\n",
    "regressors <- data.matrix(modXreg.data)-1\n",
    "finalModel <- lm(dataTimeSeries ~ regressors)\n",
    "\n",
    "summary(finalModel)"
   ]
  },
  {
   "cell_type": "code",
   "execution_count": 389,
   "metadata": {},
   "outputs": [
    {
     "name": "stdout",
     "output_type": "stream",
     "text": [
      "\n",
      "Forecast method: Linear regression model\n",
      "\n",
      "Model Information:\n",
      "\n",
      "Call:\n",
      "lm(formula = dataTimeSeries ~ regressors)\n",
      "\n",
      "Coefficients:\n",
      "                   (Intercept)              regressorsLockdown  \n",
      "                      3.665197                       -0.363724  \n",
      "        regressorstime_trend_1  regressorssquared_time_trend_1  \n",
      "                      0.223526                       -0.003133  \n",
      "\n",
      "\n",
      "Error measures:\n",
      "                        ME      RMSE       MAE        MPE     MAPE      MASE\n",
      "Training set -1.199875e-17 0.2199314 0.1830125 -0.1636253 3.218263 0.1942965\n",
      "\n",
      "Forecasts:\n",
      "  Point Forecast    Lo 80    Hi 80    Lo 95    Hi 95\n",
      "1       7.271097 6.922465 7.619728 6.728712 7.813481\n",
      "2       7.253365 6.893845 7.612885 6.694041 7.812690\n",
      "3       7.229368 6.857078 7.601658 6.650177 7.808559\n",
      "4       7.199104 6.812087 7.586120 6.597002 7.801205\n"
     ]
    },
    {
     "data": {
      "text/html": [
       "<dl class=dl-horizontal>\n",
       "\t<dt>1</dt>\n",
       "\t\t<dd>1438.12691594606</dd>\n",
       "\t<dt>2</dt>\n",
       "\t\t<dd>1412.85174069617</dd>\n",
       "\t<dt>3</dt>\n",
       "\t\t<dd>1379.35005732081</dd>\n",
       "\t<dt>4</dt>\n",
       "\t\t<dd>1338.23052937994</dd>\n",
       "</dl>\n"
      ],
      "text/latex": [
       "\\begin{description*}\n",
       "\\item[1] 1438.12691594606\n",
       "\\item[2] 1412.85174069617\n",
       "\\item[3] 1379.35005732081\n",
       "\\item[4] 1338.23052937994\n",
       "\\end{description*}\n"
      ],
      "text/markdown": [
       "1\n",
       ":   1438.126915946062\n",
       ":   1412.851740696173\n",
       ":   1379.350057320814\n",
       ":   1338.23052937994\n",
       "\n"
      ],
      "text/plain": [
       "       1        2        3        4 \n",
       "1438.127 1412.852 1379.350 1338.231 "
      ]
     },
     "metadata": {},
     "output_type": "display_data"
    }
   ],
   "source": [
    "# Forecasting the above model\n",
    "# Setting the lockdown variable for future\n",
    "lastDate <- index(newIndia.xts)[nrows]\n",
    "# today = as.Date(\"17-Apr\", format=\"%d-%b\")\n",
    "lock <- sample(1:1, 4, replace = TRUE)\n",
    "time_Before <- c(0,0,0,0)\n",
    "time <- ((as.numeric(lastDate-startDate)+2):(as.numeric(lastDate-startDate)+5))\n",
    "time_2 <- time * time\n",
    "\n",
    "# regressor.data <- data.frame(lock,time_Before,time_Before,time,time_2)\n",
    "regressor.data <- data.frame(lock,time,time_2)\n",
    "\n",
    "colnames(regressor.data)<- c(\"Lockdown\", \"time_trend_1\", \"squared_time_trend_1\")\n",
    "regressor.matrix <- data.matrix(regressor.data)\n",
    "\n",
    "# Forecast\n",
    "fore <- forecast(finalModel, h=4,  newdata=regressor.data)\n",
    "summary(fore)\n",
    "# plot(fore)\n",
    "# (fore$mean)\n",
    "exp((fore$mean))"
   ]
  },
  {
   "cell_type": "markdown",
   "metadata": {},
   "source": [
    "## Model 5"
   ]
  },
  {
   "cell_type": "markdown",
   "metadata": {},
   "source": [
    "### Detrend both daily cases and daily samples waala data, with structural break and then apply VAR"
   ]
  },
  {
   "cell_type": "code",
   "execution_count": 390,
   "metadata": {},
   "outputs": [
    {
     "name": "stdout",
     "output_type": "stream",
     "text": [
      "[1] 37\n",
      "[1] \"2020-04-01\"\n",
      "[1] \"2020-03-31\"\n"
     ]
    },
    {
     "data": {
      "text/plain": [
       "\n",
       "Call:\n",
       "lm(formula = dataTimeSeries1 ~ regressors1)\n",
       "\n",
       "Residuals:\n",
       "     Min       1Q   Median       3Q      Max \n",
       "-0.30597 -0.11543  0.00431  0.10930  0.32265 \n",
       "\n",
       "Coefficients:\n",
       "                                  Estimate Std. Error t value Pr(>|t|)    \n",
       "(Intercept)                      4.3127579  0.1734247  24.868  < 2e-16 ***\n",
       "regressors1Lockdown              0.0732656  0.1757627   0.417  0.67967    \n",
       "regressors1time_trend_1         -0.0410779  0.0698358  -0.588  0.56065    \n",
       "regressors1squared_time_trend_1  0.0101622  0.0055556   1.829  0.07701 .  \n",
       "regressors1time_trend_2          0.1402750  0.0233558   6.006 1.21e-06 ***\n",
       "regressors1squared_time_trend_2 -0.0016203  0.0004873  -3.325  0.00228 ** \n",
       "---\n",
       "Signif. codes:  0 '***' 0.001 '**' 0.01 '*' 0.05 '.' 0.1 ' ' 1\n",
       "\n",
       "Residual standard error: 0.1741 on 31 degrees of freedom\n",
       "Multiple R-squared:  0.9789,\tAdjusted R-squared:  0.9754 \n",
       "F-statistic:   287 on 5 and 31 DF,  p-value: < 2.2e-16\n"
      ]
     },
     "metadata": {},
     "output_type": "display_data"
    },
    {
     "data": {
      "text/plain": [
       "\n",
       "Call:\n",
       "lm(formula = dataTimeSeries2 ~ regressors2)\n",
       "\n",
       "Residuals:\n",
       "     Min       1Q   Median       3Q      Max \n",
       "-1.40916 -0.10739  0.06398  0.21100  0.53281 \n",
       "\n",
       "Coefficients:\n",
       "                         Estimate Std. Error t value Pr(>|t|)    \n",
       "(Intercept)              7.619858   0.187325  40.677  < 2e-16 ***\n",
       "regressors2Lockdown      0.192586   0.220064   0.875   0.3878    \n",
       "regressors2time_trend_1 -0.074281   0.031781  -2.337   0.0256 *  \n",
       "regressors2time_trend_2  0.083174   0.008485   9.802 2.66e-11 ***\n",
       "---\n",
       "Signif. codes:  0 '***' 0.001 '**' 0.01 '*' 0.05 '.' 0.1 ' ' 1\n",
       "\n",
       "Residual standard error: 0.3606 on 33 degrees of freedom\n",
       "Multiple R-squared:  0.9302,\tAdjusted R-squared:  0.9238 \n",
       "F-statistic: 146.6 on 3 and 33 DF,  p-value: < 2.2e-16\n"
      ]
     },
     "metadata": {},
     "output_type": "display_data"
    },
    {
     "data": {
      "text/html": [
       "-123.900771373623"
      ],
      "text/latex": [
       "-123.900771373623"
      ],
      "text/markdown": [
       "-123.900771373623"
      ],
      "text/plain": [
       "[1] -123.9008"
      ]
     },
     "metadata": {},
     "output_type": "display_data"
    },
    {
     "data": {
      "text/html": [
       "-71.7201733673934"
      ],
      "text/latex": [
       "-71.7201733673934"
      ],
      "text/markdown": [
       "-71.7201733673934"
      ],
      "text/plain": [
       "[1] -71.72017"
      ]
     },
     "metadata": {},
     "output_type": "display_data"
    }
   ],
   "source": [
    "# Getting time trend and lockdown effect\n",
    "nrows <- length(xreg.data$timeTrend)\n",
    "print(nrows)\n",
    "# Making a data with 6 columns, we can change entries according to the date\n",
    "# Format-> Lockdown|Lockdown_1|time_trend_1|squared_time_trend_1|time_trend_2|squared_time_trend_2\n",
    "modXreg.data1 <- xreg.data\n",
    "modXreg.data1 <- cbind(xreg.data,time_trend_2=xreg.data$timeTrend,\n",
    "                            squared_time_trend_2=xreg.data$timeTrend_2)\n",
    "colnames(modXreg.data1)<- c(\"Lockdown\", \"time_trend_1\", \"squared_time_trend_1\", \n",
    "                           \"time_trend_2\", \"squared_time_trend_2\")\n",
    "modXreg.data2 <- xreg.data[,-3]\n",
    "modXreg.data2 <- cbind(modXreg.data2,time_trend_2=xreg.data$timeTrend)\n",
    "colnames(modXreg.data2)<- c(\"Lockdown\", \"time_trend_1\", \n",
    "                           \"time_trend_2\")\n",
    "\n",
    "\n",
    "# ARIMA Initialisation\n",
    "dataTimeSeries1 <- log(as.numeric(newIndia.xts$Daily.Confirmed))\n",
    "dataTimeSeries2 <- log(as.numeric(newTesting.xts$DailySamples))\n",
    "# dataTimeSeries1\n",
    "aicLevel1 <- 1000\n",
    "aicLevel2 <- 1000\n",
    "\n",
    "for (eta in (3:(nrows-2))){\n",
    "    tempXreg.data1 <- modXreg.data1\n",
    "    tempXreg.data2 <- modXreg.data2\n",
    "    for (tempEta_2 in (1:(eta-1))){\n",
    "        tempXreg.data1[tempEta_2,\"time_trend_2\"] <- 1\n",
    "        tempXreg.data1[tempEta_2,\"squared_time_trend_2\"] <- 1\n",
    "        tempXreg.data2[tempEta_2,\"time_trend_2\"] <- 1\n",
    "    }\n",
    "    for (tempEta_1 in (eta:nrows)){\n",
    "        tempXreg.data1[tempEta_1,\"time_trend_1\"] <- 1\n",
    "        tempXreg.data1[tempEta_1,\"squared_time_trend_1\"] <- 1\n",
    "        tempXreg.data2[tempEta_1,\"time_trend_1\"] <- 1\n",
    "    }\n",
    "    \n",
    "    tempXreg.matrix1 <- data.matrix(tempXreg.data1)-1\n",
    "    regressors1 <- tempXreg.matrix1\n",
    "    tempFit1 <- lm(dataTimeSeries1 ~ regressors1)\n",
    "    if(extractAIC(tempFit1)[2] < aicLevel1){\n",
    "        aicLevel1 <- extractAIC(tempFit1)[2]\n",
    "        etaDate1 <- as.Date(startDate + eta)\n",
    "        finalModel1 <- tempFit1\n",
    "    }\n",
    "    tempXreg.matrix2 <- data.matrix(tempXreg.data2)-1\n",
    "    regressors2 <- tempXreg.matrix2\n",
    "    tempFit2 <- lm(dataTimeSeries2 ~ regressors2)\n",
    "    if(extractAIC(tempFit2)[2] < aicLevel2){\n",
    "        aicLevel2 <- extractAIC(tempFit2)[2]\n",
    "        etaDate2 <- as.Date(startDate + eta)\n",
    "        finalModel2 <- tempFit2\n",
    "    }\n",
    "}\n",
    "print(etaDate1)\n",
    "print(etaDate2) # For daily samples\n",
    "summary(finalModel1)\n",
    "summary(finalModel2)\n",
    "extractAIC(finalModel1)[2]\n",
    "extractAIC(finalModel2)[2]"
   ]
  },
  {
   "cell_type": "code",
   "execution_count": 391,
   "metadata": {},
   "outputs": [],
   "source": [
    "# par(mfrow = c(3,1)) # set up the graphics\n",
    "# acf((as.numeric(finalModel1$residuals)), main=\"Autocorrelation for Residuals of Confirmed Cases (in log)\")\n",
    "# # ccf(log(as.numeric(newIndia.xts$Daily.Confirmed)), as.numeric(newIndia.xts$Lockdown), main=\"Cross Correlation between Confirmed Cases(t+lag) and Lockdown(t)\")\n",
    "# acf((as.numeric(finalModel2$residuals)), main=\"Autocorrelation for Residuals of Daily Samples (in log)\")\n",
    "# ccf((as.numeric(finalModel1$residuals)), (as.numeric(finalModel2$residuals)), main=\"Cross Correlation between Residuals of Confirmed Cases(t+lag) and Residuals of Daily samples tested(t)\")\n",
    "# # There is high correlation for both positive and negative lags, hence we should use VAR as they both affect each other\n",
    "# # plot(finalModel1$residuals)"
   ]
  },
  {
   "cell_type": "code",
   "execution_count": 392,
   "metadata": {},
   "outputs": [
    {
     "data": {
      "text/plain": [
       "\n",
       "VAR Estimation Results:\n",
       "========================= \n",
       "Endogenous variables: ResidualsDailyCases, ResidualsDailySamples \n",
       "Deterministic variables: const \n",
       "Sample size: 36 \n",
       "Log Likelihood: 10.404 \n",
       "Roots of the characteristic polynomial:\n",
       "0.1319 0.1319\n",
       "Call:\n",
       "VAR(y = dataTimeSeries, p = 1, type = \"const\")\n",
       "\n",
       "\n",
       "Estimation results for equation ResidualsDailyCases: \n",
       "==================================================== \n",
       "ResidualsDailyCases = ResidualsDailyCases.l1 + ResidualsDailySamples.l1 + const \n",
       "\n",
       "                         Estimate Std. Error t value Pr(>|t|)  \n",
       "ResidualsDailyCases.l1    0.06428    0.17250   0.373   0.7118  \n",
       "ResidualsDailySamples.l1 -0.21715    0.07992  -2.717   0.0104 *\n",
       "const                     0.00650    0.02469   0.263   0.7940  \n",
       "---\n",
       "Signif. codes:  0 '***' 0.001 '**' 0.01 '*' 0.05 '.' 0.1 ' ' 1\n",
       "\n",
       "\n",
       "Residual standard error: 0.148 on 33 degrees of freedom\n",
       "Multiple R-Squared: 0.1996,\tAdjusted R-squared: 0.1511 \n",
       "F-statistic: 4.115 on 2 and 33 DF,  p-value: 0.02537 \n",
       "\n",
       "\n",
       "Estimation results for equation ResidualsDailySamples: \n",
       "====================================================== \n",
       "ResidualsDailySamples = ResidualsDailyCases.l1 + ResidualsDailySamples.l1 + const \n",
       "\n",
       "                         Estimate Std. Error t value Pr(>|t|)\n",
       "ResidualsDailyCases.l1    0.12662    0.40635   0.312    0.757\n",
       "ResidualsDailySamples.l1 -0.15720    0.18825  -0.835    0.410\n",
       "const                     0.01327    0.05817   0.228    0.821\n",
       "\n",
       "\n",
       "Residual standard error: 0.3487 on 33 degrees of freedom\n",
       "Multiple R-Squared: 0.02081,\tAdjusted R-squared: -0.03853 \n",
       "F-statistic: 0.3507 on 2 and 33 DF,  p-value: 0.7068 \n",
       "\n",
       "\n",
       "\n",
       "Covariance matrix of residuals:\n",
       "                      ResidualsDailyCases ResidualsDailySamples\n",
       "ResidualsDailyCases               0.02192               0.01941\n",
       "ResidualsDailySamples             0.01941               0.12162\n",
       "\n",
       "Correlation matrix of residuals:\n",
       "                      ResidualsDailyCases ResidualsDailySamples\n",
       "ResidualsDailyCases                 1.000                 0.376\n",
       "ResidualsDailySamples               0.376                 1.000\n",
       "\n"
      ]
     },
     "metadata": {},
     "output_type": "display_data"
    }
   ],
   "source": [
    "# Apply VAR on these residuals\n",
    "dataTimeSeriesDF <- data.frame(finalModel1$residuals, finalModel2$residuals)\n",
    "colnames(dataTimeSeriesDF) <- c(\"ResidualsDailyCases\", \"ResidualsDailySamples\")\n",
    "mat <- data.matrix(dataTimeSeriesDF)\n",
    "dataTimeSeries <- as.ts(mat)\n",
    "\n",
    "fit <- VAR(dataTimeSeries, p=1, type=\"const\")\n",
    "summary(fit)"
   ]
  },
  {
   "cell_type": "code",
   "execution_count": 393,
   "metadata": {
    "scrolled": false
   },
   "outputs": [
    {
     "data": {
      "text/html": [
       "<ol class=list-inline>\n",
       "\t<li>0.0529908978109329</li>\n",
       "\t<li>-0.00301175712711702</li>\n",
       "\t<li>0.00399747218914045</li>\n",
       "\t<li>0.00432009582520138</li>\n",
       "</ol>\n"
      ],
      "text/latex": [
       "\\begin{enumerate*}\n",
       "\\item 0.0529908978109329\n",
       "\\item -0.00301175712711702\n",
       "\\item 0.00399747218914045\n",
       "\\item 0.00432009582520138\n",
       "\\end{enumerate*}\n"
      ],
      "text/markdown": [
       "1. 0.0529908978109329\n",
       "2. -0.00301175712711702\n",
       "3. 0.00399747218914045\n",
       "4. 0.00432009582520138\n",
       "\n",
       "\n"
      ],
      "text/plain": [
       "[1]  0.052990898 -0.003011757  0.003997472  0.004320096"
      ]
     },
     "metadata": {},
     "output_type": "display_data"
    },
    {
     "data": {
      "text/html": [
       "<ol class=list-inline>\n",
       "\t<li>38</li>\n",
       "\t<li>39</li>\n",
       "\t<li>40</li>\n",
       "\t<li>41</li>\n",
       "</ol>\n"
      ],
      "text/latex": [
       "\\begin{enumerate*}\n",
       "\\item 38\n",
       "\\item 39\n",
       "\\item 40\n",
       "\\item 41\n",
       "\\end{enumerate*}\n"
      ],
      "text/markdown": [
       "1. 38\n",
       "2. 39\n",
       "3. 40\n",
       "4. 41\n",
       "\n",
       "\n"
      ],
      "text/plain": [
       "[1] 38 39 40 41"
      ]
     },
     "metadata": {},
     "output_type": "display_data"
    },
    {
     "name": "stdout",
     "output_type": "stream",
     "text": [
      "\n",
      "Forecast method: Linear regression model\n",
      "\n",
      "Model Information:\n",
      "\n",
      "Call:\n",
      "lm(formula = dataTimeSeries1 ~ regressors1)\n",
      "\n",
      "Coefficients:\n",
      "                    (Intercept)              regressors1Lockdown  \n",
      "                        4.31276                          0.07327  \n",
      "        regressors1time_trend_1  regressors1squared_time_trend_1  \n",
      "                       -0.04108                          0.01016  \n",
      "        regressors1time_trend_2  regressors1squared_time_trend_2  \n",
      "                        0.14028                         -0.00162  \n",
      "\n",
      "\n",
      "Error measures:\n",
      "                     ME      RMSE       MAE         MPE     MAPE      MASE\n",
      "Training set 7.2013e-17 0.1593748 0.1387286 -0.08697472 2.389211 0.1472822\n",
      "\n",
      "Forecasts:\n",
      "  Point Forecast    Lo 80    Hi 80    Lo 95    Hi 95\n",
      "1       7.376742 7.114200 7.639284 6.967827 7.785657\n",
      "2       7.392253 7.120576 7.663930 6.969111 7.815395\n",
      "3       7.404523 7.121997 7.687050 6.964483 7.844564\n",
      "4       7.413553 7.118387 7.708719 6.953826 7.873280\n"
     ]
    },
    {
     "data": {
      "text/html": [
       "<dl class=dl-horizontal>\n",
       "\t<dt>1</dt>\n",
       "\t\t<dd>7.37674201741267</dd>\n",
       "\t<dt>2</dt>\n",
       "\t\t<dd>7.39225293609956</dd>\n",
       "\t<dt>3</dt>\n",
       "\t\t<dd>7.4045232290743</dd>\n",
       "\t<dt>4</dt>\n",
       "\t\t<dd>7.4135528963369</dd>\n",
       "</dl>\n"
      ],
      "text/latex": [
       "\\begin{description*}\n",
       "\\item[1] 7.37674201741267\n",
       "\\item[2] 7.39225293609956\n",
       "\\item[3] 7.4045232290743\n",
       "\\item[4] 7.4135528963369\n",
       "\\end{description*}\n"
      ],
      "text/markdown": [
       "1\n",
       ":   7.376742017412672\n",
       ":   7.392252936099563\n",
       ":   7.40452322907434\n",
       ":   7.4135528963369\n",
       "\n"
      ],
      "text/plain": [
       "       1        2        3        4 \n",
       "7.376742 7.392253 7.404523 7.413553 "
      ]
     },
     "metadata": {},
     "output_type": "display_data"
    },
    {
     "data": {
      "text/html": [
       "<dl class=dl-horizontal>\n",
       "\t<dt>1</dt>\n",
       "\t\t<dd>1685.35737995045</dd>\n",
       "\t<dt>2</dt>\n",
       "\t\t<dd>1618.47751207977</dd>\n",
       "\t<dt>3</dt>\n",
       "\t\t<dd>1649.98372178884</dd>\n",
       "\t<dt>4</dt>\n",
       "\t\t<dd>1665.48723320592</dd>\n",
       "</dl>\n"
      ],
      "text/latex": [
       "\\begin{description*}\n",
       "\\item[1] 1685.35737995045\n",
       "\\item[2] 1618.47751207977\n",
       "\\item[3] 1649.98372178884\n",
       "\\item[4] 1665.48723320592\n",
       "\\end{description*}\n"
      ],
      "text/markdown": [
       "1\n",
       ":   1685.357379950452\n",
       ":   1618.477512079773\n",
       ":   1649.983721788844\n",
       ":   1665.48723320592\n",
       "\n"
      ],
      "text/plain": [
       "       1        2        3        4 \n",
       "1685.357 1618.478 1649.984 1665.487 "
      ]
     },
     "metadata": {},
     "output_type": "display_data"
    },
    {
     "data": {
      "text/html": [
       "<dl class=dl-horizontal>\n",
       "\t<dt>1</dt>\n",
       "\t\t<dd>1707.50044719154</dd>\n",
       "\t<dt>2</dt>\n",
       "\t\t<dd>1639.74187820443</dd>\n",
       "\t<dt>3</dt>\n",
       "\t\t<dd>1671.66203223677</dd>\n",
       "\t<dt>4</dt>\n",
       "\t\t<dd>1687.3692365322</dd>\n",
       "</dl>\n"
      ],
      "text/latex": [
       "\\begin{description*}\n",
       "\\item[1] 1707.50044719154\n",
       "\\item[2] 1639.74187820443\n",
       "\\item[3] 1671.66203223677\n",
       "\\item[4] 1687.3692365322\n",
       "\\end{description*}\n"
      ],
      "text/markdown": [
       "1\n",
       ":   1707.500447191542\n",
       ":   1639.741878204433\n",
       ":   1671.662032236774\n",
       ":   1687.3692365322\n",
       "\n"
      ],
      "text/plain": [
       "       1        2        3        4 \n",
       "1707.500 1639.742 1671.662 1687.369 "
      ]
     },
     "metadata": {},
     "output_type": "display_data"
    }
   ],
   "source": [
    "# Forecast using fit\n",
    "# Estimation with the model with structural breaks, for next four days\n",
    "# Estimate residuals first with VAR\n",
    "residualPredict <- predict(fit, n.ahead=4)\n",
    "residualsForLM <- residualPredict$fcst$ResidualsDailyCases[,1]\n",
    "residualsForLM\n",
    "\n",
    "# Add these residuals to the prediction for lm model\n",
    "# Setting the lockdown variable for future\n",
    "lastDate <- index(newIndia.xts)[nrows]\n",
    "startDate <- index(newIndia.xts)[1]\n",
    "\n",
    "# today = as.Date(\"17-Apr\", format=\"%d-%b\")\n",
    "lock <- sample(1:1, 4, replace = TRUE)\n",
    "time_Before <- c(0,0,0,0)\n",
    "time <- (((as.numeric(lastDate-startDate))+2):((as.numeric(lastDate-startDate))+5))\n",
    "time\n",
    "time_2 <- time * time\n",
    "\n",
    "regressor.data <- data.frame(lock,time_Before,time_Before,time,time_2)\n",
    "# regressor.data <- data.frame(lock,time,time_2)\n",
    "\n",
    "colnames(regressor.data)<- c(\"Lockdown\", \"time_trend_1\", \"squared_time_trend_1\", \"time_trend_2\", \"squared_time_trend_2\")\n",
    "regressor.matrix <- data.matrix(regressor.data)\n",
    "\n",
    "# Forecast\n",
    "fore <- forecast(finalModel1, h=4,  newdata=regressor.data)\n",
    "summary(fore)\n",
    "# plot(fore)\n",
    "(fore$mean)\n",
    "pred2 <- fore$mean\n",
    "variance <- var(finalModel1$residuals)\n",
    "variance <- variance/2\n",
    "exp(fore$mean + residualsForLM)\n",
    "fin <- fore$mean + residualsForLM + variance\n",
    "exp(fin)\n",
    "next2 <- fore$mean[1]\n",
    "# plot(fin)"
   ]
  },
  {
   "cell_type": "code",
   "execution_count": 394,
   "metadata": {},
   "outputs": [],
   "source": [
    "# fit$fitted.values\n",
    "res <- fitted(fit)[,1]\n",
    "# finalModel1$fitted.values\n",
    "res <- append(c(0),res)\n",
    "# res\n",
    "prediction2 <- finalModel1$fitted.values + res\n",
    "# prediction2"
   ]
  },
  {
   "cell_type": "markdown",
   "metadata": {},
   "source": [
    "## Model 6"
   ]
  },
  {
   "cell_type": "markdown",
   "metadata": {},
   "source": [
    "### Detrend both daily cases and daily samples waala data, without structural break and then apply VAR"
   ]
  },
  {
   "cell_type": "code",
   "execution_count": 395,
   "metadata": {
    "scrolled": false
   },
   "outputs": [
    {
     "name": "stdout",
     "output_type": "stream",
     "text": [
      "[1] 37\n"
     ]
    },
    {
     "data": {
      "text/plain": [
       "\n",
       "Call:\n",
       "lm(formula = dataTimeSeries1 ~ regressors1)\n",
       "\n",
       "Residuals:\n",
       "     Min       1Q   Median       3Q      Max \n",
       "-0.47848 -0.12383 -0.03517  0.19099  0.37855 \n",
       "\n",
       "Coefficients:\n",
       "                                  Estimate Std. Error t value Pr(>|t|)    \n",
       "(Intercept)                      3.6651970  0.1216161  30.137  < 2e-16 ***\n",
       "regressors1Lockdown             -0.3637240  0.1929673  -1.885   0.0683 .  \n",
       "regressors1time_trend_1          0.2235257  0.0228068   9.801 2.67e-11 ***\n",
       "regressors1squared_time_trend_1 -0.0031332  0.0005218  -6.004 9.53e-07 ***\n",
       "---\n",
       "Signif. codes:  0 '***' 0.001 '**' 0.01 '*' 0.05 '.' 0.1 ' ' 1\n",
       "\n",
       "Residual standard error: 0.2329 on 33 degrees of freedom\n",
       "Multiple R-squared:  0.9597,\tAdjusted R-squared:  0.9561 \n",
       "F-statistic: 262.1 on 3 and 33 DF,  p-value: < 2.2e-16\n"
      ]
     },
     "metadata": {},
     "output_type": "display_data"
    },
    {
     "data": {
      "text/plain": [
       "\n",
       "Call:\n",
       "lm(formula = dataTimeSeries2 ~ regressors2)\n",
       "\n",
       "Residuals:\n",
       "    Min      1Q  Median      3Q     Max \n",
       "-1.8809 -0.1880  0.1138  0.3034  0.8337 \n",
       "\n",
       "Coefficients:\n",
       "                     Estimate Std. Error t value Pr(>|t|)    \n",
       "(Intercept)           7.05778    0.23238  30.372  < 2e-16 ***\n",
       "regressors2Lockdown  -0.08509    0.30762  -0.277    0.784    \n",
       "regressors2timeTrend  0.11308    0.00985  11.480 3.03e-13 ***\n",
       "---\n",
       "Signif. codes:  0 '***' 0.001 '**' 0.01 '*' 0.05 '.' 0.1 ' ' 1\n",
       "\n",
       "Residual standard error: 0.5154 on 34 degrees of freedom\n",
       "Multiple R-squared:  0.853,\tAdjusted R-squared:  0.8444 \n",
       "F-statistic: 98.68 on 2 and 34 DF,  p-value: 6.952e-15\n"
      ]
     },
     "metadata": {},
     "output_type": "display_data"
    }
   ],
   "source": [
    "# Making two beta waala model using auto-ARIMA and new datasets\n",
    "nrows <- length(xreg.data$timeTrend)\n",
    "print(nrows)\n",
    "# Making a data with 6 columns, we can change entries according to the date\n",
    "# Format-> Lockdown|Lockdown_1|time_trend_1|squared_time_trend_1|time_trend_2|squared_time_trend_2\n",
    "modXreg.data1 <- xreg.data\n",
    "colnames(modXreg.data1)<- c(\"Lockdown\", \"time_trend_1\", \"squared_time_trend_1\")\n",
    "modXreg.data2 <- xreg.data[,-3]\n",
    "\n",
    "# # ARIMA Initialisation\n",
    "dataTimeSeries1 <- log(as.numeric(newIndia.xts$Daily.Confirmed))\n",
    "dataTimeSeries2 <- log(as.numeric(newTesting.xts$DailySamples))\n",
    "\n",
    "regressors1 <- data.matrix(modXreg.data1)-1\n",
    "regressors2 <- data.matrix(modXreg.data2)-1\n",
    "\n",
    "finalModel1 <- lm(dataTimeSeries1 ~ regressors1)\n",
    "finalModel2 <- lm(dataTimeSeries2 ~ regressors2)\n",
    "\n",
    "summary(finalModel1)\n",
    "summary(finalModel2)"
   ]
  },
  {
   "cell_type": "code",
   "execution_count": 396,
   "metadata": {},
   "outputs": [
    {
     "data": {
      "image/png": "[encoded data removed]",
      "text/plain": [
       "Plot with title \"Cross Correlation between Residuals of Confirmed Cases(t+lag) and Residuals of Daily samples tested(t)\""
      ]
     },
     "metadata": {},
     "output_type": "display_data"
    }
   ],
   "source": [
    "par(mfrow = c(3,1)) # set up the graphics\n",
    "acf((as.numeric(finalModel1$residuals)), main=\"Autocorrelation for Residuals of Confirmed Cases (in log)\")\n",
    "# ccf(log(as.numeric(newIndia.xts$Daily.Confirmed)), as.numeric(newIndia.xts$Lockdown), main=\"Cross Correlation between Confirmed Cases(t+lag) and Lockdown(t)\")\n",
    "acf((as.numeric(finalModel2$residuals)), main=\"Autocorrelation for Residuals of Daily Samples (in log)\")\n",
    "ccf((as.numeric(finalModel1$residuals)), (as.numeric(finalModel2$residuals)), main=\"Cross Correlation between Residuals of Confirmed Cases(t+lag) and Residuals of Daily samples tested(t)\")\n",
    "# There is high correlation for both positive and negative lags, hence we should use VAR as they both affect each other\n",
    "# plot(finalModel1$residuals)"
   ]
  },
  {
   "cell_type": "code",
   "execution_count": 397,
   "metadata": {
    "scrolled": true
   },
   "outputs": [
    {
     "data": {
      "text/plain": [
       "\n",
       "VAR Estimation Results:\n",
       "========================= \n",
       "Endogenous variables: ResidualsDailyCases, ResidualsDailySamples \n",
       "Deterministic variables: const \n",
       "Sample size: 35 \n",
       "Log Likelihood: -12.217 \n",
       "Roots of the characteristic polynomial:\n",
       "0.6087 0.4469 0.3715 0.03189\n",
       "Call:\n",
       "VAR(y = dataTimeSeries, p = 2, type = \"const\")\n",
       "\n",
       "\n",
       "Estimation results for equation ResidualsDailyCases: \n",
       "==================================================== \n",
       "ResidualsDailyCases = ResidualsDailyCases.l1 + ResidualsDailySamples.l1 + ResidualsDailyCases.l2 + ResidualsDailySamples.l2 + const \n",
       "\n",
       "                          Estimate Std. Error t value Pr(>|t|)\n",
       "ResidualsDailyCases.l1    0.289000   0.209140   1.382    0.177\n",
       "ResidualsDailySamples.l1 -0.030497   0.088500  -0.345    0.733\n",
       "ResidualsDailyCases.l2    0.125413   0.205410   0.611    0.546\n",
       "ResidualsDailySamples.l2  0.027162   0.089173   0.305    0.763\n",
       "const                    -0.008519   0.037757  -0.226    0.823\n",
       "\n",
       "\n",
       "Residual standard error: 0.2222 on 30 degrees of freedom\n",
       "Multiple R-Squared: 0.122,\tAdjusted R-squared: 0.00488 \n",
       "F-statistic: 1.042 on 4 and 30 DF,  p-value: 0.4022 \n",
       "\n",
       "\n",
       "Estimation results for equation ResidualsDailySamples: \n",
       "====================================================== \n",
       "ResidualsDailySamples = ResidualsDailyCases.l1 + ResidualsDailySamples.l1 + ResidualsDailyCases.l2 + ResidualsDailySamples.l2 + const \n",
       "\n",
       "                          Estimate Std. Error t value Pr(>|t|)\n",
       "ResidualsDailyCases.l1   -0.382565   0.456250  -0.839    0.408\n",
       "ResidualsDailySamples.l1  0.276251   0.193067   1.431    0.163\n",
       "ResidualsDailyCases.l2    0.754142   0.448112   1.683    0.103\n",
       "ResidualsDailySamples.l2  0.137636   0.194535   0.708    0.485\n",
       "const                    -0.007503   0.082368  -0.091    0.928\n",
       "\n",
       "\n",
       "Residual standard error: 0.4848 on 30 degrees of freedom\n",
       "Multiple R-Squared: 0.219,\tAdjusted R-squared: 0.1148 \n",
       "F-statistic: 2.103 on 4 and 30 DF,  p-value: 0.1052 \n",
       "\n",
       "\n",
       "\n",
       "Covariance matrix of residuals:\n",
       "                      ResidualsDailyCases ResidualsDailySamples\n",
       "ResidualsDailyCases               0.04938               0.04719\n",
       "ResidualsDailySamples             0.04719               0.23501\n",
       "\n",
       "Correlation matrix of residuals:\n",
       "                      ResidualsDailyCases ResidualsDailySamples\n",
       "ResidualsDailyCases                1.0000                0.4381\n",
       "ResidualsDailySamples              0.4381                1.0000\n",
       "\n"
      ]
     },
     "metadata": {},
     "output_type": "display_data"
    }
   ],
   "source": [
    "# Apply VAR on these residuals\n",
    "dataTimeSeriesDF <- data.frame(finalModel1$residuals, finalModel2$residuals)\n",
    "colnames(dataTimeSeriesDF) <- c(\"ResidualsDailyCases\", \"ResidualsDailySamples\")\n",
    "mat <- data.matrix(dataTimeSeriesDF)\n",
    "dataTimeSeries <- as.ts(mat)\n",
    "\n",
    "fit <- VAR(dataTimeSeries, p=2, type=\"const\")\n",
    "summary(fit)"
   ]
  },
  {
   "cell_type": "code",
   "execution_count": 398,
   "metadata": {},
   "outputs": [
    {
     "data": {
      "text/html": [
       "<ol class=list-inline>\n",
       "\t<li>0.0536885201443812</li>\n",
       "\t<li>0.0338646640618933</li>\n",
       "\t<li>-0.000523411668963459</li>\n",
       "\t<li>-0.00370443625412106</li>\n",
       "</ol>\n"
      ],
      "text/latex": [
       "\\begin{enumerate*}\n",
       "\\item 0.0536885201443812\n",
       "\\item 0.0338646640618933\n",
       "\\item -0.000523411668963459\n",
       "\\item -0.00370443625412106\n",
       "\\end{enumerate*}\n"
      ],
      "text/markdown": [
       "1. 0.0536885201443812\n",
       "2. 0.0338646640618933\n",
       "3. -0.000523411668963459\n",
       "4. -0.00370443625412106\n",
       "\n",
       "\n"
      ],
      "text/plain": [
       "[1]  0.0536885201  0.0338646641 -0.0005234117 -0.0037044363"
      ]
     },
     "metadata": {},
     "output_type": "display_data"
    },
    {
     "name": "stdout",
     "output_type": "stream",
     "text": [
      "\n",
      "Forecast method: Linear regression model\n",
      "\n",
      "Model Information:\n",
      "\n",
      "Call:\n",
      "lm(formula = dataTimeSeries1 ~ regressors1)\n",
      "\n",
      "Coefficients:\n",
      "                    (Intercept)              regressors1Lockdown  \n",
      "                       3.665197                        -0.363724  \n",
      "        regressors1time_trend_1  regressors1squared_time_trend_1  \n",
      "                       0.223526                        -0.003133  \n",
      "\n",
      "\n",
      "Error measures:\n",
      "                       ME      RMSE       MAE        MPE     MAPE      MASE\n",
      "Training set 7.201373e-17 0.2199314 0.1830125 -0.1636253 3.218263 0.1942965\n",
      "\n",
      "Forecasts:\n",
      "  Point Forecast    Lo 80    Hi 80    Lo 95    Hi 95\n",
      "1       7.271097 6.922465 7.619728 6.728712 7.813481\n",
      "2       7.253365 6.893845 7.612885 6.694041 7.812690\n",
      "3       7.229368 6.857078 7.601658 6.650177 7.808559\n",
      "4       7.199104 6.812087 7.586120 6.597002 7.801205\n"
     ]
    },
    {
     "data": {
      "text/html": [
       "<dl class=dl-horizontal>\n",
       "\t<dt>1</dt>\n",
       "\t\t<dd>7.27109679304154</dd>\n",
       "\t<dt>2</dt>\n",
       "\t\t<dd>7.25336545198217</dd>\n",
       "\t<dt>3</dt>\n",
       "\t\t<dd>7.22936769425272</dd>\n",
       "\t<dt>4</dt>\n",
       "\t\t<dd>7.1991035198532</dd>\n",
       "</dl>\n"
      ],
      "text/latex": [
       "\\begin{description*}\n",
       "\\item[1] 7.27109679304154\n",
       "\\item[2] 7.25336545198217\n",
       "\\item[3] 7.22936769425272\n",
       "\\item[4] 7.1991035198532\n",
       "\\end{description*}\n"
      ],
      "text/markdown": [
       "1\n",
       ":   7.271096793041542\n",
       ":   7.253365451982173\n",
       ":   7.229367694252724\n",
       ":   7.1991035198532\n",
       "\n"
      ],
      "text/plain": [
       "       1        2        3        4 \n",
       "7.271097 7.253365 7.229368 7.199104 "
      ]
     },
     "metadata": {},
     "output_type": "display_data"
    },
    {
     "data": {
      "text/html": [
       "<dl class=dl-horizontal>\n",
       "\t<dt>1</dt>\n",
       "\t\t<dd>1517.44808759578</dd>\n",
       "\t<dt>2</dt>\n",
       "\t\t<dd>1461.51685337384</dd>\n",
       "\t<dt>3</dt>\n",
       "\t\t<dd>1378.62827831548</dd>\n",
       "\t<dt>4</dt>\n",
       "\t\t<dd>1333.28231052983</dd>\n",
       "</dl>\n"
      ],
      "text/latex": [
       "\\begin{description*}\n",
       "\\item[1] 1517.44808759578\n",
       "\\item[2] 1461.51685337384\n",
       "\\item[3] 1378.62827831548\n",
       "\\item[4] 1333.28231052983\n",
       "\\end{description*}\n"
      ],
      "text/markdown": [
       "1\n",
       ":   1517.448087595782\n",
       ":   1461.516853373843\n",
       ":   1378.628278315484\n",
       ":   1333.28231052983\n",
       "\n"
      ],
      "text/plain": [
       "       1        2        3        4 \n",
       "1517.448 1461.517 1378.628 1333.282 "
      ]
     },
     "metadata": {},
     "output_type": "display_data"
    },
    {
     "data": {
      "text/html": [
       "<dl class=dl-horizontal>\n",
       "\t<dt>1</dt>\n",
       "\t\t<dd>1555.6395448568</dd>\n",
       "\t<dt>2</dt>\n",
       "\t\t<dd>1498.30062139738</dd>\n",
       "\t<dt>3</dt>\n",
       "\t\t<dd>1413.32588899522</dd>\n",
       "\t<dt>4</dt>\n",
       "\t\t<dd>1366.83864421644</dd>\n",
       "</dl>\n"
      ],
      "text/latex": [
       "\\begin{description*}\n",
       "\\item[1] 1555.6395448568\n",
       "\\item[2] 1498.30062139738\n",
       "\\item[3] 1413.32588899522\n",
       "\\item[4] 1366.83864421644\n",
       "\\end{description*}\n"
      ],
      "text/markdown": [
       "1\n",
       ":   1555.63954485682\n",
       ":   1498.300621397383\n",
       ":   1413.325888995224\n",
       ":   1366.83864421644\n",
       "\n"
      ],
      "text/plain": [
       "       1        2        3        4 \n",
       "1555.640 1498.301 1413.326 1366.839 "
      ]
     },
     "metadata": {},
     "output_type": "display_data"
    },
    {
     "data": {
      "text/html": [
       "<strong>1:</strong> 7.27109679304154"
      ],
      "text/latex": [
       "\\textbf{1:} 7.27109679304154"
      ],
      "text/markdown": [
       "**1:** 7.27109679304154"
      ],
      "text/plain": [
       "       1 \n",
       "7.271097 "
      ]
     },
     "metadata": {},
     "output_type": "display_data"
    }
   ],
   "source": [
    "# Forecast using fit\n",
    "# Estimation with the model with structural breaks, for next four days\n",
    "# Estimate residuals first with VAR\n",
    "residualPredict <- predict(fit, n.ahead=4)\n",
    "residualsForLM <- residualPredict$fcst$ResidualsDailyCases[,1]\n",
    "residualsForLM\n",
    "\n",
    "# Add these residuals to the prediction for lm model\n",
    "# Setting the lockdown variable for future\n",
    "lastDate <- index(newIndia.xts)[nrows]\n",
    "startDate <- index(newIndia.xts)[1]\n",
    "\n",
    "# today = as.Date(\"17-Apr\", format=\"%d-%b\")\n",
    "lock <- sample(1:1, 4, replace = TRUE)\n",
    "time_Before <- c(0,0,0,0)\n",
    "time <- (((as.numeric(lastDate-startDate))+2):((as.numeric(lastDate-startDate))+5))\n",
    "time_2 <- time * time\n",
    "\n",
    "regressor.data <- data.frame(lock,time,time_2)\n",
    "# regressor.data <- data.frame(lock,time,time_2)\n",
    "\n",
    "\n",
    "colnames(regressor.data)<- c(\"Lockdown\", \"time_trend_1\", \"squared_time_trend_1\")\n",
    "regressor.matrix <- data.matrix(regressor.data)\n",
    "\n",
    "# Forecast\n",
    "fore <- forecast(finalModel1, newdata=regressor.data)\n",
    "# fore\n",
    "variance <- var(finalModel1$residuals)\n",
    "variance <- variance/2\n",
    "summary(fore)\n",
    "# plot(fore)\n",
    "(fore$mean)\n",
    "pred1 <- fore$mean\n",
    "fin <- fore$mean + residualsForLM + variance\n",
    "exp(fore$mean + residualsForLM)\n",
    "exp(fin)\n",
    "next1 <- fore$mean[1]\n",
    "next1\n",
    "# # plot(fin)"
   ]
  },
  {
   "cell_type": "code",
   "execution_count": 370,
   "metadata": {},
   "outputs": [],
   "source": [
    "# fit$fitted.values\n",
    "res <- fitted(fit)[,1]\n",
    "# finalModel1$fitted.values\n",
    "res <- append(c(0,0),res)\n",
    "# res\n",
    "prediction1 <- finalModel1$fitted.values + res\n",
    "# prediction1"
   ]
  },
  {
   "cell_type": "markdown",
   "metadata": {},
   "source": [
    "## Model 55555"
   ]
  },
  {
   "cell_type": "code",
   "execution_count": 371,
   "metadata": {},
   "outputs": [
    {
     "data": {
      "text/plain": [
       "\n",
       "Call:\n",
       "lm(formula = timeseries ~ prediction1 + prediction2 + prediction3 + \n",
       "    prediction4)\n",
       "\n",
       "Residuals:\n",
       "      Min        1Q    Median        3Q       Max \n",
       "-0.237723 -0.114269  0.001517  0.107420  0.232270 \n",
       "\n",
       "Coefficients:\n",
       "            Estimate Std. Error t value Pr(>|t|)    \n",
       "(Intercept)  -0.1835     0.3040  -0.604    0.550    \n",
       "prediction1   0.1148     0.2577   0.445    0.659    \n",
       "prediction2   0.9303     0.1535   6.061 6.43e-07 ***\n",
       "prediction3   0.3926     0.8055   0.487    0.629    \n",
       "prediction4  -0.4087     0.7463  -0.548    0.587    \n",
       "---\n",
       "Signif. codes:  0 '***' 0.001 '**' 0.01 '*' 0.05 '.' 0.1 ' ' 1\n",
       "\n",
       "Residual standard error: 0.1485 on 35 degrees of freedom\n",
       "Multiple R-squared:  0.9843,\tAdjusted R-squared:  0.9826 \n",
       "F-statistic: 550.1 on 4 and 35 DF,  p-value: < 2.2e-16\n"
      ]
     },
     "metadata": {},
     "output_type": "display_data"
    }
   ],
   "source": [
    "timeseries <- log(as.numeric(newIndia.xts$Daily.Confirmed))\n",
    "model5 <- lm(timeseries~prediction1+prediction2+prediction3+prediction4)\n",
    "summary(model5)"
   ]
  },
  {
   "cell_type": "code",
   "execution_count": 372,
   "metadata": {},
   "outputs": [
    {
     "name": "stdout",
     "output_type": "stream",
     "text": [
      "\n",
      "Forecast method: Linear regression model\n",
      "\n",
      "Model Information:\n",
      "\n",
      "Call:\n",
      "lm(formula = timeseries ~ prediction1 + prediction2 + prediction3 + \n",
      "    prediction4)\n",
      "\n",
      "Coefficients:\n",
      "(Intercept)  prediction1  prediction2  prediction3  prediction4  \n",
      "    -0.1835       0.1148       0.9303       0.3926      -0.4087  \n",
      "\n",
      "\n",
      "Error measures:\n",
      "             ME      RMSE       MAE         MPE     MAPE      MASE\n",
      "Training set  0 0.1389128 0.1170672 -0.06259618 1.920611 0.1248613\n",
      "\n",
      "Forecasts:\n",
      "  Point Forecast    Lo 80    Hi 80    Lo 95    Hi 95\n",
      "1       7.427225 7.219444 7.635007 7.104293 7.750158\n",
      "2       7.414022 7.192276 7.635768 7.069386 7.758659\n",
      "3       7.388895 7.138638 7.639152 6.999947 7.777844\n",
      "4       7.363250 7.074641 7.651859 6.914695 7.811804\n"
     ]
    },
    {
     "data": {
      "text/html": [
       "<dl class=dl-horizontal>\n",
       "\t<dt>1</dt>\n",
       "\t\t<dd>1697.85528419092</dd>\n",
       "\t<dt>2</dt>\n",
       "\t\t<dd>1675.58586374724</dd>\n",
       "\t<dt>3</dt>\n",
       "\t\t<dd>1634.00776109468</dd>\n",
       "\t<dt>4</dt>\n",
       "\t\t<dd>1592.6359682115</dd>\n",
       "</dl>\n"
      ],
      "text/latex": [
       "\\begin{description*}\n",
       "\\item[1] 1697.85528419092\n",
       "\\item[2] 1675.58586374724\n",
       "\\item[3] 1634.00776109468\n",
       "\\item[4] 1592.6359682115\n",
       "\\end{description*}\n"
      ],
      "text/markdown": [
       "1\n",
       ":   1697.855284190922\n",
       ":   1675.585863747243\n",
       ":   1634.007761094684\n",
       ":   1592.6359682115\n",
       "\n"
      ],
      "text/plain": [
       "       1        2        3        4 \n",
       "1697.855 1675.586 1634.008 1592.636 "
      ]
     },
     "metadata": {},
     "output_type": "display_data"
    }
   ],
   "source": [
    "# Forecasting from this model, four day forecast\n",
    "# firstPred <- c(7.27109679304154, 7.25336545198217, 7.22936769425272, 7.1991035198532)\n",
    "# secondPred <- c(7.37674201741267, 7.39225293609956, 7.4045232290743, 7.4135528963369)\n",
    "# thirdPred <- c(7.47524026189765, 7.54666330110434, 7.56727872054963, 7.6066872817164)\n",
    "# fourthPred <- c(7.686426, 7.804505, 7.893304, 7.992581)\n",
    "regressor.data <- data.frame(pred1, pred2, pred3, pred4)\n",
    "colnames(regressor.data) <- c(\"prediction1\", \"prediction2\", \"prediction3\", \"prediction4\")\n",
    "fore <- forecast(model5, newdata=regressor.data)\n",
    "summary(fore)\n",
    "variance <- var(fore$residuals)\n",
    "variance <- variance/2\n",
    "preds <- fore$mean + variance\n",
    "exp(preds)"
   ]
  },
  {
   "cell_type": "code",
   "execution_count": 373,
   "metadata": {},
   "outputs": [
    {
     "name": "stdout",
     "output_type": "stream",
     "text": [
      "\n",
      "Forecast method: Linear regression model\n",
      "\n",
      "Model Information:\n",
      "\n",
      "Call:\n",
      "lm(formula = timeseries ~ prediction1 + prediction2 + prediction3 + \n",
      "    prediction4)\n",
      "\n",
      "Coefficients:\n",
      "(Intercept)  prediction1  prediction2  prediction3  prediction4  \n",
      "    -0.1835       0.1148       0.9303       0.3926      -0.4087  \n",
      "\n",
      "\n",
      "Error measures:\n",
      "             ME      RMSE       MAE         MPE     MAPE      MASE\n",
      "Training set  0 0.1389128 0.1170672 -0.06259618 1.920611 0.1248613\n",
      "\n",
      "Forecasts:\n",
      "  Point Forecast    Lo 80    Hi 80    Lo 95    Hi 95\n",
      "1       7.427225 7.219444 7.635007 7.104293 7.750158\n"
     ]
    },
    {
     "data": {
      "text/html": [
       "1697.85528419092"
      ],
      "text/latex": [
       "1697.85528419092"
      ],
      "text/markdown": [
       "1697.85528419092"
      ],
      "text/plain": [
       "[1] 1697.855"
      ]
     },
     "metadata": {},
     "output_type": "display_data"
    }
   ],
   "source": [
    "regressor.data <- data.frame(next1, next2, next3, next4)\n",
    "colnames(regressor.data) <- c(\"prediction1\", \"prediction2\", \"prediction3\", \"prediction4\")\n",
    "fore <- forecast(model5, newdata=regressor.data)\n",
    "summary(fore)\n",
    "variance <- var(fore$residuals)\n",
    "variance <- variance/2\n",
    "preds <- fore$mean + variance\n",
    "exp(preds)"
   ]
  },
  {
   "cell_type": "code",
   "execution_count": null,
   "metadata": {},
   "outputs": [],
   "source": []
  }
 ],
 "metadata": {
  "kernelspec": {
   "display_name": "R",
   "language": "R",
   "name": "ir"
  },
  "language_info": {
   "codemirror_mode": "r",
   "file_extension": ".r",
   "mimetype": "text/x-r-source",
   "name": "R",
   "pygments_lexer": "r",
   "version": "3.5.1"
  }
 },
 "nbformat": 4,
 "nbformat_minor": 2
}
