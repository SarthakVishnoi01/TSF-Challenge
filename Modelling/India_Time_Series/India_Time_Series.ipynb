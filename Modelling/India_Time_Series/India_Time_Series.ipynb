{
 "cells": [
  {
   "cell_type": "code",
   "execution_count": 20,
   "metadata": {},
   "outputs": [
    {
     "name": "stderr",
     "output_type": "stream",
     "text": [
      "Installing package into 'C:/Users/Sarthak Vishnoi/Documents/R/win-library/3.5'\n",
      "(as 'lib' is unspecified)\n"
     ]
    },
    {
     "name": "stdout",
     "output_type": "stream",
     "text": [
      "package 'deSolve' successfully unpacked and MD5 sums checked\n",
      "\n",
      "The downloaded binary packages are in\n",
      "\tC:\\Users\\Sarthak Vishnoi\\AppData\\Local\\Temp\\RtmpMjDrAx\\downloaded_packages\n"
     ]
    }
   ],
   "source": [
    "# # Installing Packages\n",
    "# options(repos = c(CRAN=\"https://cloud.r-project.org\"))\n",
    "# install.packages(c('deSolve'))"
   ]
  },
  {
   "cell_type": "code",
   "execution_count": 40,
   "metadata": {},
   "outputs": [],
   "source": [
    "library(dynlm)\n",
    "library(car)\n",
    "library(carData)\n",
    "library(zoo)\n",
    "library(xts)\n",
    "library(tsbox)\n",
    "library(tseries)\n",
    "library(forecast)"
   ]
  },
  {
   "cell_type": "markdown",
   "metadata": {},
   "source": [
    "## Making the xts object"
   ]
  },
  {
   "cell_type": "code",
   "execution_count": 2,
   "metadata": {},
   "outputs": [
    {
     "data": {
      "text/html": [
       "<table>\n",
       "<thead><tr><th scope=col>Date</th><th scope=col>Daily.Confirmed</th><th scope=col>Total.Confirmed</th><th scope=col>Daily.Recovered</th><th scope=col>Total.Recovered</th><th scope=col>Daily.Deceased</th><th scope=col>Total.Deceased</th><th scope=col>Lockdown</th></tr></thead>\n",
       "<tbody>\n",
       "\t<tr><td>30-Jan</td><td>1     </td><td>1     </td><td>0     </td><td>0     </td><td>0     </td><td>0     </td><td>0     </td></tr>\n",
       "\t<tr><td>31-Jan</td><td>0     </td><td>1     </td><td>0     </td><td>0     </td><td>0     </td><td>0     </td><td>0     </td></tr>\n",
       "\t<tr><td>01-Feb</td><td>0     </td><td>1     </td><td>0     </td><td>0     </td><td>0     </td><td>0     </td><td>0     </td></tr>\n",
       "\t<tr><td>02-Feb</td><td>1     </td><td>2     </td><td>0     </td><td>0     </td><td>0     </td><td>0     </td><td>0     </td></tr>\n",
       "\t<tr><td>03-Feb</td><td>1     </td><td>3     </td><td>0     </td><td>0     </td><td>0     </td><td>0     </td><td>0     </td></tr>\n",
       "\t<tr><td>04-Feb</td><td>0     </td><td>3     </td><td>0     </td><td>0     </td><td>0     </td><td>0     </td><td>0     </td></tr>\n",
       "</tbody>\n",
       "</table>\n"
      ],
      "text/latex": [
       "\\begin{tabular}{r|llllllll}\n",
       " Date & Daily.Confirmed & Total.Confirmed & Daily.Recovered & Total.Recovered & Daily.Deceased & Total.Deceased & Lockdown\\\\\n",
       "\\hline\n",
       "\t 30-Jan & 1      & 1      & 0      & 0      & 0      & 0      & 0     \\\\\n",
       "\t 31-Jan & 0      & 1      & 0      & 0      & 0      & 0      & 0     \\\\\n",
       "\t 01-Feb & 0      & 1      & 0      & 0      & 0      & 0      & 0     \\\\\n",
       "\t 02-Feb & 1      & 2      & 0      & 0      & 0      & 0      & 0     \\\\\n",
       "\t 03-Feb & 1      & 3      & 0      & 0      & 0      & 0      & 0     \\\\\n",
       "\t 04-Feb & 0      & 3      & 0      & 0      & 0      & 0      & 0     \\\\\n",
       "\\end{tabular}\n"
      ],
      "text/markdown": [
       "\n",
       "Date | Daily.Confirmed | Total.Confirmed | Daily.Recovered | Total.Recovered | Daily.Deceased | Total.Deceased | Lockdown | \n",
       "|---|---|---|---|---|---|\n",
       "| 30-Jan | 1      | 1      | 0      | 0      | 0      | 0      | 0      | \n",
       "| 31-Jan | 0      | 1      | 0      | 0      | 0      | 0      | 0      | \n",
       "| 01-Feb | 0      | 1      | 0      | 0      | 0      | 0      | 0      | \n",
       "| 02-Feb | 1      | 2      | 0      | 0      | 0      | 0      | 0      | \n",
       "| 03-Feb | 1      | 3      | 0      | 0      | 0      | 0      | 0      | \n",
       "| 04-Feb | 0      | 3      | 0      | 0      | 0      | 0      | 0      | \n",
       "\n",
       "\n"
      ],
      "text/plain": [
       "  Date   Daily.Confirmed Total.Confirmed Daily.Recovered Total.Recovered\n",
       "1 30-Jan 1               1               0               0              \n",
       "2 31-Jan 0               1               0               0              \n",
       "3 01-Feb 0               1               0               0              \n",
       "4 02-Feb 1               2               0               0              \n",
       "5 03-Feb 1               3               0               0              \n",
       "6 04-Feb 0               3               0               0              \n",
       "  Daily.Deceased Total.Deceased Lockdown\n",
       "1 0              0              0       \n",
       "2 0              0              0       \n",
       "3 0              0              0       \n",
       "4 0              0              0       \n",
       "5 0              0              0       \n",
       "6 0              0              0       "
      ]
     },
     "metadata": {},
     "output_type": "display_data"
    }
   ],
   "source": [
    "# Making an xts object for the data\n",
    "india <- as.data.frame(read.csv(\"../../Data/India_Time_Series.csv\", sep = \",\", colClasses=c(\"character\",\"numeric\", \"numeric\", \"numeric\", \"numeric\", \"numeric\", \"numeric\", \"numeric\")))\n",
    "head(india)\n",
    "india$Date <- as.Date(india$Date , format = \"%d-%b\")\n",
    "india.xts <- xts(india, order.by=india$Date)\n",
    "india.xts <- india.xts[, colnames(india.xts) != \"Date\"]"
   ]
  },
  {
   "cell_type": "markdown",
   "metadata": {},
   "source": [
    "## Plotting the relevant Data"
   ]
  },
  {
   "cell_type": "code",
   "execution_count": 3,
   "metadata": {
    "scrolled": false
   },
   "outputs": [
    {
     "data": {
      "image/png": "[encoded data removed]",
      "text/plain": [
       "Plot with title \"Daily Deaths in India\""
      ]
     },
     "metadata": {},
     "output_type": "display_data"
    }
   ],
   "source": [
    "# Plotting Daily Data\n",
    "par(mfrow = c(3,1)) # set up the graphics\n",
    "plot(index(india.xts), india.xts$Daily.Confirmed, type=\"o\", col=\"blue\", pch=\"o\", lty=1, main=\"Daily Cases in India\", ylab=\"Number of new Cases\", xlab=\"Date\")\n",
    "plot(index(india.xts), india.xts$Daily.Recovered, type=\"o\", col=\"red\", pch=\"o\", lty=1, main=\"Daily Recoveries in India\", ylab=\"Number of new Recoveries\", xlab=\"Date\")\n",
    "plot(index(india.xts), india.xts$Daily.Deceased, type=\"o\", col=\"green\", pch=\"o\", lty=1, main=\"Daily Deaths in India\", ylab=\"Number of new Deaths\", xlab=\"Date\")"
   ]
  },
  {
   "cell_type": "code",
   "execution_count": 4,
   "metadata": {},
   "outputs": [
    {
     "data": {
      "image/png": "[encoded data removed]",
      "text/plain": [
       "Plot with title \"Total Deaths in India\""
      ]
     },
     "metadata": {},
     "output_type": "display_data"
    }
   ],
   "source": [
    "# Plotting Total Data\n",
    "par(mfrow = c(3,1)) # set up the graphics\n",
    "plot(index(india.xts), india.xts$Total.Confirmed, type=\"o\", col=\"blue\", pch=\"o\", lty=1, main=\"Total Cases in India\", ylab=\"Number of total Cases\", xlab=\"Date\")\n",
    "plot(index(india.xts), india.xts$Total.Recovered, type=\"o\", col=\"red\", pch=\"o\", lty=1, main=\"Total Recoveries in India\", ylab=\"Number of total Recoveries\", xlab=\"Date\")\n",
    "plot(index(india.xts), india.xts$Total.Deceased, type=\"o\", col=\"green\", pch=\"o\", lty=1, main=\"Total Deaths in India\", ylab=\"Number of total Deaths\", xlab=\"Date\")"
   ]
  },
  {
   "cell_type": "markdown",
   "metadata": {},
   "source": [
    "##### Let's start the time series data from 20th March, as there is little information before that"
   ]
  },
  {
   "cell_type": "code",
   "execution_count": 5,
   "metadata": {
    "scrolled": false
   },
   "outputs": [
    {
     "data": {
      "image/png": "[encoded data removed]",
      "text/plain": [
       "Plot with title \"Daily Deaths in India\""
      ]
     },
     "metadata": {},
     "output_type": "display_data"
    },
    {
     "data": {
      "image/png": "[encoded data removed]",
      "text/plain": [
       "Plot with title \"Daily Deaths in India (Log)\""
      ]
     },
     "metadata": {},
     "output_type": "display_data"
    },
    {
     "data": {
      "image/png": "[encoded data removed]",
      "text/plain": [
       "Plot with title \"Total Deaths in India\""
      ]
     },
     "metadata": {},
     "output_type": "display_data"
    }
   ],
   "source": [
    "startDate <- as.Date(\"15-Mar\" , format = \"%d-%b\")\n",
    "newIndia.xts <- subset(india.xts, index(india.xts)>=startDate)\n",
    "# newIndia.xts$Total.Confirmed <- as.numeric(newIndia.xts$Total.Confirmed)\n",
    "\n",
    "# Plotting for newIndia\n",
    "par(mfrow = c(3,1)) # set up the graphics\n",
    "plot(index(newIndia.xts), newIndia.xts$Daily.Confirmed, type=\"o\", col=\"blue\", pch=\"o\", lty=1, main=\"Daily Cases in India\", ylab=\"Number of new Cases\", xlab=\"Date\")\n",
    "plot(index(newIndia.xts), newIndia.xts$Daily.Recovered, type=\"o\", col=\"red\", pch=\"o\", lty=1, main=\"Daily Recoveries in India\", ylab=\"Number of new Recoveries\", xlab=\"Date\")\n",
    "plot(index(newIndia.xts), newIndia.xts$Daily.Deceased, type=\"o\", col=\"green\", pch=\"o\", lty=1, main=\"Daily Deaths in India\", ylab=\"Number of new Deaths\", xlab=\"Date\")\n",
    "\n",
    "par(mfrow = c(3,1)) # set up the graphics\n",
    "plot(index(newIndia.xts), log(as.numeric(newIndia.xts$Daily.Confirmed)), type=\"o\", col=\"blue\", pch=\"o\", lty=1, main=\"Daily Cases in India (Log)\", ylab=\"Log of Number of new Cases\", xlab=\"Date\")\n",
    "plot(index(newIndia.xts), log(as.numeric(newIndia.xts$Daily.Recovered)), type=\"o\", col=\"red\", pch=\"o\", lty=1, main=\"Daily Recoveries in India (Log)\", ylab=\"Log of Number of new Recoveries\", xlab=\"Date\")\n",
    "plot(index(newIndia.xts), log(as.numeric(newIndia.xts$Daily.Deceased)), type=\"o\", col=\"green\", pch=\"o\", lty=1, main=\"Daily Deaths in India (Log)\", ylab=\"Log of Number of new Deaths\", xlab=\"Date\")\n",
    "\n",
    "par(mfrow = c(3,1)) # set up the graphics\n",
    "plot(index(newIndia.xts), newIndia.xts$Total.Confirmed, type=\"o\", col=\"blue\", pch=\"o\", lty=1, main=\"Total Cases in India\", ylab=\"Number of total Cases\", xlab=\"Date\")\n",
    "plot(index(newIndia.xts), newIndia.xts$Total.Recovered, type=\"o\", col=\"red\", pch=\"o\", lty=1, main=\"Total Recoveries in India\", ylab=\"Number of total Recoveries\", xlab=\"Date\")\n",
    "plot(index(newIndia.xts), newIndia.xts$Total.Deceased, type=\"o\", col=\"green\", pch=\"o\", lty=1, main=\"Total Deaths in India\", ylab=\"Number of total Deaths\", xlab=\"Date\")"
   ]
  },
  {
   "cell_type": "markdown",
   "metadata": {},
   "source": [
    "## Time Series Model for Daily New Cases(with and without lockdown)"
   ]
  },
  {
   "cell_type": "markdown",
   "metadata": {},
   "source": [
    "### Autocorrelation plot"
   ]
  },
  {
   "cell_type": "code",
   "execution_count": 6,
   "metadata": {},
   "outputs": [
    {
     "data": {
      "image/png": "[encoded data removed]",
      "text/plain": [
       "Plot with title \"Cross Correlation between Confirmed Cases(t+lag) and Lockdown(t)\""
      ]
     },
     "metadata": {},
     "output_type": "display_data"
    }
   ],
   "source": [
    "par(mfrow = c(2,1)) # set up the graphics\n",
    "acf(log(as.numeric(newIndia.xts$Daily.Confirmed)), main=\"Autocorrelation for Confirmed Cases\")\n",
    "# acf(as.numeric(newIndia.xts$Lockdown), main=\"Autocorrelation for Lockdown\")\n",
    "ccf(as.numeric(newIndia.xts$Daily.Confirmed), as.numeric(newIndia.xts$Lockdown), main=\"Cross Correlation between Confirmed Cases(t+lag) and Lockdown(t)\")\n",
    "\n",
    "# d <- coredata(dailyConfirmed.xts)[, 'Daily.Confirmed']\n",
    "# ccf(as.numeric((coredata(dailyConfirmed.xts)[, 'Lockdown'])), as.numeric((coredata(dailyConfirmed.xts)[, 'Daily.Confirmed'])))"
   ]
  },
  {
   "cell_type": "code",
   "execution_count": 24,
   "metadata": {},
   "outputs": [
    {
     "data": {
      "text/html": [
       "<table>\n",
       "<thead><tr><th scope=col>Lockdown</th><th scope=col>timeTrend</th><th scope=col>timeTrend_2</th></tr></thead>\n",
       "<tbody>\n",
       "\t<tr><td>0   </td><td> 1  </td><td>   1</td></tr>\n",
       "\t<tr><td>0   </td><td> 2  </td><td>   4</td></tr>\n",
       "\t<tr><td>0   </td><td> 3  </td><td>   9</td></tr>\n",
       "\t<tr><td>0   </td><td> 4  </td><td>  16</td></tr>\n",
       "\t<tr><td>0   </td><td> 5  </td><td>  25</td></tr>\n",
       "\t<tr><td>0   </td><td> 6  </td><td>  36</td></tr>\n",
       "\t<tr><td>0   </td><td> 7  </td><td>  49</td></tr>\n",
       "\t<tr><td>0   </td><td> 8  </td><td>  64</td></tr>\n",
       "\t<tr><td>0   </td><td> 9  </td><td>  81</td></tr>\n",
       "\t<tr><td>0   </td><td>10  </td><td> 100</td></tr>\n",
       "\t<tr><td>1   </td><td>11  </td><td> 121</td></tr>\n",
       "\t<tr><td>1   </td><td>12  </td><td> 144</td></tr>\n",
       "\t<tr><td>1   </td><td>13  </td><td> 169</td></tr>\n",
       "\t<tr><td>1   </td><td>14  </td><td> 196</td></tr>\n",
       "\t<tr><td>1   </td><td>15  </td><td> 225</td></tr>\n",
       "\t<tr><td>1   </td><td>16  </td><td> 256</td></tr>\n",
       "\t<tr><td>1   </td><td>17  </td><td> 289</td></tr>\n",
       "\t<tr><td>1   </td><td>18  </td><td> 324</td></tr>\n",
       "\t<tr><td>1   </td><td>19  </td><td> 361</td></tr>\n",
       "\t<tr><td>1   </td><td>20  </td><td> 400</td></tr>\n",
       "\t<tr><td>1   </td><td>21  </td><td> 441</td></tr>\n",
       "\t<tr><td>1   </td><td>22  </td><td> 484</td></tr>\n",
       "\t<tr><td>1   </td><td>23  </td><td> 529</td></tr>\n",
       "\t<tr><td>1   </td><td>24  </td><td> 576</td></tr>\n",
       "\t<tr><td>1   </td><td>25  </td><td> 625</td></tr>\n",
       "\t<tr><td>1   </td><td>26  </td><td> 676</td></tr>\n",
       "\t<tr><td>1   </td><td>27  </td><td> 729</td></tr>\n",
       "\t<tr><td>1   </td><td>28  </td><td> 784</td></tr>\n",
       "\t<tr><td>1   </td><td>29  </td><td> 841</td></tr>\n",
       "\t<tr><td>1   </td><td>30  </td><td> 900</td></tr>\n",
       "\t<tr><td>1   </td><td>31  </td><td> 961</td></tr>\n",
       "\t<tr><td>1   </td><td>32  </td><td>1024</td></tr>\n",
       "</tbody>\n",
       "</table>\n"
      ],
      "text/latex": [
       "\\begin{tabular}{lll}\n",
       " Lockdown & timeTrend & timeTrend\\_2\\\\\n",
       "\\hline\n",
       "\t 0    &  1   &    1\\\\\n",
       "\t 0    &  2   &    4\\\\\n",
       "\t 0    &  3   &    9\\\\\n",
       "\t 0    &  4   &   16\\\\\n",
       "\t 0    &  5   &   25\\\\\n",
       "\t 0    &  6   &   36\\\\\n",
       "\t 0    &  7   &   49\\\\\n",
       "\t 0    &  8   &   64\\\\\n",
       "\t 0    &  9   &   81\\\\\n",
       "\t 0    & 10   &  100\\\\\n",
       "\t 1    & 11   &  121\\\\\n",
       "\t 1    & 12   &  144\\\\\n",
       "\t 1    & 13   &  169\\\\\n",
       "\t 1    & 14   &  196\\\\\n",
       "\t 1    & 15   &  225\\\\\n",
       "\t 1    & 16   &  256\\\\\n",
       "\t 1    & 17   &  289\\\\\n",
       "\t 1    & 18   &  324\\\\\n",
       "\t 1    & 19   &  361\\\\\n",
       "\t 1    & 20   &  400\\\\\n",
       "\t 1    & 21   &  441\\\\\n",
       "\t 1    & 22   &  484\\\\\n",
       "\t 1    & 23   &  529\\\\\n",
       "\t 1    & 24   &  576\\\\\n",
       "\t 1    & 25   &  625\\\\\n",
       "\t 1    & 26   &  676\\\\\n",
       "\t 1    & 27   &  729\\\\\n",
       "\t 1    & 28   &  784\\\\\n",
       "\t 1    & 29   &  841\\\\\n",
       "\t 1    & 30   &  900\\\\\n",
       "\t 1    & 31   &  961\\\\\n",
       "\t 1    & 32   & 1024\\\\\n",
       "\\end{tabular}\n"
      ],
      "text/markdown": [
       "\n",
       "Lockdown | timeTrend | timeTrend_2 | \n",
       "|---|---|---|---|---|---|---|---|---|---|---|---|---|---|---|---|---|---|---|---|---|---|---|---|---|---|---|---|---|---|---|---|\n",
       "| 0    |  1   |    1 | \n",
       "| 0    |  2   |    4 | \n",
       "| 0    |  3   |    9 | \n",
       "| 0    |  4   |   16 | \n",
       "| 0    |  5   |   25 | \n",
       "| 0    |  6   |   36 | \n",
       "| 0    |  7   |   49 | \n",
       "| 0    |  8   |   64 | \n",
       "| 0    |  9   |   81 | \n",
       "| 0    | 10   |  100 | \n",
       "| 1    | 11   |  121 | \n",
       "| 1    | 12   |  144 | \n",
       "| 1    | 13   |  169 | \n",
       "| 1    | 14   |  196 | \n",
       "| 1    | 15   |  225 | \n",
       "| 1    | 16   |  256 | \n",
       "| 1    | 17   |  289 | \n",
       "| 1    | 18   |  324 | \n",
       "| 1    | 19   |  361 | \n",
       "| 1    | 20   |  400 | \n",
       "| 1    | 21   |  441 | \n",
       "| 1    | 22   |  484 | \n",
       "| 1    | 23   |  529 | \n",
       "| 1    | 24   |  576 | \n",
       "| 1    | 25   |  625 | \n",
       "| 1    | 26   |  676 | \n",
       "| 1    | 27   |  729 | \n",
       "| 1    | 28   |  784 | \n",
       "| 1    | 29   |  841 | \n",
       "| 1    | 30   |  900 | \n",
       "| 1    | 31   |  961 | \n",
       "| 1    | 32   | 1024 | \n",
       "\n",
       "\n"
      ],
      "text/plain": [
       "      Lockdown timeTrend timeTrend_2\n",
       " [1,] 0         1           1       \n",
       " [2,] 0         2           4       \n",
       " [3,] 0         3           9       \n",
       " [4,] 0         4          16       \n",
       " [5,] 0         5          25       \n",
       " [6,] 0         6          36       \n",
       " [7,] 0         7          49       \n",
       " [8,] 0         8          64       \n",
       " [9,] 0         9          81       \n",
       "[10,] 0        10         100       \n",
       "[11,] 1        11         121       \n",
       "[12,] 1        12         144       \n",
       "[13,] 1        13         169       \n",
       "[14,] 1        14         196       \n",
       "[15,] 1        15         225       \n",
       "[16,] 1        16         256       \n",
       "[17,] 1        17         289       \n",
       "[18,] 1        18         324       \n",
       "[19,] 1        19         361       \n",
       "[20,] 1        20         400       \n",
       "[21,] 1        21         441       \n",
       "[22,] 1        22         484       \n",
       "[23,] 1        23         529       \n",
       "[24,] 1        24         576       \n",
       "[25,] 1        25         625       \n",
       "[26,] 1        26         676       \n",
       "[27,] 1        27         729       \n",
       "[28,] 1        28         784       \n",
       "[29,] 1        29         841       \n",
       "[30,] 1        30         900       \n",
       "[31,] 1        31         961       \n",
       "[32,] 1        32        1024       "
      ]
     },
     "metadata": {},
     "output_type": "display_data"
    }
   ],
   "source": [
    "# From the ccf plot above, lockdown at lag 0 to 10 is in significant region, let's put it in out model and see\n",
    "\n",
    "# Date objects\n",
    "DayZero <- as.Date(\"25-Mar\" , format = \"%d-%b\")\n",
    "DayOne <- as.Date(\"26-Mar\" , format = \"%d-%b\")\n",
    "DayTwo <- as.Date(\"27-Mar\" , format = \"%d-%b\")\n",
    "DayThree <- as.Date(\"28-Mar\" , format = \"%d-%b\")\n",
    "DayFour <- as.Date(\"29-Mar\" , format = \"%d-%b\")\n",
    "DayFive <- as.Date(\"30-Mar\" , format = \"%d-%b\")\n",
    "DaySix <- as.Date(\"31-Mar\" , format = \"%d-%b\")\n",
    "DaySeven <- as.Date(\"1-Apr\" , format = \"%d-%b\")\n",
    "DayEight <- as.Date(\"2-Apr\" , format = \"%d-%b\")\n",
    "DayNine <- as.Date(\"3-Apr\" , format = \"%d-%b\")\n",
    "DayTen <- as.Date(\"4-Apr\" , format = \"%d-%b\")\n",
    "DayEleven <- as.Date(\"5-Apr\", format = \"%d-%b\")\n",
    "\n",
    "# Creating columns\n",
    "l1 <- (newIndia.xts$Lockdown)\n",
    "l2 <- (newIndia.xts$Lockdown)\n",
    "l3 <- (newIndia.xts$Lockdown)\n",
    "l4 <- (newIndia.xts$Lockdown)\n",
    "l5 <- (newIndia.xts$Lockdown)\n",
    "l6 <- (newIndia.xts$Lockdown)\n",
    "l7 <- (newIndia.xts$Lockdown)\n",
    "l8 <- (newIndia.xts$Lockdown)\n",
    "l9 <- (newIndia.xts$Lockdown)\n",
    "l10 <- (newIndia.xts$Lockdown)\n",
    "l11 <- (newIndia.xts$Lockdown)\n",
    "\n",
    "l1 <- replace(l1, index(l1)<DayOne, \"0\")\n",
    "l2 <- replace(l2, index(l2)<DayTwo, \"0\")\n",
    "l3 <- replace(l3, index(l3)<DayThree, \"0\")\n",
    "l4 <- replace(l4, index(l4)<DayFour, \"0\")\n",
    "l5 <- replace(l5, index(l5)<DayFive, \"0\")\n",
    "l6 <- replace(l6, index(l6)<DaySix, \"0\")\n",
    "l7 <- replace(l7, index(l7)<DaySeven, \"0\")\n",
    "l8 <- replace(l8, index(l8)<DayEight, \"0\")\n",
    "l9 <- replace(l9, index(l9)<DayNine, \"0\")\n",
    "l10 <- replace(l10, index(l10)<DayTen, \"0\")\n",
    "l11 <- replace(l11, index(l11)<DayEleven, \"0\")\n",
    "\n",
    "# Adding columns to newIndia.xts\n",
    "newIndia.xts$Lockdown_1 <- l1\n",
    "newIndia.xts$Lockdown_2 <- l2\n",
    "newIndia.xts$Lockdown_3 <- l3\n",
    "newIndia.xts$Lockdown_4 <- l4\n",
    "newIndia.xts$Lockdown_5 <- l5\n",
    "newIndia.xts$Lockdown_6 <- l6\n",
    "newIndia.xts$Lockdown_7 <- l7\n",
    "newIndia.xts$Lockdown_8 <- l8\n",
    "newIndia.xts$Lockdown_9 <- l9\n",
    "newIndia.xts$Lockdown_10 <- l10\n",
    "newIndia.xts$Lockdown_11 <- l11\n",
    "\n",
    "# Making the Data\n",
    "# xreg.data <- data.frame(coredata(newIndia.xts$Lockdown), coredata(newIndia.xts$Lockdown_1), coredata(newIndia.xts$Lockdown_2), \n",
    "#                         coredata(newIndia.xts$Lockdown_3), coredata(newIndia.xts$Lockdown_4), coredata(newIndia.xts$Lockdown_5),\n",
    "#                         coredata(newIndia.xts$Lockdown_6), coredata(newIndia.xts$Lockdown_7), coredata(newIndia.xts$Lockdown_8)\n",
    "#                        , coredata(newIndia.xts$Lockdown_9), coredata(newIndia.xts$Lockdown_10))\n",
    "\n",
    "# Making time squared trend to be fit\n",
    "# Adding plus 1 kyunki baadme vo subtract ho jaayega\n",
    "timeTrend_2 <- (1:length(index(newIndia.xts))) ^2 + 1\n",
    "timeTrend <- (1:length(index(newIndia.xts))) + 1\n",
    "\n",
    "xreg.data <- data.frame(coredata(newIndia.xts$Lockdown), timeTrend, timeTrend_2)\n",
    "\n",
    "xreg.data.matrix <- data.matrix(xreg.data)-1\n",
    "xreg.data.matrix"
   ]
  },
  {
   "cell_type": "code",
   "execution_count": 8,
   "metadata": {},
   "outputs": [
    {
     "data": {
      "text/html": [
       "<ol class=list-inline>\n",
       "\t<li>33</li>\n",
       "\t<li>34</li>\n",
       "\t<li>35</li>\n",
       "\t<li>36</li>\n",
       "</ol>\n"
      ],
      "text/latex": [
       "\\begin{enumerate*}\n",
       "\\item 33\n",
       "\\item 34\n",
       "\\item 35\n",
       "\\item 36\n",
       "\\end{enumerate*}\n"
      ],
      "text/markdown": [
       "1. 33\n",
       "2. 34\n",
       "3. 35\n",
       "4. 36\n",
       "\n",
       "\n"
      ],
      "text/plain": [
       "[1] 33 34 35 36"
      ]
     },
     "metadata": {},
     "output_type": "display_data"
    },
    {
     "data": {
      "text/html": [
       "<ol class=list-inline>\n",
       "\t<li>1089</li>\n",
       "\t<li>1156</li>\n",
       "\t<li>1225</li>\n",
       "\t<li>1296</li>\n",
       "</ol>\n"
      ],
      "text/latex": [
       "\\begin{enumerate*}\n",
       "\\item 1089\n",
       "\\item 1156\n",
       "\\item 1225\n",
       "\\item 1296\n",
       "\\end{enumerate*}\n"
      ],
      "text/markdown": [
       "1. 1089\n",
       "2. 1156\n",
       "3. 1225\n",
       "4. 1296\n",
       "\n",
       "\n"
      ],
      "text/plain": [
       "[1] 1089 1156 1225 1296"
      ]
     },
     "metadata": {},
     "output_type": "display_data"
    },
    {
     "data": {
      "text/html": [
       "<ol class=list-inline>\n",
       "\t<li>35937</li>\n",
       "\t<li>39304</li>\n",
       "\t<li>42875</li>\n",
       "\t<li>46656</li>\n",
       "</ol>\n"
      ],
      "text/latex": [
       "\\begin{enumerate*}\n",
       "\\item 35937\n",
       "\\item 39304\n",
       "\\item 42875\n",
       "\\item 46656\n",
       "\\end{enumerate*}\n"
      ],
      "text/markdown": [
       "1. 35937\n",
       "2. 39304\n",
       "3. 42875\n",
       "4. 46656\n",
       "\n",
       "\n"
      ],
      "text/plain": [
       "[1] 35937 39304 42875 46656"
      ]
     },
     "metadata": {},
     "output_type": "display_data"
    }
   ],
   "source": [
    "today = as.Date(\"17-Apr\", format=\"%d-%b\")\n",
    "time <- (as.numeric(today-startDate):(as.numeric(today-startDate)+3))\n",
    "time_2 <- time * time\n",
    "time_3 <- time_2 * time\n",
    "time\n",
    "time_2\n",
    "time_3"
   ]
  },
  {
   "cell_type": "code",
   "execution_count": 9,
   "metadata": {},
   "outputs": [
    {
     "name": "stdout",
     "output_type": "stream",
     "text": [
      "[1] \"a\"\n"
     ]
    }
   ],
   "source": [
    "x <- 1\n",
    "x <- \"a\"\n",
    "print(x)"
   ]
  },
  {
   "cell_type": "code",
   "execution_count": 10,
   "metadata": {},
   "outputs": [
    {
     "data": {
      "text/plain": [
       "Series: dataTimeSeries \n",
       "Regression with ARIMA(0,0,0) errors \n",
       "\n",
       "Coefficients:\n",
       "      intercept  Lockdown  Lockdown_1  timeTrend  timeTrend_2\n",
       "         1.7221   -0.6264     -0.1156     0.3688      -0.0058\n",
       "s.e.     0.1638    0.2761      0.2638     0.0314       0.0008\n",
       "\n",
       "sigma^2 estimated as 0.06798:  log likelihood=0.33\n",
       "AIC=11.34   AICc=14.7   BIC=20.14"
      ]
     },
     "metadata": {},
     "output_type": "display_data"
    },
    {
     "data": {
      "text/plain": [
       "Time Series:\n",
       "Start = 33 \n",
       "End = 36 \n",
       "Frequency = 1 \n",
       "[1] 962.1636 945.3594 918.1969 881.5878"
      ]
     },
     "metadata": {},
     "output_type": "display_data"
    },
    {
     "data": {
      "image/png": "[encoded data removed]",
      "text/plain": [
       "Plot with title \"Forecasts from Regression with ARIMA(0,0,0) errors\""
      ]
     },
     "metadata": {},
     "output_type": "display_data"
    }
   ],
   "source": [
    "# India time series model, with variables like today's lockdown and 14 day before lockdown\n",
    "# From the log curve we see a -x^2 trend too, maybe we can try to fit time square in the model\n",
    "\n",
    "# Setting the time series and the regressors\n",
    "dataTimeSeries <- log(as.numeric(newIndia.xts$Daily.Confirmed))\n",
    "regressors <- xreg.data.matrix\n",
    "\n",
    "# Fitting the model\n",
    "fit <- auto.arima(dataTimeSeries, xreg=regressors, method=\"ML\")\n",
    "fit\n",
    "\n",
    "# Custom ARIMA\n",
    "# fit1 <- Arima(dataTimeSeries, order=c(0,1,0), xreg=regressors, method=\"ML\",)\n",
    "# fit1\n",
    "\n",
    "# Setting the lockdown variable for future\n",
    "today = as.Date(\"17-Apr\", format=\"%d-%b\")\n",
    "lock <- sample(1:1, 4, replace = TRUE)\n",
    "time <- (as.numeric(today-startDate):(as.numeric(today-startDate)+3))\n",
    "time_2 <- time * time\n",
    "lock.data <- data.frame(lock,lock,time,time_2)\n",
    "colnames(lock.data)<- c(\"Lockdown\",\"Lockdown_1\", \"timeTrend\", \"timeTrend_2\")\n",
    "lock.matrix <- data.matrix(lock.data)\n",
    "\n",
    "# Forecast\n",
    "fore <- forecast(fit, level=80,  xreg=lock.matrix)\n",
    "plot(fore)\n",
    "# (fore$mean)\n",
    "exp((fore$mean))"
   ]
  },
  {
   "cell_type": "code",
   "execution_count": 11,
   "metadata": {
    "scrolled": true
   },
   "outputs": [],
   "source": [
    "# # India time series model, with variables like today's lockdown and 14 day before lockdown\n",
    "\n",
    "# # Setting the time series and the regressors\n",
    "# dataTimeSeries <- log(as.numeric(newIndia.xts$Daily.Confirmed))\n",
    "# regressors <- xreg.data.matrix\n",
    "\n",
    "# # Fitting the model\n",
    "# fit <- auto.arima(log(as.numeric(newIndia.xts$Daily.Confirmed)), xreg=(xreg.data.matrix))\n",
    "# fit\n",
    "\n",
    "# # fit1 <- Arima(log(as.numeric(newIndia.xts$Daily.Confirmed)), order=c(0,1,0), xreg=(xreg.data.matrix), method=\"ML\",)\n",
    "# # fit1\n",
    "# # fit1$aicc\n",
    "# # fit$order\n",
    "\n",
    "# # lock.data <- data.frame(lock,lock,lock,lock,lock,lock,lock,lock,lock,lock,lock)\n",
    "# # colnames(lock.data)<- c(\"Lockdown\",\"Lockdown_1\",\"Lockdown_2\",\"Lockdown_3\",\"Lockdown_4\",\"Lockdown_5\",\"Lockdown_6\"\n",
    "# #                        ,\"Lockdown_7\",\"Lockdown_8\",\"Lockdown_9\",\"Lockdown_10\")\n",
    "\n",
    "# # Setting the lockdown variable for future\n",
    "# lock <- sample(1:1, 4, replace = TRUE)\n",
    "# lock.data <- data.frame(lock,lock)\n",
    "# colnames(lock.data)<- c(\"Lockdown\",\"Lockdown_1\")\n",
    "# lock.matrix <- data.matrix(lock.data)\n",
    "# # lock.matrix\n",
    "# # dim(lock.matrix)\n",
    "# # fit1$x\n",
    "# # residuals(fit1)\n",
    "# # lock\n",
    "\n",
    "# # Forecast\n",
    "# fore <- forecast(fit1, level=0,  xreg=lock.matrix)\n",
    "# # fore$model\n",
    "# # fore\n",
    "# plot(fore)\n",
    "# # exp(fore$lower)\n",
    "# # exp(fore$upper)\n",
    "# # (fore$mean)\n",
    "# exp((fore$mean))\n",
    "# # plot(fore)\n",
    "# # fit1$coef"
   ]
  },
  {
   "cell_type": "code",
   "execution_count": 12,
   "metadata": {
    "scrolled": false
   },
   "outputs": [
    {
     "ename": "ERROR",
     "evalue": "Error in residuals(fit1): object 'fit1' not found\n",
     "output_type": "error",
     "traceback": [
      "Error in residuals(fit1): object 'fit1' not found\nTraceback:\n",
      "1. acf(residuals(fit1), main = \"Autocorrelation for Residuals\")",
      "2. na.action(as.ts(x))",
      "3. as.ts(x)",
      "4. residuals(fit1)"
     ]
    }
   ],
   "source": [
    "# Plotting residuals\n",
    "par(mfrow = c(3,1)) # set up the graphics\n",
    "pacf(log(as.numeric(newIndia.xts$Daily.Confirmed)), main=\"Partial Autocorrelation for Confirmed Cases\")\n",
    "acf(residuals(fit1), main=\"Autocorrelation for Residuals\")\n",
    "ccf(log(as.numeric(newIndia.xts$Daily.Confirmed)), residuals(fit1) , main=\"Cross Correlation between Confirmed Cases(t+lag) and Residuals(t)\")\n"
   ]
  },
  {
   "cell_type": "code",
   "execution_count": 13,
   "metadata": {
    "scrolled": true
   },
   "outputs": [
    {
     "ename": "ERROR",
     "evalue": "Error in solve.default(res$hessian * n.used, A): system is computationally singular: reciprocal condition number = 4.93836e-33\n",
     "output_type": "error",
     "traceback": [
      "Error in solve.default(res$hessian * n.used, A): system is computationally singular: reciprocal condition number = 4.93836e-33\nTraceback:\n",
      "1. Arima(timeSeries, order = c(tempP, tempD, tempQ), xreg = regressors, \n .     include.mean = tempIncludeMean, include.drift = tempIncludeDrift, \n .     include.constant = tempIncludeConstant, method = \"ML\")",
      "2. suppressWarnings(tmp <- stats::arima(x = x, order = order, seasonal = seasonal, \n .     xreg = xreg, include.mean = include.mean, method = method, \n .     ...))",
      "3. withCallingHandlers(expr, warning = function(w) invokeRestart(\"muffleWarning\"))",
      "4. stats::arima(x = x, order = order, seasonal = seasonal, xreg = xreg, \n .     include.mean = include.mean, method = method, ...)",
      "5. crossprod(A, solve(res$hessian * n.used, A))",
      "6. solve(res$hessian * n.used, A)",
      "7. solve.default(res$hessian * n.used, A)"
     ]
    }
   ],
   "source": [
    "# Writing a function to automatically select the best model based on AIC criterion/ can also do on forecasts(maybe after a couple of days, on saturday)\n",
    "tempAIC <- 10000\n",
    "iteration1 <- c(0,1,2,3)\n",
    "iteration2 <- c(0,1,2)\n",
    "trueOrFalse <- c(TRUE, FALSE)\n",
    "p <- 0\n",
    "d <- 0\n",
    "q <- 0\n",
    "includeMean <- FALSE\n",
    "includeConstant <- FALSE\n",
    "includeDrift <- FALSE\n",
    "count <- 0\n",
    "timeSeries <- log(as.numeric(newIndia.xts$Daily.Confirmed))\n",
    "regressors <- xreg.data.matrix\n",
    "\n",
    "for (tempP in iteration1){\n",
    "    for (tempD in iteration2){\n",
    "        for(tempQ in iteration1){\n",
    "            for(tempIncludeMean in trueOrFalse){\n",
    "                for(tempIncludeConstant in trueOrFalse){\n",
    "                    for(tempIncludeDrift in trueOrFalse){\n",
    "                        tempFit <- Arima(timeSeries, order=c(tempP,tempD,tempQ), xreg=regressors, include.mean=tempIncludeMean,\n",
    "                                        include.drift=tempIncludeDrift, include.constant=tempIncludeConstant, method=\"ML\")\n",
    "                        if(tempFit$aicc < tempAIC){\n",
    "                            tempAIC <- tempFit$aicc\n",
    "                            p <- tempP\n",
    "                            d <- tempD\n",
    "                            q <- tempQ\n",
    "                            includeMean <- tempIncludeMean\n",
    "                            includeConstant <- tempIncludeConstant\n",
    "                            includeDrift <- tempIncludeDrift\n",
    "                        }\n",
    "                    }\n",
    "                }\n",
    "            }\n",
    "        }\n",
    "    }\n",
    "}\n",
    "print(tempAIC)\n",
    "print(p)\n",
    "print(d)\n",
    "print(q)\n",
    "print(includeMean)\n",
    "print(includeConstant)\n",
    "print(includeDrift)"
   ]
  },
  {
   "cell_type": "code",
   "execution_count": 14,
   "metadata": {},
   "outputs": [
    {
     "name": "stdout",
     "output_type": "stream",
     "text": [
      "Series: timeSeries \n",
      "Regression with ARIMA(0,0,0) errors \n",
      "\n",
      "Coefficients:\n",
      "      Lockdown  Lockdown_1  timeTrend  timeTrend_2\n",
      "       -1.3225     -0.7007     0.6610      -0.0123\n",
      "s.e.    0.5658      0.5442     0.0308       0.0009\n",
      "\n",
      "sigma^2 estimated as 0.2921:  log likelihood=-23.58\n",
      "AIC=57.16   AICc=59.46   BIC=64.49\n",
      "\n",
      "Training set error measures:\n",
      "                    ME      RMSE       MAE      MPE     MAPE     MASE      ACF1\n",
      "Training set 0.1151004 0.5055438 0.3702091 5.122252 10.07489 1.406224 0.6906736\n"
     ]
    },
    {
     "ename": "ERROR",
     "evalue": "Error in forecast(fit1, level = 80, xreg = lock.matrix): object 'fit1' not found\n",
     "output_type": "error",
     "traceback": [
      "Error in forecast(fit1, level = 80, xreg = lock.matrix): object 'fit1' not found\nTraceback:\n",
      "1. forecast(fit1, level = 80, xreg = lock.matrix)"
     ]
    }
   ],
   "source": [
    "fit <- Arima(timeSeries, order=c(p,d,q), xreg=regressors, include.mean=includeMean,\n",
    "                                        include.drift=includeDrift, include.constant=includeConstant, method=\"ML\")\n",
    "summary(fit)\n",
    "lock.data <- data.frame(lock,lock)\n",
    "colnames(lock.data)<- c(\"Lockdown\",\"Lockdown_1\")\n",
    "lock.matrix <- data.matrix(lock.data)\n",
    "fore <- forecast(fit1, level=80,  xreg=lock.matrix)\n",
    "plot(fore)\n",
    "exp((fore$mean))"
   ]
  },
  {
   "cell_type": "code",
   "execution_count": null,
   "metadata": {},
   "outputs": [],
   "source": [
    "forecast(finalModel, )"
   ]
  },
  {
   "cell_type": "code",
   "execution_count": 28,
   "metadata": {
    "scrolled": true
   },
   "outputs": [
    {
     "name": "stdout",
     "output_type": "stream",
     "text": [
      "[1] 32\n"
     ]
    },
    {
     "data": {
      "text/plain": [
       "\n",
       "Call:\n",
       "lm(formula = dataTimeSeries ~ regressors)\n",
       "\n",
       "Residuals:\n",
       "     Min       1Q   Median       3Q      Max \n",
       "-0.51800 -0.16106  0.03514  0.18591  0.36887 \n",
       "\n",
       "Coefficients:\n",
       "                                 Estimate Std. Error t value Pr(>|t|)    \n",
       "(Intercept)                     1.7372660  0.1716433  10.121 7.37e-11 ***\n",
       "regressorsLockdown             -0.7085987  0.2173547  -3.260  0.00292 ** \n",
       "regressorstime_trend_1          0.3656993  0.0327990  11.150 8.26e-12 ***\n",
       "regressorssquared_time_trend_1 -0.0057219  0.0007882  -7.259 6.66e-08 ***\n",
       "---\n",
       "Signif. codes:  0 '***' 0.001 '**' 0.01 '*' 0.05 '.' 0.1 ' ' 1\n",
       "\n",
       "Residual standard error: 0.2568 on 28 degrees of freedom\n",
       "Multiple R-squared:  0.9718,\tAdjusted R-squared:  0.9688 \n",
       "F-statistic: 322.1 on 3 and 28 DF,  p-value: < 2.2e-16\n"
      ]
     },
     "metadata": {},
     "output_type": "display_data"
    }
   ],
   "source": [
    "# Making two beta waala model using auto-ARIMA and new datasets\n",
    "nrows <- length(xreg.data$timeTrend)\n",
    "print(nrows)\n",
    "# Making a data with 6 columns, we can change entries according to the date\n",
    "# Format-> Lockdown|Lockdown_1|time_trend_1|squared_time_trend_1|time_trend_2|squared_time_trend_2\n",
    "modXreg.data <- xreg.data\n",
    "# modXreg.data <- cbind(xreg.data,time_trend_2=xreg.data$timeTrend,squared_time_trend_2=xreg.data$timeTrend_2)\n",
    "colnames(modXreg.data)<- c(\"Lockdown\", \"time_trend_1\", \"squared_time_trend_1\")\n",
    "# modXreg.data\n",
    "\n",
    "# ARIMA Initialisation\n",
    "dataTimeSeries <- log(as.numeric(newIndia.xts$Daily.Confirmed))\n",
    "aicLevel <- 1000\n",
    "# etaDate = today\n",
    "regressors <- data.matrix(modXreg.data)-1\n",
    "finalModel <- lm(dataTimeSeries ~ regressors)\n",
    "\n",
    "# StartDate = 15th March\n",
    "# Today = 17th April\n",
    "\n",
    "# for (eta in (3:(nrows-2))){\n",
    "#     tempXreg.data <- modXreg.data\n",
    "#     for (tempEta_2 in (1:(eta-1))){\n",
    "#         tempXreg.data[tempEta_2,\"time_trend_2\"] <- 1\n",
    "#         tempXreg.data[tempEta_2,\"squared_time_trend_2\"] <- 1\n",
    "#     }\n",
    "#     for (tempEta_1 in (eta:nrows)){\n",
    "#         tempXreg.data[tempEta_1,\"time_trend_1\"] <- 1\n",
    "#         tempXreg.data[tempEta_1,\"squared_time_trend_1\"] <- 1\n",
    "#     }\n",
    "    \n",
    "#     tempXreg.matrix <- data.matrix(tempXreg.data)-1\n",
    "#     regressors <- tempXreg.matrix\n",
    "#     tempFit <- auto.arima(dataTimeSeries, xreg=regressors, method=\"ML\")\n",
    "#     if(tempFit$aicc < aicLevel){\n",
    "#         aicLevel <- tempFit$aicc\n",
    "#         etaDate <- as.Date(startDate + eta)\n",
    "#         finalModel <- tempFit\n",
    "#     }\n",
    "# }\n",
    "# print(etaDate)\n",
    "summary(finalModel)"
   ]
  },
  {
   "cell_type": "code",
   "execution_count": 31,
   "metadata": {},
   "outputs": [
    {
     "data": {
      "image/png": "[encoded data removed]",
      "text/plain": [
       "Plot with title \"Autocorrelation for Residuals\""
      ]
     },
     "metadata": {},
     "output_type": "display_data"
    }
   ],
   "source": [
    "residual <- (finalModel$residuals)\n",
    "# Plotting residuals\n",
    "par(mfrow = c(2,1)) # set up the graphics\n",
    "pacf((residual), main=\"Partial Autocorrelation for Residuals\")\n",
    "acf((residual), main=\"Autocorrelation for Residuals\")"
   ]
  },
  {
   "cell_type": "code",
   "execution_count": 38,
   "metadata": {},
   "outputs": [
    {
     "data": {
      "text/html": [
       "<ol class=list-inline>\n",
       "\t<li>33</li>\n",
       "\t<li>34</li>\n",
       "\t<li>35</li>\n",
       "\t<li>36</li>\n",
       "</ol>\n"
      ],
      "text/latex": [
       "\\begin{enumerate*}\n",
       "\\item 33\n",
       "\\item 34\n",
       "\\item 35\n",
       "\\item 36\n",
       "\\end{enumerate*}\n"
      ],
      "text/markdown": [
       "1. 33\n",
       "2. 34\n",
       "3. 35\n",
       "4. 36\n",
       "\n",
       "\n"
      ],
      "text/plain": [
       "[1] 33 34 35 36"
      ]
     },
     "metadata": {},
     "output_type": "display_data"
    }
   ],
   "source": [
    "time <- ((as.numeric(lastDate-startDate)+2):(as.numeric(today-startDate)+3))\n",
    "time"
   ]
  },
  {
   "cell_type": "code",
   "execution_count": 47,
   "metadata": {
    "scrolled": false
   },
   "outputs": [
    {
     "name": "stdout",
     "output_type": "stream",
     "text": [
      "\n",
      "Forecast method: Linear regression model\n",
      "\n",
      "Model Information:\n",
      "\n",
      "Call:\n",
      "lm(formula = dataTimeSeries ~ regressors)\n",
      "\n",
      "Coefficients:\n",
      "                   (Intercept)              regressorsLockdown  \n",
      "                      1.737266                       -0.708599  \n",
      "        regressorstime_trend_1  regressorssquared_time_trend_1  \n",
      "                      0.365699                       -0.005722  \n",
      "\n",
      "\n",
      "Error measures:\n",
      "                       ME      RMSE       MAE        MPE     MAPE      MASE\n",
      "Training set 2.081668e-17 0.2402127 0.1998824 -0.5451367 4.764701 0.1613074\n",
      "\n",
      "Forecasts:\n",
      "  Point Forecast    Lo 80    Hi 80    Lo 95    Hi 95\n",
      "1       6.865575 6.477530 7.253621 6.259969 7.471182\n",
      "2       6.847906 6.446386 7.249426 6.221270 7.474542\n",
      "3       6.818793 6.401202 7.236384 6.167075 7.470511\n",
      "4       6.778236 6.341841 7.214631 6.097172 7.459301\n"
     ]
    },
    {
     "data": {
      "text/html": [
       "<dl class=dl-horizontal>\n",
       "\t<dt>1</dt>\n",
       "\t\t<dd>958.697261636672</dd>\n",
       "\t<dt>2</dt>\n",
       "\t\t<dd>941.90657636484</dd>\n",
       "\t<dt>3</dt>\n",
       "\t\t<dd>914.880088269565</dd>\n",
       "\t<dt>4</dt>\n",
       "\t\t<dd>878.517720838257</dd>\n",
       "</dl>\n"
      ],
      "text/latex": [
       "\\begin{description*}\n",
       "\\item[1] 958.697261636672\n",
       "\\item[2] 941.90657636484\n",
       "\\item[3] 914.880088269565\n",
       "\\item[4] 878.517720838257\n",
       "\\end{description*}\n"
      ],
      "text/markdown": [
       "1\n",
       ":   958.6972616366722\n",
       ":   941.906576364843\n",
       ":   914.8800882695654\n",
       ":   878.517720838257\n",
       "\n"
      ],
      "text/plain": [
       "       1        2        3        4 \n",
       "958.6973 941.9066 914.8801 878.5177 "
      ]
     },
     "metadata": {},
     "output_type": "display_data"
    }
   ],
   "source": [
    "# Forecasting the above model\n",
    "# Setting the lockdown variable for future\n",
    "lastDate <- index(newIndia.xts)[nrows]\n",
    "# today = as.Date(\"17-Apr\", format=\"%d-%b\")\n",
    "lock <- sample(1:1, 4, replace = TRUE)\n",
    "time_Before <- c(0,0,0,0)\n",
    "time <- ((as.numeric(lastDate-startDate)+2):(as.numeric(lastDate-startDate)+5))\n",
    "time_2 <- time * time\n",
    "\n",
    "# regressor.data <- data.frame(lock,time_Before,time_Before,time,time_2)\n",
    "regressor.data <- data.frame(lock,time,time_2)\n",
    "\n",
    "colnames(regressor.data)<- c(\"Lockdown\", \"time_trend_1\", \"squared_time_trend_1\")\n",
    "regressor.matrix <- data.matrix(regressor.data)\n",
    "\n",
    "# Forecast\n",
    "fore <- forecast(finalModel, h=4,  newdata=regressor.data)\n",
    "summary(fore)\n",
    "# plot(fore)\n",
    "# (fore$mean)\n",
    "exp((fore$mean))"
   ]
  },
  {
   "cell_type": "code",
   "execution_count": null,
   "metadata": {},
   "outputs": [],
   "source": [
    "# Plotting residuals\n",
    "par(mfrow = c(2,1)) # set up the graphics\n",
    "pacf(log(as.numeric(newIndia.xts$Daily.Confirmed)), main=\"Partial Autocorrelation for Confirmed Cases\")\n",
    "acf(residuals(finalModel), main=\"Autocorrelation for Residuals\")"
   ]
  },
  {
   "cell_type": "markdown",
   "metadata": {},
   "source": [
    "## Doing the forecasting for states"
   ]
  },
  {
   "cell_type": "code",
   "execution_count": null,
   "metadata": {},
   "outputs": [],
   "source": []
  }
 ],
 "metadata": {
  "kernelspec": {
   "display_name": "R",
   "language": "R",
   "name": "ir"
  },
  "language_info": {
   "codemirror_mode": "r",
   "file_extension": ".r",
   "mimetype": "text/x-r-source",
   "name": "R",
   "pygments_lexer": "r",
   "version": "3.5.1"
  }
 },
 "nbformat": 4,
 "nbformat_minor": 2
}
