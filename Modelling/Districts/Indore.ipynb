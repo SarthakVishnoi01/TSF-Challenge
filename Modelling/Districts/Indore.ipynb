{
 "cells": [
  {
   "cell_type": "code",
   "execution_count": 1,
   "metadata": {},
   "outputs": [
    {
     "name": "stderr",
     "output_type": "stream",
     "text": [
      "Warning message:\n",
      "\"package 'dynlm' was built under R version 3.5.3\"Loading required package: zoo\n",
      "Warning message:\n",
      "\"package 'zoo' was built under R version 3.5.3\"\n",
      "Attaching package: 'zoo'\n",
      "\n",
      "The following objects are masked from 'package:base':\n",
      "\n",
      "    as.Date, as.Date.numeric\n",
      "\n",
      "Warning message:\n",
      "\"package 'car' was built under R version 3.5.3\"Loading required package: carData\n",
      "Warning message:\n",
      "\"package 'carData' was built under R version 3.5.3\"Warning message:\n",
      "\"package 'xts' was built under R version 3.5.3\"Warning message:\n",
      "\"package 'tsbox' was built under R version 3.5.3\"Warning message:\n",
      "\"package 'tseries' was built under R version 3.5.3\"Warning message:\n",
      "\"package 'forecast' was built under R version 3.5.3\"Warning message:\n",
      "\"package 'astsa' was built under R version 3.5.3\"\n",
      "Attaching package: 'astsa'\n",
      "\n",
      "The following object is masked from 'package:forecast':\n",
      "\n",
      "    gas\n",
      "\n",
      "Warning message:\n",
      "\"package 'gvlma' was built under R version 3.5.2\"Warning message:\n",
      "\"package 'hwwntest' was built under R version 3.5.3\""
     ]
    }
   ],
   "source": [
    "library(dynlm)\n",
    "library(car)\n",
    "library(carData)\n",
    "library(zoo)\n",
    "library(xts)\n",
    "library(tsbox)\n",
    "library(tseries)\n",
    "library(forecast)\n",
    "library(astsa)\n",
    "library(gvlma)\n",
    "library(hwwntest)"
   ]
  },
  {
   "cell_type": "code",
   "execution_count": 2,
   "metadata": {},
   "outputs": [
    {
     "data": {
      "text/html": [
       "<table>\n",
       "<thead><tr><th scope=col>Date</th><th scope=col>NewCases</th><th scope=col>TotalCases</th><th scope=col>Lockdown</th><th scope=col>Temperature</th><th scope=col>RH</th></tr></thead>\n",
       "<tbody>\n",
       "\t<tr><td>2020-01-30</td><td>0         </td><td>0         </td><td>0         </td><td>16        </td><td>43        </td></tr>\n",
       "\t<tr><td>2020-01-31</td><td>0         </td><td>0         </td><td>0         </td><td>18        </td><td>37        </td></tr>\n",
       "\t<tr><td>2020-02-01</td><td>0         </td><td>0         </td><td>0         </td><td>18        </td><td>38        </td></tr>\n",
       "\t<tr><td>2020-02-02</td><td>0         </td><td>0         </td><td>0         </td><td>18        </td><td>36        </td></tr>\n",
       "\t<tr><td>2020-02-03</td><td>0         </td><td>0         </td><td>0         </td><td>20        </td><td>40        </td></tr>\n",
       "\t<tr><td>2020-02-04</td><td>0         </td><td>0         </td><td>0         </td><td>21        </td><td>44        </td></tr>\n",
       "</tbody>\n",
       "</table>\n"
      ],
      "text/latex": [
       "\\begin{tabular}{r|llllll}\n",
       " Date & NewCases & TotalCases & Lockdown & Temperature & RH\\\\\n",
       "\\hline\n",
       "\t 2020-01-30 & 0          & 0          & 0          & 16         & 43        \\\\\n",
       "\t 2020-01-31 & 0          & 0          & 0          & 18         & 37        \\\\\n",
       "\t 2020-02-01 & 0          & 0          & 0          & 18         & 38        \\\\\n",
       "\t 2020-02-02 & 0          & 0          & 0          & 18         & 36        \\\\\n",
       "\t 2020-02-03 & 0          & 0          & 0          & 20         & 40        \\\\\n",
       "\t 2020-02-04 & 0          & 0          & 0          & 21         & 44        \\\\\n",
       "\\end{tabular}\n"
      ],
      "text/markdown": [
       "\n",
       "Date | NewCases | TotalCases | Lockdown | Temperature | RH | \n",
       "|---|---|---|---|---|---|\n",
       "| 2020-01-30 | 0          | 0          | 0          | 16         | 43         | \n",
       "| 2020-01-31 | 0          | 0          | 0          | 18         | 37         | \n",
       "| 2020-02-01 | 0          | 0          | 0          | 18         | 38         | \n",
       "| 2020-02-02 | 0          | 0          | 0          | 18         | 36         | \n",
       "| 2020-02-03 | 0          | 0          | 0          | 20         | 40         | \n",
       "| 2020-02-04 | 0          | 0          | 0          | 21         | 44         | \n",
       "\n",
       "\n"
      ],
      "text/plain": [
       "  Date       NewCases TotalCases Lockdown Temperature RH\n",
       "1 2020-01-30 0        0          0        16          43\n",
       "2 2020-01-31 0        0          0        18          37\n",
       "3 2020-02-01 0        0          0        18          38\n",
       "4 2020-02-02 0        0          0        18          36\n",
       "5 2020-02-03 0        0          0        20          40\n",
       "6 2020-02-04 0        0          0        21          44"
      ]
     },
     "metadata": {},
     "output_type": "display_data"
    }
   ],
   "source": [
    "# Making an xts object for the data\n",
    "# indore\n",
    "\n",
    "indore <- as.data.frame(read.csv(\"../../Data/DistTimeSeries/Cases/Indore.csv\", sep = \",\"))\n",
    "indore$ï..Date <- as.Date(indore$ï..Date , format = \"%d-%m-%Y\")\n",
    "colnames(indore) <- c(\"Date\", \"NewCases\", \"TotalCases\", \"Lockdown\", \"Temperature\", \"RH\")\n",
    "indore.xts <- xts(indore, order.by=indore$Date)\n",
    "indore.xts <- indore.xts[, colnames(indore.xts) != \"Date\"]\n",
    "head(indore)"
   ]
  },
  {
   "cell_type": "code",
   "execution_count": 20,
   "metadata": {},
   "outputs": [
    {
     "data": {
      "text/plain": [
       "           NewCases TotalCases Lockdown Temperature RH  \n",
       "2020-03-25 \"  4\"    \"   4\"     \"1\"      \"28\"        \"33\"\n",
       "2020-03-26 \"  5\"    \"   9\"     \"1\"      \"27\"        \"53\"\n",
       "2020-03-27 \"  5\"    \"  14\"     \"1\"      \"27\"        \"57\"\n",
       "2020-03-28 \"  6\"    \"  20\"     \"1\"      \"27\"        \"35\"\n",
       "2020-03-29 \"1\"      \"  20\"     \"1\"      \"28\"        \"24\"\n",
       "2020-03-30 \"  7\"    \"  27\"     \"1\"      \"29\"        \"20\"\n",
       "2020-03-31 \" 18\"    \"  45\"     \"1\"      \"30\"        \"16\"\n",
       "2020-04-01 \" 32\"    \"  77\"     \"1\"      \"30\"        \"20\"\n",
       "2020-04-02 \"  2\"    \"  79\"     \"1\"      \"30\"        \"17\"\n",
       "2020-04-03 \" 35\"    \" 114\"     \"1\"      \"31\"        \"15\"\n",
       "2020-04-04 \" 14\"    \" 128\"     \"1\"      \"31\"        \"13\"\n",
       "2020-04-05 \"  7\"    \" 135\"     \"1\"      \"34\"        \"12\"\n",
       "2020-04-06 \" 16\"    \" 151\"     \"1\"      \"32\"        \"13\"\n",
       "2020-04-07 \"1\"      \" 151\"     \"1\"      \"32\"        \"14\"\n",
       "2020-04-08 \" 22\"    \" 173\"     \"1\"      \"30\"        \"18\"\n",
       "2020-04-09 \" 48\"    \" 221\"     \"1\"      \"33\"        \"18\"\n",
       "2020-04-10 \" 14\"    \" 235\"     \"1\"      \"32\"        \"15\"\n",
       "2020-04-11 \" 46\"    \" 281\"     \"1\"      \"36\"        \"13\"\n",
       "2020-04-12 \" 30\"    \" 311\"     \"1\"      \"34\"        \"13\"\n",
       "2020-04-13 \" 17\"    \" 328\"     \"1\"      \"34\"        \"14\"\n",
       "2020-04-14 \" 83\"    \" 411\"     \"1\"      \"34\"        \"16\"\n",
       "2020-04-15 \"133\"    \" 544\"     \"1\"      \"32\"        \"16\"\n",
       "2020-04-16 \"163\"    \" 707\"     \"1\"      \"33\"        \"17\"\n",
       "2020-04-17 \"135\"    \" 842\"     \"1\"      \"33\"        \"18\"\n",
       "2020-04-18 \" 48\"    \" 890\"     \"1\"      \"31\"        \"22\"\n",
       "2020-04-19 \"  1\"    \" 891\"     \"1\"      \"31\"        \"19\"\n",
       "2020-04-20 \"  7\"    \" 898\"     \"1\"      \"30\"        \"20\"\n",
       "2020-04-21 \" 18\"    \" 916\"     \"1\"      \"32\"        \"22\"\n",
       "2020-04-22 \"  8\"    \" 924\"     \"1\"      \"32\"        \"21\"\n",
       "2020-04-23 \" 22\"    \" 946\"     \"1\"      \"33\"        \"23\"\n",
       "2020-04-24 \" 84\"    \"1030\"     \"1\"      \"33\"        \"25\"\n",
       "2020-04-25 \" 56\"    \"1086\"     \"1\"      \"31\"        \"24\"\n",
       "2020-04-26 \" 91\"    \"1177\"     \"1\"      \"31\"        \"30\"\n",
       "2020-04-27 \" 31\"    \"1208\"     \"1\"      \"30\"        \"31\""
      ]
     },
     "metadata": {},
     "output_type": "display_data"
    }
   ],
   "source": [
    "# We make date with zero cases to 1 case\n",
    "indore.xts$NewCases <- replace(indore.xts$NewCases, (as.numeric(indore.xts$NewCases) == 0), \"1\")\n",
    "\n",
    "# Making new dataset after 20-Mar\n",
    "startDate <- as.Date(\"25-Mar-20\" , format = \"%d-%b-%y\")\n",
    "endDate <- as.Date(\"27-Apr-20\" , format = \"%d-%b-%y\")\n",
    "newIndore.xts <- subset(indore.xts, index(indore.xts)>=startDate)\n",
    "newIndore.xts <- subset(newIndore.xts, index(newIndore.xts)<=endDate)\n",
    "\n",
    "newIndore.xts"
   ]
  },
  {
   "cell_type": "code",
   "execution_count": 21,
   "metadata": {
    "scrolled": false
   },
   "outputs": [
    {
     "data": {
      "image/png": "[encoded data removed]",
      "text/plain": [
       "Plot with title \"Daily Cases in Indore (Log)\""
      ]
     },
     "metadata": {},
     "output_type": "display_data"
    },
    {
     "data": {
      "image/png": "[encoded data removed]",
      "text/plain": [
       "Plot with title \"Cross Correlation between log of new Confirmed Cases(t+lag) and Relative Humidity(t)\""
      ]
     },
     "metadata": {},
     "output_type": "display_data"
    }
   ],
   "source": [
    "# Plots for Daily new Cases\n",
    "\n",
    "par(mfrow = c(2,1), cex.main=1) # set up the graphics\n",
    "plot(index(newIndore.xts), newIndore.xts$NewCases, type=\"o\", col=\"blue\", pch=\"o\", lty=1, main=\"Daily Cases in Indore\", ylab=\"Number of New Cases\", xlab=\"Date\")\n",
    "plot(index(newIndore.xts), log(as.numeric(newIndore.xts$NewCases)), type=\"o\", col=\"blue\", pch=\"o\", lty=1, main=\"Daily Cases in Indore (Log)\", ylab=\"Log of Number of new Cases\", xlab=\"Date\")\n",
    "\n",
    "par(mfrow = c(2,1), cex.main=0.9)\n",
    "# acf(log(as.numeric(newIndore.xts$NewCases)), main=\"Autocorrelation for log of number of Confirmed Cases (Daily new)\")\n",
    "ccf(log(as.numeric(newIndore.xts$NewCases)), as.numeric(newIndore.xts$Temperature), main=\"Cross Correlation between log of new Confirmed Cases(t+lag) and Temperature(t)\")\n",
    "ccf(log(as.numeric(newIndore.xts$NewCases)), as.numeric(newIndore.xts$RH), main=\"Cross Correlation between log of new Confirmed Cases(t+lag) and Relative Humidity(t)\")\n"
   ]
  },
  {
   "cell_type": "code",
   "execution_count": 22,
   "metadata": {},
   "outputs": [
    {
     "data": {
      "image/png": "[encoded data removed]",
      "text/plain": [
       "Plot with title \"Total Cases in Indore (Log)\""
      ]
     },
     "metadata": {},
     "output_type": "display_data"
    },
    {
     "data": {
      "image/png": "[encoded data removed]",
      "text/plain": [
       "Plot with title \"Cross Correlation between Total Confirmed Cases(t+lag) and Relative Humidity(t)\""
      ]
     },
     "metadata": {},
     "output_type": "display_data"
    }
   ],
   "source": [
    "# Plots for Total Cases\n",
    "\n",
    "par(mfrow = c(2,1)) # set up the graphics\n",
    "plot(index(newIndore.xts), newIndore.xts$TotalCases, type=\"o\", col=\"blue\", pch=\"o\", lty=1, main=\"Total Cases in Indore\", ylab=\"Number of Total Cases\", xlab=\"Date\",ylim=c(0,1000))\n",
    "plot(index(newIndore.xts), log(as.numeric(newIndore.xts$TotalCases)), type=\"o\", col=\"blue\", pch=\"o\", lty=1, main=\"Total Cases in Indore (Log)\", ylab=\"Log of Number of Total Cases\", xlab=\"Date\")\n",
    "\n",
    "par(mfrow = c(3,1), cex.main=1.2)\n",
    "acf(log(as.numeric(newIndore.xts$TotalCases)), main=\"Autocorrelation for Confirmed Cases (Total)\")\n",
    "ccf(as.numeric(newIndore.xts$TotalCases), as.numeric(newIndore.xts$Temperature), main=\"Cross Correlation between Total Confirmed Cases(t+lag) and Temperature(t)\")\n",
    "ccf(as.numeric(newIndore.xts$TotalCases), as.numeric(newIndore.xts$RH), main=\"Cross Correlation between Total Confirmed Cases(t+lag) and Relative Humidity(t)\")"
   ]
  },
  {
   "cell_type": "code",
   "execution_count": 23,
   "metadata": {},
   "outputs": [
    {
     "data": {
      "text/html": [
       "<table>\n",
       "<thead><tr><th scope=col>TimeSeries</th><th scope=col>Temperature</th><th scope=col>RH</th><th scope=col>timeTrend</th><th scope=col>timeTrend_2</th></tr></thead>\n",
       "<tbody>\n",
       "\t<tr><td>1.3862944</td><td>28       </td><td>33       </td><td> 1       </td><td>   1     </td></tr>\n",
       "\t<tr><td>1.6094379</td><td>27       </td><td>53       </td><td> 2       </td><td>   4     </td></tr>\n",
       "\t<tr><td>1.6094379</td><td>27       </td><td>57       </td><td> 3       </td><td>   9     </td></tr>\n",
       "\t<tr><td>1.7917595</td><td>27       </td><td>35       </td><td> 4       </td><td>  16     </td></tr>\n",
       "\t<tr><td>0.0000000</td><td>28       </td><td>24       </td><td> 5       </td><td>  25     </td></tr>\n",
       "\t<tr><td>1.9459101</td><td>29       </td><td>20       </td><td> 6       </td><td>  36     </td></tr>\n",
       "\t<tr><td>2.8903718</td><td>30       </td><td>16       </td><td> 7       </td><td>  49     </td></tr>\n",
       "\t<tr><td>3.4657359</td><td>30       </td><td>20       </td><td> 8       </td><td>  64     </td></tr>\n",
       "\t<tr><td>0.6931472</td><td>30       </td><td>17       </td><td> 9       </td><td>  81     </td></tr>\n",
       "\t<tr><td>3.5553481</td><td>31       </td><td>15       </td><td>10       </td><td> 100     </td></tr>\n",
       "\t<tr><td>2.6390573</td><td>31       </td><td>13       </td><td>11       </td><td> 121     </td></tr>\n",
       "\t<tr><td>1.9459101</td><td>34       </td><td>12       </td><td>12       </td><td> 144     </td></tr>\n",
       "\t<tr><td>2.7725887</td><td>32       </td><td>13       </td><td>13       </td><td> 169     </td></tr>\n",
       "\t<tr><td>0.0000000</td><td>32       </td><td>14       </td><td>14       </td><td> 196     </td></tr>\n",
       "\t<tr><td>3.0910425</td><td>30       </td><td>18       </td><td>15       </td><td> 225     </td></tr>\n",
       "\t<tr><td>3.8712010</td><td>33       </td><td>18       </td><td>16       </td><td> 256     </td></tr>\n",
       "\t<tr><td>2.6390573</td><td>32       </td><td>15       </td><td>17       </td><td> 289     </td></tr>\n",
       "\t<tr><td>3.8286414</td><td>36       </td><td>13       </td><td>18       </td><td> 324     </td></tr>\n",
       "\t<tr><td>3.4011974</td><td>34       </td><td>13       </td><td>19       </td><td> 361     </td></tr>\n",
       "\t<tr><td>2.8332133</td><td>34       </td><td>14       </td><td>20       </td><td> 400     </td></tr>\n",
       "\t<tr><td>4.4188406</td><td>34       </td><td>16       </td><td>21       </td><td> 441     </td></tr>\n",
       "\t<tr><td>4.8903491</td><td>32       </td><td>16       </td><td>22       </td><td> 484     </td></tr>\n",
       "\t<tr><td>5.0937502</td><td>33       </td><td>17       </td><td>23       </td><td> 529     </td></tr>\n",
       "\t<tr><td>4.9052748</td><td>33       </td><td>18       </td><td>24       </td><td> 576     </td></tr>\n",
       "\t<tr><td>3.8712010</td><td>31       </td><td>22       </td><td>25       </td><td> 625     </td></tr>\n",
       "\t<tr><td>0.0000000</td><td>31       </td><td>19       </td><td>26       </td><td> 676     </td></tr>\n",
       "\t<tr><td>1.9459101</td><td>30       </td><td>20       </td><td>27       </td><td> 729     </td></tr>\n",
       "\t<tr><td>2.8903718</td><td>32       </td><td>22       </td><td>28       </td><td> 784     </td></tr>\n",
       "\t<tr><td>2.0794415</td><td>32       </td><td>21       </td><td>29       </td><td> 841     </td></tr>\n",
       "\t<tr><td>3.0910425</td><td>33       </td><td>23       </td><td>30       </td><td> 900     </td></tr>\n",
       "\t<tr><td>4.4308168</td><td>33       </td><td>25       </td><td>31       </td><td> 961     </td></tr>\n",
       "\t<tr><td>4.0253517</td><td>31       </td><td>24       </td><td>32       </td><td>1024     </td></tr>\n",
       "\t<tr><td>4.5108595</td><td>31       </td><td>30       </td><td>33       </td><td>1089     </td></tr>\n",
       "\t<tr><td>3.4339872</td><td>30       </td><td>31       </td><td>34       </td><td>1156     </td></tr>\n",
       "</tbody>\n",
       "</table>\n"
      ],
      "text/latex": [
       "\\begin{tabular}{lllll}\n",
       " TimeSeries & Temperature & RH & timeTrend & timeTrend\\_2\\\\\n",
       "\\hline\n",
       "\t 1.3862944 & 28        & 33        &  1        &    1     \\\\\n",
       "\t 1.6094379 & 27        & 53        &  2        &    4     \\\\\n",
       "\t 1.6094379 & 27        & 57        &  3        &    9     \\\\\n",
       "\t 1.7917595 & 27        & 35        &  4        &   16     \\\\\n",
       "\t 0.0000000 & 28        & 24        &  5        &   25     \\\\\n",
       "\t 1.9459101 & 29        & 20        &  6        &   36     \\\\\n",
       "\t 2.8903718 & 30        & 16        &  7        &   49     \\\\\n",
       "\t 3.4657359 & 30        & 20        &  8        &   64     \\\\\n",
       "\t 0.6931472 & 30        & 17        &  9        &   81     \\\\\n",
       "\t 3.5553481 & 31        & 15        & 10        &  100     \\\\\n",
       "\t 2.6390573 & 31        & 13        & 11        &  121     \\\\\n",
       "\t 1.9459101 & 34        & 12        & 12        &  144     \\\\\n",
       "\t 2.7725887 & 32        & 13        & 13        &  169     \\\\\n",
       "\t 0.0000000 & 32        & 14        & 14        &  196     \\\\\n",
       "\t 3.0910425 & 30        & 18        & 15        &  225     \\\\\n",
       "\t 3.8712010 & 33        & 18        & 16        &  256     \\\\\n",
       "\t 2.6390573 & 32        & 15        & 17        &  289     \\\\\n",
       "\t 3.8286414 & 36        & 13        & 18        &  324     \\\\\n",
       "\t 3.4011974 & 34        & 13        & 19        &  361     \\\\\n",
       "\t 2.8332133 & 34        & 14        & 20        &  400     \\\\\n",
       "\t 4.4188406 & 34        & 16        & 21        &  441     \\\\\n",
       "\t 4.8903491 & 32        & 16        & 22        &  484     \\\\\n",
       "\t 5.0937502 & 33        & 17        & 23        &  529     \\\\\n",
       "\t 4.9052748 & 33        & 18        & 24        &  576     \\\\\n",
       "\t 3.8712010 & 31        & 22        & 25        &  625     \\\\\n",
       "\t 0.0000000 & 31        & 19        & 26        &  676     \\\\\n",
       "\t 1.9459101 & 30        & 20        & 27        &  729     \\\\\n",
       "\t 2.8903718 & 32        & 22        & 28        &  784     \\\\\n",
       "\t 2.0794415 & 32        & 21        & 29        &  841     \\\\\n",
       "\t 3.0910425 & 33        & 23        & 30        &  900     \\\\\n",
       "\t 4.4308168 & 33        & 25        & 31        &  961     \\\\\n",
       "\t 4.0253517 & 31        & 24        & 32        & 1024     \\\\\n",
       "\t 4.5108595 & 31        & 30        & 33        & 1089     \\\\\n",
       "\t 3.4339872 & 30        & 31        & 34        & 1156     \\\\\n",
       "\\end{tabular}\n"
      ],
      "text/markdown": [
       "\n",
       "TimeSeries | Temperature | RH | timeTrend | timeTrend_2 | \n",
       "|---|---|---|---|---|---|---|---|---|---|---|---|---|---|---|---|---|---|---|---|---|---|---|---|---|---|---|---|---|---|---|---|---|---|\n",
       "| 1.3862944 | 28        | 33        |  1        |    1      | \n",
       "| 1.6094379 | 27        | 53        |  2        |    4      | \n",
       "| 1.6094379 | 27        | 57        |  3        |    9      | \n",
       "| 1.7917595 | 27        | 35        |  4        |   16      | \n",
       "| 0.0000000 | 28        | 24        |  5        |   25      | \n",
       "| 1.9459101 | 29        | 20        |  6        |   36      | \n",
       "| 2.8903718 | 30        | 16        |  7        |   49      | \n",
       "| 3.4657359 | 30        | 20        |  8        |   64      | \n",
       "| 0.6931472 | 30        | 17        |  9        |   81      | \n",
       "| 3.5553481 | 31        | 15        | 10        |  100      | \n",
       "| 2.6390573 | 31        | 13        | 11        |  121      | \n",
       "| 1.9459101 | 34        | 12        | 12        |  144      | \n",
       "| 2.7725887 | 32        | 13        | 13        |  169      | \n",
       "| 0.0000000 | 32        | 14        | 14        |  196      | \n",
       "| 3.0910425 | 30        | 18        | 15        |  225      | \n",
       "| 3.8712010 | 33        | 18        | 16        |  256      | \n",
       "| 2.6390573 | 32        | 15        | 17        |  289      | \n",
       "| 3.8286414 | 36        | 13        | 18        |  324      | \n",
       "| 3.4011974 | 34        | 13        | 19        |  361      | \n",
       "| 2.8332133 | 34        | 14        | 20        |  400      | \n",
       "| 4.4188406 | 34        | 16        | 21        |  441      | \n",
       "| 4.8903491 | 32        | 16        | 22        |  484      | \n",
       "| 5.0937502 | 33        | 17        | 23        |  529      | \n",
       "| 4.9052748 | 33        | 18        | 24        |  576      | \n",
       "| 3.8712010 | 31        | 22        | 25        |  625      | \n",
       "| 0.0000000 | 31        | 19        | 26        |  676      | \n",
       "| 1.9459101 | 30        | 20        | 27        |  729      | \n",
       "| 2.8903718 | 32        | 22        | 28        |  784      | \n",
       "| 2.0794415 | 32        | 21        | 29        |  841      | \n",
       "| 3.0910425 | 33        | 23        | 30        |  900      | \n",
       "| 4.4308168 | 33        | 25        | 31        |  961      | \n",
       "| 4.0253517 | 31        | 24        | 32        | 1024      | \n",
       "| 4.5108595 | 31        | 30        | 33        | 1089      | \n",
       "| 3.4339872 | 30        | 31        | 34        | 1156      | \n",
       "\n",
       "\n"
      ],
      "text/plain": [
       "      TimeSeries Temperature RH timeTrend timeTrend_2\n",
       " [1,] 1.3862944  28          33  1           1       \n",
       " [2,] 1.6094379  27          53  2           4       \n",
       " [3,] 1.6094379  27          57  3           9       \n",
       " [4,] 1.7917595  27          35  4          16       \n",
       " [5,] 0.0000000  28          24  5          25       \n",
       " [6,] 1.9459101  29          20  6          36       \n",
       " [7,] 2.8903718  30          16  7          49       \n",
       " [8,] 3.4657359  30          20  8          64       \n",
       " [9,] 0.6931472  30          17  9          81       \n",
       "[10,] 3.5553481  31          15 10         100       \n",
       "[11,] 2.6390573  31          13 11         121       \n",
       "[12,] 1.9459101  34          12 12         144       \n",
       "[13,] 2.7725887  32          13 13         169       \n",
       "[14,] 0.0000000  32          14 14         196       \n",
       "[15,] 3.0910425  30          18 15         225       \n",
       "[16,] 3.8712010  33          18 16         256       \n",
       "[17,] 2.6390573  32          15 17         289       \n",
       "[18,] 3.8286414  36          13 18         324       \n",
       "[19,] 3.4011974  34          13 19         361       \n",
       "[20,] 2.8332133  34          14 20         400       \n",
       "[21,] 4.4188406  34          16 21         441       \n",
       "[22,] 4.8903491  32          16 22         484       \n",
       "[23,] 5.0937502  33          17 23         529       \n",
       "[24,] 4.9052748  33          18 24         576       \n",
       "[25,] 3.8712010  31          22 25         625       \n",
       "[26,] 0.0000000  31          19 26         676       \n",
       "[27,] 1.9459101  30          20 27         729       \n",
       "[28,] 2.8903718  32          22 28         784       \n",
       "[29,] 2.0794415  32          21 29         841       \n",
       "[30,] 3.0910425  33          23 30         900       \n",
       "[31,] 4.4308168  33          25 31         961       \n",
       "[32,] 4.0253517  31          24 32        1024       \n",
       "[33,] 4.5108595  31          30 33        1089       \n",
       "[34,] 3.4339872  30          31 34        1156       "
      ]
     },
     "metadata": {},
     "output_type": "display_data"
    }
   ],
   "source": [
    "# Making time squared trend to be fit\n",
    "# Adding plus 1 kyunki baadme vo subtract ho jaayega\n",
    "timeTrend_2 <- (1:length(index(newIndore.xts))) ^2  \n",
    "timeTrend <- (1:length(index(newIndore.xts)))\n",
    "\n",
    "indore.reg.data <- data.frame(log(as.numeric(coredata(newIndore.xts$NewCases))), as.numeric(coredata(newIndore.xts$Temperature)), \n",
    "                              as.numeric(coredata(newIndore.xts$RH)),   \n",
    "                              timeTrend, timeTrend_2)\n",
    "colnames(indore.reg.data) <- c(\"TimeSeries\", \"Temperature\", \"RH\", \"timeTrend\", \"timeTrend_2\")\n",
    "\n",
    "# indore.reg.data.matrix <- data.matrix(indore.reg.data)\n",
    "# indore.reg.data.xts <- xts(indore.reg.data, order.by=index(newIndore.xts))\n",
    "indore.reg.data.ts <- as.ts(indore.reg.data, order.by=index(newIndore.xts))\n",
    "# index(indore.reg.data.zoo)\n",
    "indore.reg.data.ts "
   ]
  },
  {
   "cell_type": "markdown",
   "metadata": {},
   "source": [
    "## Let's de trend the total Cases Data\n"
   ]
  },
  {
   "cell_type": "code",
   "execution_count": 24,
   "metadata": {
    "scrolled": false
   },
   "outputs": [
    {
     "data": {
      "text/plain": [
       "\n",
       "Time series regression with \"ts\" data:\n",
       "Start = 2, End = 34\n",
       "\n",
       "Call:\n",
       "dynlm(formula = TimeSeries ~ timeTrend + timeTrend_2 + L(Temperature, \n",
       "    1) + L(RH, 1), data = indore.reg.data.ts)\n",
       "\n",
       "Residuals:\n",
       "    Min      1Q  Median      3Q     Max \n",
       "-2.9672 -0.6095  0.1024  0.8946  1.9862 \n",
       "\n",
       "Coefficients:\n",
       "                   Estimate Std. Error t value Pr(>|t|)\n",
       "(Intercept)       -5.487599   5.501971  -0.997    0.327\n",
       "timeTrend         -0.041500   0.195756  -0.212    0.834\n",
       "timeTrend_2        0.001969   0.004869   0.404    0.689\n",
       "L(Temperature, 1)  0.268905   0.187358   1.435    0.162\n",
       "L(RH, 1)          -0.006044   0.037588  -0.161    0.873\n",
       "\n",
       "Residual standard error: 1.255 on 28 degrees of freedom\n",
       "Multiple R-squared:  0.3057,\tAdjusted R-squared:  0.2065 \n",
       "F-statistic: 3.082 on 4 and 28 DF,  p-value: 0.03195\n"
      ]
     },
     "metadata": {},
     "output_type": "display_data"
    },
    {
     "data": {
      "image/png": "[encoded data removed]",
      "text/plain": [
       "plot without title"
      ]
     },
     "metadata": {},
     "output_type": "display_data"
    }
   ],
   "source": [
    "dataTimeSeries <- log(as.numeric(newIndore.xts$NewCases))\n",
    "numRows <- length(dataTimeSeries)\n",
    "start = 2\n",
    "detrended <- dynlm(TimeSeries ~ timeTrend+timeTrend_2+L(Temperature,1)+L(RH,1), data=indore.reg.data.ts)\n",
    "summary(detrended)\n",
    "prediction <- predict(detrended)\n",
    "plot(index(newIndore.xts)[start:numRows], dataTimeSeries[start:numRows], \"l\", las=1, xlab=\"Date\", ylab=\"Log of Total Number of Cases\")\n",
    "lines(prediction~index(newIndore.xts)[start:numRows], col=\"blue\", lwd=2)\n",
    "legend(\"bottomright\", 95, legend=c(\"Actual\", \"Fitted\"),\n",
    "       col=c(\"black\", \"blue\"), lty=1, cex=1.2)\n",
    "#   horiz = F , \n",
    "#   inset = c(0.1, 0.1))\n",
    "# plot(residuals(detrended))\n",
    "# shapiro.test(detrended$residuals)"
   ]
  },
  {
   "cell_type": "code",
   "execution_count": 25,
   "metadata": {},
   "outputs": [
    {
     "data": {
      "text/html": [
       "<table>\n",
       "<thead><tr><th scope=col>Temperature</th><th scope=col>RH</th><th scope=col>timeTrend</th><th scope=col>timeTrend_2</th></tr></thead>\n",
       "<tbody>\n",
       "\t<tr><td>31  </td><td>27  </td><td>35  </td><td>1225</td></tr>\n",
       "</tbody>\n",
       "</table>\n"
      ],
      "text/latex": [
       "\\begin{tabular}{r|llll}\n",
       " Temperature & RH & timeTrend & timeTrend\\_2\\\\\n",
       "\\hline\n",
       "\t 31   & 27   & 35   & 1225\\\\\n",
       "\\end{tabular}\n"
      ],
      "text/markdown": [
       "\n",
       "Temperature | RH | timeTrend | timeTrend_2 | \n",
       "|---|\n",
       "| 31   | 27   | 35   | 1225 | \n",
       "\n",
       "\n"
      ],
      "text/plain": [
       "  Temperature RH timeTrend timeTrend_2\n",
       "1 31          27 35        1225       "
      ]
     },
     "metadata": {},
     "output_type": "display_data"
    },
    {
     "data": {
      "text/html": [
       "0.689599183681234"
      ],
      "text/latex": [
       "0.689599183681234"
      ],
      "text/markdown": [
       "0.689599183681234"
      ],
      "text/plain": [
       "[1] 0.6895992"
      ]
     },
     "metadata": {},
     "output_type": "display_data"
    },
    {
     "data": {
      "text/html": [
       "<strong>1:</strong> 38.2545997152457"
      ],
      "text/latex": [
       "\\textbf{1:} 38.2545997152457"
      ],
      "text/markdown": [
       "**1:** 38.2545997152457"
      ],
      "text/plain": [
       "      1 \n",
       "38.2546 "
      ]
     },
     "metadata": {},
     "output_type": "display_data"
    },
    {
     "data": {
      "text/html": [
       "<strong>1:</strong> 76.2382260203833"
      ],
      "text/latex": [
       "\\textbf{1:} 76.2382260203833"
      ],
      "text/markdown": [
       "**1:** 76.2382260203833"
      ],
      "text/plain": [
       "       1 \n",
       "76.23823 "
      ]
     },
     "metadata": {},
     "output_type": "display_data"
    },
    {
     "data": {
      "text/html": [
       "56"
      ],
      "text/latex": [
       "56"
      ],
      "text/markdown": [
       "56"
      ],
      "text/plain": [
       "[1] 56"
      ]
     },
     "metadata": {},
     "output_type": "display_data"
    }
   ],
   "source": [
    "# Forecasting\n",
    "# Predicting for 26th, 27th and 28th\n",
    "time <- c(35)\n",
    "timeSquared <- time*time\n",
    "\n",
    "# For 25th, 26th and 27th\n",
    "temperature <- c(31)\n",
    "RelHum <- c(27)\n",
    "data <- data.frame(temperature, RelHum, time, timeSquared)\n",
    "colnames(data) <- c(\"Temperature\", \"RH\", \"timeTrend\", \"timeTrend_2\")\n",
    "data\n",
    "pred <- predict(detrended, newdata = data)\n",
    "varianceError <- var(detrended$residuals)\n",
    "varianceError <- varianceError/2\n",
    "varianceError\n",
    "exp(pred)\n",
    "pred <- pred+varianceError\n",
    "finalPred <- exp(pred)\n",
    "finalPred\n",
    "initial <- exp(dataTimeSeries[32])\n",
    "initial"
   ]
  },
  {
   "cell_type": "code",
   "execution_count": 26,
   "metadata": {},
   "outputs": [],
   "source": [
    "# par(mfrow = c(2,1))\n",
    "# acf(detrended$residuals, main=\"Autocorrelation between residuals\")\n",
    "# pacf(detrended$residuals, main=\"Partial autocorrelation between residuals\")"
   ]
  },
  {
   "cell_type": "markdown",
   "metadata": {},
   "source": [
    "### The model for total cases depict autocorrelation, therefore we perform arima on the residuals"
   ]
  },
  {
   "cell_type": "code",
   "execution_count": 10,
   "metadata": {},
   "outputs": [
    {
     "data": {
      "text/plain": [
       "Series: residualTimeSeries \n",
       "ARIMA(0,0,0) with zero mean \n",
       "\n",
       "sigma^2 estimated as 1.378:  log likelihood=-48.96\n",
       "AIC=99.92   AICc=100.05   BIC=101.35"
      ]
     },
     "metadata": {},
     "output_type": "display_data"
    }
   ],
   "source": [
    "nrows <- length(detrended$residuals)\n",
    "residualTimeSeries <- detrended$residuals\n",
    "fit <- auto.arima(residualTimeSeries, method=\"ML\")\n",
    "fit"
   ]
  },
  {
   "cell_type": "code",
   "execution_count": 11,
   "metadata": {
    "scrolled": true
   },
   "outputs": [
    {
     "data": {
      "image/png": "[encoded data removed]",
      "text/plain": [
       "Plot with title \"Series  fit$residuals\""
      ]
     },
     "metadata": {},
     "output_type": "display_data"
    }
   ],
   "source": [
    "acf(fit$residuals)"
   ]
  },
  {
   "cell_type": "code",
   "execution_count": null,
   "metadata": {},
   "outputs": [],
   "source": []
  }
 ],
 "metadata": {
  "kernelspec": {
   "display_name": "R",
   "language": "R",
   "name": "ir"
  },
  "language_info": {
   "codemirror_mode": "r",
   "file_extension": ".r",
   "mimetype": "text/x-r-source",
   "name": "R",
   "pygments_lexer": "r",
   "version": "3.5.1"
  }
 },
 "nbformat": 4,
 "nbformat_minor": 2
}
