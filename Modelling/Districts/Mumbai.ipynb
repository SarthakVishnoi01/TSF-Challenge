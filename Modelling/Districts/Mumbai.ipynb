{
 "cells": [
  {
   "cell_type": "code",
   "execution_count": 309,
   "metadata": {
    "scrolled": true
   },
   "outputs": [],
   "source": [
    "# # Installing Packages\n",
    "# options(repos = c(CRAN=\"https://cloud.r-project.org\"))\n",
    "# install.packages(c('‘hwwntest'))"
   ]
  },
  {
   "cell_type": "code",
   "execution_count": 1,
   "metadata": {},
   "outputs": [
    {
     "name": "stderr",
     "output_type": "stream",
     "text": [
      "Warning message:\n",
      "\"package 'dynlm' was built under R version 3.5.3\"Loading required package: zoo\n",
      "Warning message:\n",
      "\"package 'zoo' was built under R version 3.5.3\"\n",
      "Attaching package: 'zoo'\n",
      "\n",
      "The following objects are masked from 'package:base':\n",
      "\n",
      "    as.Date, as.Date.numeric\n",
      "\n",
      "Warning message:\n",
      "\"package 'car' was built under R version 3.5.3\"Loading required package: carData\n",
      "Warning message:\n",
      "\"package 'carData' was built under R version 3.5.3\"Warning message:\n",
      "\"package 'xts' was built under R version 3.5.3\"Warning message:\n",
      "\"package 'tsbox' was built under R version 3.5.3\"Warning message:\n",
      "\"package 'tseries' was built under R version 3.5.3\"Warning message:\n",
      "\"package 'forecast' was built under R version 3.5.3\"Warning message:\n",
      "\"package 'astsa' was built under R version 3.5.3\"\n",
      "Attaching package: 'astsa'\n",
      "\n",
      "The following object is masked from 'package:forecast':\n",
      "\n",
      "    gas\n",
      "\n",
      "Warning message:\n",
      "\"package 'gvlma' was built under R version 3.5.2\"Warning message:\n",
      "\"package 'hwwntest' was built under R version 3.5.3\""
     ]
    }
   ],
   "source": [
    "library(dynlm)\n",
    "library(car)\n",
    "library(carData)\n",
    "library(zoo)\n",
    "library(xts)\n",
    "library(tsbox)\n",
    "library(tseries)\n",
    "library(forecast)\n",
    "library(astsa)\n",
    "library(gvlma)\n",
    "library(hwwntest)"
   ]
  },
  {
   "cell_type": "code",
   "execution_count": 2,
   "metadata": {},
   "outputs": [
    {
     "data": {
      "text/html": [
       "<table>\n",
       "<thead><tr><th></th><th scope=col>Date</th><th scope=col>NewCases</th><th scope=col>TotalCases</th><th scope=col>Lockdown</th><th scope=col>Temperature</th><th scope=col>RH</th></tr></thead>\n",
       "<tbody>\n",
       "\t<tr><th scope=row>84</th><td>2020-04-22</td><td>232       </td><td>3683      </td><td>1         </td><td>35        </td><td>65        </td></tr>\n",
       "\t<tr><th scope=row>85</th><td>2020-04-23</td><td>522       </td><td>4205      </td><td>1         </td><td>35        </td><td>68        </td></tr>\n",
       "\t<tr><th scope=row>86</th><td>2020-04-24</td><td>242       </td><td>4447      </td><td>1         </td><td>36        </td><td>70        </td></tr>\n",
       "\t<tr><th scope=row>87</th><td>2020-04-25</td><td>602       </td><td>5049      </td><td>1         </td><td>37        </td><td>63        </td></tr>\n",
       "\t<tr><th scope=row>88</th><td>2020-04-26</td><td>358       </td><td>5407      </td><td>1         </td><td>35        </td><td>64        </td></tr>\n",
       "\t<tr><th scope=row>89</th><td>2020-04-27</td><td>371       </td><td>5778      </td><td>1         </td><td>34        </td><td>69        </td></tr>\n",
       "</tbody>\n",
       "</table>\n"
      ],
      "text/latex": [
       "\\begin{tabular}{r|llllll}\n",
       "  & Date & NewCases & TotalCases & Lockdown & Temperature & RH\\\\\n",
       "\\hline\n",
       "\t84 & 2020-04-22 & 232        & 3683       & 1          & 35         & 65        \\\\\n",
       "\t85 & 2020-04-23 & 522        & 4205       & 1          & 35         & 68        \\\\\n",
       "\t86 & 2020-04-24 & 242        & 4447       & 1          & 36         & 70        \\\\\n",
       "\t87 & 2020-04-25 & 602        & 5049       & 1          & 37         & 63        \\\\\n",
       "\t88 & 2020-04-26 & 358        & 5407       & 1          & 35         & 64        \\\\\n",
       "\t89 & 2020-04-27 & 371        & 5778       & 1          & 34         & 69        \\\\\n",
       "\\end{tabular}\n"
      ],
      "text/markdown": [
       "\n",
       "| <!--/--> | Date | NewCases | TotalCases | Lockdown | Temperature | RH | \n",
       "|---|---|---|---|---|---|\n",
       "| 84 | 2020-04-22 | 232        | 3683       | 1          | 35         | 65         | \n",
       "| 85 | 2020-04-23 | 522        | 4205       | 1          | 35         | 68         | \n",
       "| 86 | 2020-04-24 | 242        | 4447       | 1          | 36         | 70         | \n",
       "| 87 | 2020-04-25 | 602        | 5049       | 1          | 37         | 63         | \n",
       "| 88 | 2020-04-26 | 358        | 5407       | 1          | 35         | 64         | \n",
       "| 89 | 2020-04-27 | 371        | 5778       | 1          | 34         | 69         | \n",
       "\n",
       "\n"
      ],
      "text/plain": [
       "   Date       NewCases TotalCases Lockdown Temperature RH\n",
       "84 2020-04-22 232      3683       1        35          65\n",
       "85 2020-04-23 522      4205       1        35          68\n",
       "86 2020-04-24 242      4447       1        36          70\n",
       "87 2020-04-25 602      5049       1        37          63\n",
       "88 2020-04-26 358      5407       1        35          64\n",
       "89 2020-04-27 371      5778       1        34          69"
      ]
     },
     "metadata": {},
     "output_type": "display_data"
    }
   ],
   "source": [
    "# Making an xts object for the data\n",
    "# Mumbai\n",
    "\n",
    "mumbai <- as.data.frame(read.csv(\"../../Data/DistTimeSeries/Cases/Mumbai.csv\", sep = \",\"))\n",
    "mumbai$ï..Date <- as.Date(mumbai$ï..Date , format = \"%d-%m-%Y\")\n",
    "colnames(mumbai) <- c(\"Date\", \"NewCases\", \"TotalCases\", \"Lockdown\", \"Temperature\", \"RH\")\n",
    "mumbai.xts <- xts(mumbai, order.by=mumbai$Date)\n",
    "mumbai.xts <- mumbai.xts[, colnames(mumbai.xts) != \"Date\"]\n",
    "tail(mumbai)"
   ]
  },
  {
   "cell_type": "code",
   "execution_count": 19,
   "metadata": {},
   "outputs": [],
   "source": [
    "# We make date with zero cases to 1 case\n",
    "mumbai.xts$NewCases <- replace(mumbai.xts$NewCases, (as.numeric(mumbai.xts$NewCases) == 0), \"1\")\n",
    "\n",
    "# Making new dataset after 20-Mar\n",
    "startDate <- as.Date(\"25-Mar-20\" , format = \"%d-%b-%y\")\n",
    "endDate <- as.Date(\"27-Apr-20\" , format = \"%d-%b-%y\")\n",
    "\n",
    "newMumbai.xts <- subset(mumbai.xts, index(mumbai.xts)>=startDate)\n",
    "newMumbai.xts <- subset(newMumbai.xts, index(newMumbai.xts)<=endDate)\n",
    "# mumbai.xts$NewCases"
   ]
  },
  {
   "cell_type": "code",
   "execution_count": 20,
   "metadata": {
    "scrolled": false
   },
   "outputs": [
    {
     "data": {
      "image/png": "[encoded data removed]",
      "text/plain": [
       "Plot with title \"Daily Cases in Mumbai (Log)\""
      ]
     },
     "metadata": {},
     "output_type": "display_data"
    },
    {
     "data": {
      "image/png": "[encoded data removed]",
      "text/plain": [
       "Plot with title \"Autocorrelation for log of number of Confirmed Cases (Daily new)\""
      ]
     },
     "metadata": {},
     "output_type": "display_data"
    },
    {
     "data": {
      "image/png": "[encoded data removed]",
      "text/plain": [
       "Plot with title \"Cross Correlation between log of new Confirmed Cases(t+lag) and Relative Humidity(t)\""
      ]
     },
     "metadata": {},
     "output_type": "display_data"
    }
   ],
   "source": [
    "# Plots for Daily new Cases\n",
    "\n",
    "par(mfrow = c(2,1), cex.main=0.9) # set up the graphics\n",
    "plot(index(newMumbai.xts), newMumbai.xts$NewCases, type=\"o\", col=\"blue\", pch=\"o\", lty=1, main=\"Daily Cases in Mumbai\", ylab=\"Number of New Cases\", xlab=\"Date\")\n",
    "plot(index(newMumbai.xts), log(as.numeric(newMumbai.xts$NewCases)), type=\"o\", col=\"blue\", pch=\"o\", lty=1, main=\"Daily Cases in Mumbai (Log)\", ylab=\"Log of Number of new Cases\", xlab=\"Date\")\n",
    "\n",
    "par(mfrow = c(2,1))\n",
    "acf(log(as.numeric(newMumbai.xts$NewCases)), main=\"Autocorrelation for log of number of Confirmed Cases (Daily new)\")\n",
    "# ccf(log(as.numeric(newMumbai.xts$NewCases)), as.numeric(newMumbai.xts$Lockdown), main=\"Cross Correlation between log of new Confirmed Cases(t+lag) and Lockdown(t)\")\n",
    "\n",
    "par(mfrow = c(2,1), cex.main=0.9)\n",
    "ccf(log(as.numeric(newMumbai.xts$NewCases)), as.numeric(newMumbai.xts$Temperature), main=\"Cross Correlation between log of new Confirmed Cases(t+lag) and Temperature(t)\")\n",
    "ccf(log(as.numeric(newMumbai.xts$NewCases)), as.numeric(newMumbai.xts$RH), main=\"Cross Correlation between log of new Confirmed Cases(t+lag) and Relative Humidity(t)\")\n"
   ]
  },
  {
   "cell_type": "code",
   "execution_count": 21,
   "metadata": {
    "scrolled": false
   },
   "outputs": [
    {
     "data": {
      "image/png": "[encoded data removed]",
      "text/plain": [
       "Plot with title \"Total Cases in Mumbai (Log)\""
      ]
     },
     "metadata": {},
     "output_type": "display_data"
    },
    {
     "data": {
      "image/png": "[encoded data removed]",
      "text/plain": [
       "Plot with title \"Autocorrelation for Confirmed Cases (Total)\""
      ]
     },
     "metadata": {},
     "output_type": "display_data"
    },
    {
     "data": {
      "image/png": "[encoded data removed]",
      "text/plain": [
       "Plot with title \"Cross Correlation between log of Total Confirmed Cases(t+lag) and Relative Humidity(t)\""
      ]
     },
     "metadata": {},
     "output_type": "display_data"
    }
   ],
   "source": [
    "# Plots for Total Cases\n",
    "\n",
    "par(mfrow = c(2,1)) # set up the graphics\n",
    "plot(index(newMumbai.xts), newMumbai.xts$TotalCases, type=\"o\", col=\"blue\", pch=\"o\", lty=1, main=\"Total Cases in Mumbai\", ylab=\"Number of Total Cases\", xlab=\"Date\")\n",
    "plot(index(newMumbai.xts), log(as.numeric(newMumbai.xts$TotalCases)), type=\"o\", col=\"blue\", pch=\"o\", lty=1, main=\"Total Cases in Mumbai (Log)\", ylab=\"Log of Number of Total Cases\", xlab=\"Date\")\n",
    "\n",
    "par(mfrow = c(2,1), cex.main=0.9)\n",
    "acf(log(as.numeric(newMumbai.xts$TotalCases)), main=\"Autocorrelation for Confirmed Cases (Total)\")\n",
    "# ccf(log(as.numeric(newMumbai.xts$TotalCases)), as.numeric(newMumbai.xts$Lockdown), main=\"Cross Correlation between log of Total Confirmed Cases(t+lag) and Lockdown(t)\")\n",
    "\n",
    "par(mfrow = c(2,1), cex.main=0.9)\n",
    "ccf(log(as.numeric(newMumbai.xts$TotalCases)), as.numeric(newMumbai.xts$Temperature), cex=0.25, main=\"Cross Correlation between log of Total Confirmed Cases(t+lag) and Temperature(t)\")\n",
    "ccf(log(as.numeric(newMumbai.xts$TotalCases)), as.numeric(newMumbai.xts$RH), main=\"Cross Correlation between log of Total Confirmed Cases(t+lag) and Relative Humidity(t)\")"
   ]
  },
  {
   "cell_type": "code",
   "execution_count": 22,
   "metadata": {},
   "outputs": [],
   "source": [
    "# Making time squared trend to be fit\n",
    "# Adding plus 1 kyunki baadme vo subtract ho jaayega\n",
    "timeTrend_2 <- (1:length(index(newMumbai.xts)))^2  \n",
    "timeTrend <- (1:length(index(newMumbai.xts)))\n",
    "\n",
    "mumbai.reg.data <- data.frame(log(as.numeric(coredata(newMumbai.xts$NewCases))),\n",
    "                              as.numeric(coredata(newMumbai.xts$Temperature)), as.numeric(coredata(newMumbai.xts$RH)),   \n",
    "                              timeTrend, timeTrend_2)\n",
    "colnames(mumbai.reg.data) <- c(\"TimeSeries\", \"Temperature\", \"RH\", \"timeTrend\", \"timeTrend_2\")\n",
    "\n",
    "# mumbai.reg.data.matrix <- data.matrix(mumbai.reg.data)\n",
    "# mumbai.reg.data.xts <- xts(mumbai.reg.data, order.by=index(newMumbai.xts))\n",
    "mumbai.reg.data.ts <- as.ts(mumbai.reg.data, order.by=index(newMumbai.xts))\n",
    "# index(mumbai.reg.data.zoo)\n",
    "# mumbai.reg.data.ts "
   ]
  },
  {
   "cell_type": "markdown",
   "metadata": {},
   "source": [
    "## Let's de trend the total Cases Data"
   ]
  },
  {
   "cell_type": "code",
   "execution_count": 23,
   "metadata": {},
   "outputs": [
    {
     "data": {
      "text/html": [
       "&lt;NA&gt;"
      ],
      "text/latex": [
       "<NA>"
      ],
      "text/markdown": [
       "&lt;NA&gt;"
      ],
      "text/plain": [
       "[1] NA"
      ]
     },
     "metadata": {},
     "output_type": "display_data"
    }
   ],
   "source": [
    "mumbai.reg.data.ts['Temperature']"
   ]
  },
  {
   "cell_type": "code",
   "execution_count": 24,
   "metadata": {
    "scrolled": false
   },
   "outputs": [
    {
     "data": {
      "text/plain": [
       "\n",
       "Time series regression with \"ts\" data:\n",
       "Start = 2, End = 34\n",
       "\n",
       "Call:\n",
       "dynlm(formula = TimeSeries ~ timeTrend + timeTrend_2 + L(Temperature, \n",
       "    1) + L(RH, 1), data = mumbai.reg.data.ts)\n",
       "\n",
       "Residuals:\n",
       "     Min       1Q   Median       3Q      Max \n",
       "-2.28110 -0.30932 -0.00946  0.37909  1.36885 \n",
       "\n",
       "Coefficients:\n",
       "                   Estimate Std. Error t value Pr(>|t|)    \n",
       "(Intercept)        9.119262   2.963599   3.077 0.004638 ** \n",
       "timeTrend          0.409569   0.064407   6.359    7e-07 ***\n",
       "timeTrend_2       -0.006371   0.001619  -3.936 0.000499 ***\n",
       "L(Temperature, 1) -0.220188   0.102971  -2.138 0.041355 *  \n",
       "L(RH, 1)          -0.031548   0.025477  -1.238 0.225887    \n",
       "---\n",
       "Signif. codes:  0 '***' 0.001 '**' 0.01 '*' 0.05 '.' 0.1 ' ' 1\n",
       "\n",
       "Residual standard error: 0.748 on 28 degrees of freedom\n",
       "Multiple R-squared:  0.8109,\tAdjusted R-squared:  0.7839 \n",
       "F-statistic: 30.02 on 4 and 28 DF,  p-value: 9.231e-10\n"
      ]
     },
     "metadata": {},
     "output_type": "display_data"
    },
    {
     "data": {
      "image/png": "[encoded data removed]",
      "text/plain": [
       "plot without title"
      ]
     },
     "metadata": {},
     "output_type": "display_data"
    }
   ],
   "source": [
    "dataTimeSeries <- log(as.numeric(newMumbai.xts$NewCases))\n",
    "numRows <- length(dataTimeSeries)\n",
    "start = 2\n",
    "detrended <- dynlm(TimeSeries ~ timeTrend+timeTrend_2+L(Temperature,1)+L(RH,1), data=mumbai.reg.data.ts)\n",
    "summary(detrended)\n",
    "prediction <- predict(detrended)\n",
    "plot(index(newMumbai.xts)[start:numRows], dataTimeSeries[start:numRows], \"l\", las=1, xlab=\"Time\", ylab=\"Log of Total Number of Cases\")\n",
    "lines(prediction~index(newMumbai.xts)[start:numRows], col=\"blue\", lwd=2)\n",
    "# plot(residuals(detrended))\n",
    "# shapiro.test(detrended$residuals)"
   ]
  },
  {
   "cell_type": "code",
   "execution_count": 25,
   "metadata": {},
   "outputs": [
    {
     "data": {
      "text/html": [
       "<strong>32:</strong> 5.56615361180635"
      ],
      "text/latex": [
       "\\textbf{32:} 5.56615361180635"
      ],
      "text/markdown": [
       "**32:** 5.56615361180635"
      ],
      "text/plain": [
       "      32 \n",
       "5.566154 "
      ]
     },
     "metadata": {},
     "output_type": "display_data"
    },
    {
     "data": {
      "text/html": [
       "8.4357877"
      ],
      "text/latex": [
       "8.4357877"
      ],
      "text/markdown": [
       "8.4357877"
      ],
      "text/plain": [
       "[1] 8.435788"
      ]
     },
     "metadata": {},
     "output_type": "display_data"
    }
   ],
   "source": [
    "prediction[31]\n",
    "\n",
    "a <- 3.2911535+0.2775374*33-0.0035953*1089-0.0042868*37+0.0009491*63\n",
    "a"
   ]
  },
  {
   "cell_type": "code",
   "execution_count": 26,
   "metadata": {},
   "outputs": [
    {
     "data": {
      "text/html": [
       "<table>\n",
       "<thead><tr><th scope=col>Temperature</th><th scope=col>RH</th><th scope=col>timeTrend</th><th scope=col>timeTrend_2</th></tr></thead>\n",
       "<tbody>\n",
       "\t<tr><td>33  </td><td>70  </td><td>35  </td><td>1225</td></tr>\n",
       "</tbody>\n",
       "</table>\n"
      ],
      "text/latex": [
       "\\begin{tabular}{r|llll}\n",
       " Temperature & RH & timeTrend & timeTrend\\_2\\\\\n",
       "\\hline\n",
       "\t 33   & 70   & 35   & 1225\\\\\n",
       "\\end{tabular}\n"
      ],
      "text/markdown": [
       "\n",
       "Temperature | RH | timeTrend | timeTrend_2 | \n",
       "|---|\n",
       "| 33   | 70   | 35   | 1225 | \n",
       "\n",
       "\n"
      ],
      "text/plain": [
       "  Temperature RH timeTrend timeTrend_2\n",
       "1 33          70 35        1225       "
      ]
     },
     "metadata": {},
     "output_type": "display_data"
    },
    {
     "data": {
      "text/html": [
       "0.244792473817988"
      ],
      "text/latex": [
       "0.244792473817988"
      ],
      "text/markdown": [
       "0.244792473817988"
      ],
      "text/plain": [
       "[1] 0.2447925"
      ]
     },
     "metadata": {},
     "output_type": "display_data"
    },
    {
     "data": {
      "text/html": [
       "<strong>1:</strong> 6.41959048033392"
      ],
      "text/latex": [
       "\\textbf{1:} 6.41959048033392"
      ],
      "text/markdown": [
       "**1:** 6.41959048033392"
      ],
      "text/plain": [
       "      1 \n",
       "6.41959 "
      ]
     },
     "metadata": {},
     "output_type": "display_data"
    },
    {
     "data": {
      "text/html": [
       "<strong>1:</strong> 613.751719254366"
      ],
      "text/latex": [
       "\\textbf{1:} 613.751719254366"
      ],
      "text/markdown": [
       "**1:** 613.751719254366"
      ],
      "text/plain": [
       "       1 \n",
       "613.7517 "
      ]
     },
     "metadata": {},
     "output_type": "display_data"
    },
    {
     "data": {
      "text/html": [
       "602"
      ],
      "text/latex": [
       "602"
      ],
      "text/markdown": [
       "602"
      ],
      "text/plain": [
       "[1] 602"
      ]
     },
     "metadata": {},
     "output_type": "display_data"
    }
   ],
   "source": [
    "# Forecasting\n",
    "# Predicting for 26th, 27th and 28th\n",
    "time <- c(35)\n",
    "timeSquared <- time*time\n",
    "\n",
    "# For 25th, 26th and 27th\n",
    "temperature <- c(33)\n",
    "RelHum <- c(70)\n",
    "data <- data.frame(temperature, RelHum, time, timeSquared)\n",
    "colnames(data) <- c(\"Temperature\", \"RH\", \"timeTrend\", \"timeTrend_2\")\n",
    "data\n",
    "pred <- predict(detrended, newdata = data)\n",
    "varianceError <- var(detrended$residuals)\n",
    "varianceError <- varianceError/2\n",
    "varianceError\n",
    "pred <- pred+varianceError\n",
    "pred\n",
    "finalPred <- exp(pred)\n",
    "finalPred\n",
    "initial <- exp(dataTimeSeries[32])\n",
    "initial"
   ]
  },
  {
   "cell_type": "code",
   "execution_count": null,
   "metadata": {},
   "outputs": [],
   "source": []
  },
  {
   "cell_type": "code",
   "execution_count": 27,
   "metadata": {
    "scrolled": true
   },
   "outputs": [
    {
     "data": {
      "text/plain": [
       "\n",
       "\tBartlett B Test for white noise\n",
       "\n",
       "data:  \n",
       "= 0.92405, p-value = 0.3604\n"
      ]
     },
     "metadata": {},
     "output_type": "display_data"
    }
   ],
   "source": [
    "# Test for white noise\n",
    "bartlettB.test(detrended$residuals)"
   ]
  },
  {
   "cell_type": "markdown",
   "metadata": {},
   "source": [
    "## ------------------------------------------------------------------------------------------------------------------------"
   ]
  },
  {
   "cell_type": "markdown",
   "metadata": {},
   "source": [
    "### We see that there is ccf between y and error, let's make an ARIMA model now"
   ]
  },
  {
   "cell_type": "code",
   "execution_count": 124,
   "metadata": {},
   "outputs": [
    {
     "data": {
      "text/plain": [
       "Series: residualTimeSeries \n",
       "ARIMA(0,0,0) with zero mean \n",
       "\n",
       "sigma^2 estimated as 0.5421:  log likelihood=-41.17\n",
       "AIC=84.35   AICc=84.46   BIC=85.96"
      ]
     },
     "metadata": {},
     "output_type": "display_data"
    }
   ],
   "source": [
    "nrows <- length(detrended$residuals)\n",
    "residualTimeSeries <- detrended$residuals\n",
    "fit <- auto.arima(residualTimeSeries, method=\"ML\")\n",
    "fit"
   ]
  },
  {
   "cell_type": "code",
   "execution_count": 117,
   "metadata": {},
   "outputs": [
    {
     "data": {
      "text/plain": [
       " lag Autocorrelation D-W Statistic p-value\n",
       "   1     -0.20646156      2.383381   0.654\n",
       "   2      0.01358491      1.913678   0.536\n",
       "   3      0.25778924      1.402050   0.086\n",
       " Alternative hypothesis: rho[lag] != 0"
      ]
     },
     "metadata": {},
     "output_type": "display_data"
    }
   ],
   "source": [
    "# For autocorrelation in residuals\n",
    "durbinWatsonTest(detrended, max.lag=3)\n"
   ]
  },
  {
   "cell_type": "code",
   "execution_count": 84,
   "metadata": {},
   "outputs": [
    {
     "name": "stdout",
     "output_type": "stream",
     "text": [
      "[1] 27\n",
      "[1] \"2020-03-29\"\n"
     ]
    },
    {
     "data": {
      "text/plain": [
       "Series: dataTimeSeries \n",
       "Regression with ARIMA(1,0,0) errors \n",
       "\n",
       "Coefficients:\n",
       "          ar1  Lockdown_4  Lockdown_5   Temp_0  Temp_1   Temp_2   RH_11\n",
       "      -0.8931     -3.5542      1.8645  -0.0159  0.1720  -0.1460  0.0064\n",
       "s.e.   0.0803      0.3283      0.2855   0.0371  0.0515   0.0346  0.0079\n",
       "      time_trend_1  squared_time_trend_1  time_trend_2  squared_time_trend_2\n",
       "            0.7502               -0.1052        0.4612               -0.0088\n",
       "s.e.        0.1129                0.0119        0.0332                0.0009\n",
       "\n",
       "sigma^2 estimated as 0.06402:  log likelihood=5.06\n",
       "AIC=13.88   AICc=36.17   BIC=29.43"
      ]
     },
     "metadata": {},
     "output_type": "display_data"
    }
   ],
   "source": [
    "# Making two beta waala model using auto-ARIMA and new datasets\n",
    "nrows <- length(mumbai.reg.data$timeTrend)\n",
    "print(nrows)\n",
    "\n",
    "# Making a data with 6 columns, we can change entries according to the date\n",
    "# Format-> Lockdown|Lockdown_7|Lockdown_10|time_trend_1|squared_time_trend_1|time_trend_2|squared_time_trend_2\n",
    "\n",
    "modMumbaireg.data <- cbind(mumbai.reg.data,time_trend_2=mumbai.reg.data$timeTrend,\n",
    "                            squared_time_trend_2=mumbai.reg.data$timeTrend_2)\n",
    "colnames(modMumbaireg.data)<- c(\"Lockdown_4\", \"Lockdown_5\", \"Temp_0\", \"Temp_1\", \"Temp_2\", \"RH_11\", \"time_trend_1\", \"squared_time_trend_1\", \n",
    "                           \"time_trend_2\", \"squared_time_trend_2\")\n",
    "# modGujaratreg.data\n",
    "\n",
    "# ARIMA Initialisation\n",
    "\n",
    "dataTimeSeries <- log(as.numeric(newMumbai.xts$NewCases))\n",
    "aicLevel <- 1000\n",
    "etaDate = index(newMumbai.xts)[1]\n",
    "finalModel <- 0\n",
    "\n",
    "# StartDate = 20th March\n",
    "for (eta in (3:(nrows-2))){\n",
    "    tempXreg.data <- modMumbaireg.data\n",
    "    for (tempEta_2 in (1:(eta-1))){\n",
    "        tempXreg.data[tempEta_2,\"time_trend_2\"] <- 1\n",
    "        tempXreg.data[tempEta_2,\"squared_time_trend_2\"] <- 1\n",
    "    }\n",
    "    for (tempEta_1 in (eta:nrows)){\n",
    "        tempXreg.data[tempEta_1,\"time_trend_1\"] <- 1\n",
    "        tempXreg.data[tempEta_1,\"squared_time_trend_1\"] <- 1\n",
    "    }\n",
    "    \n",
    "    tempXreg.matrix <- data.matrix(tempXreg.data)-1\n",
    "    regressors <- tempXreg.matrix\n",
    "    tempFit <- auto.arima(dataTimeSeries, xreg=regressors, method=\"ML\")\n",
    "    if(tempFit$aicc < aicLevel){\n",
    "        aicLevel <- tempFit$aicc\n",
    "        etaDate <- as.Date(startDate + eta)\n",
    "        finalModel <- tempFit\n",
    "    }\n",
    "}\n",
    "print(etaDate)\n",
    "finalModel"
   ]
  },
  {
   "cell_type": "code",
   "execution_count": 86,
   "metadata": {},
   "outputs": [
    {
     "data": {
      "text/html": [
       "<ol class=list-inline>\n",
       "\t<li>28</li>\n",
       "\t<li>29</li>\n",
       "</ol>\n"
      ],
      "text/latex": [
       "\\begin{enumerate*}\n",
       "\\item 28\n",
       "\\item 29\n",
       "\\end{enumerate*}\n"
      ],
      "text/markdown": [
       "1. 28\n",
       "2. 29\n",
       "\n",
       "\n"
      ],
      "text/plain": [
       "[1] 28 29"
      ]
     },
     "metadata": {},
     "output_type": "display_data"
    },
    {
     "data": {
      "text/plain": [
       "Time Series:\n",
       "Start = 28 \n",
       "End = 29 \n",
       "Frequency = 1 \n",
       "[1] 264.5845 137.7562"
      ]
     },
     "metadata": {},
     "output_type": "display_data"
    },
    {
     "data": {
      "image/png": "[encoded data removed]",
      "text/plain": [
       "Plot with title \"Forecasts from Regression with ARIMA(1,0,0) errors\""
      ]
     },
     "metadata": {},
     "output_type": "display_data"
    }
   ],
   "source": [
    "# Forecasting the above model for two days\n",
    "# Setting the lockdown variable for future\n",
    "lastDate <- index(newMumbai.xts)[nrows]\n",
    "lock <- sample(1:1, 2, replace = TRUE)\n",
    "time_Before <- c(0,0)\n",
    "time <- (as.numeric(lastDate-startDate+2):(as.numeric(lastDate-startDate)+3))\n",
    "time\n",
    "time_2 <- time * time\n",
    "temp_0 <- c(38,35)\n",
    "temp_1 <- c(38,38)\n",
    "temp_2 <- c(37,38)\n",
    "RH_11 <- c(65,70)\n",
    "regressor.data <- data.frame(lock,lock,temp_0,temp_1,temp_2,RH_11,time_Before,time_Before,time,time_2)\n",
    "colnames(regressor.data)<- c(\"Lockdown_4\", \"Lockdown_5\", \"Temp_0\", \"Temp_1\", \"Temp_2\", \"RH_11\", \"time_trend_1\", \"squared_time_trend_1\", \n",
    "                           \"time_trend_2\", \"squared_time_trend_2\")\n",
    "regressor.matrix <- data.matrix(regressor.data)\n",
    "\n",
    "# Forecast\n",
    "fore <- forecast(finalModel, level=80,  xreg=regressor.matrix)\n",
    "plot(fore)\n",
    "# (fore$mean)\n",
    "exp((fore$mean))"
   ]
  },
  {
   "cell_type": "code",
   "execution_count": null,
   "metadata": {},
   "outputs": [],
   "source": []
  }
 ],
 "metadata": {
  "kernelspec": {
   "display_name": "R",
   "language": "R",
   "name": "ir"
  },
  "language_info": {
   "codemirror_mode": "r",
   "file_extension": ".r",
   "mimetype": "text/x-r-source",
   "name": "R",
   "pygments_lexer": "r",
   "version": "3.5.1"
  }
 },
 "nbformat": 4,
 "nbformat_minor": 2
}
