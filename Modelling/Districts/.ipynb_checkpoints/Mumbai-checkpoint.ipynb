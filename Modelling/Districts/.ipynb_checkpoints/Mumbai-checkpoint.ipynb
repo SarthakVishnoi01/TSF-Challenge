{
 "cells": [
  {
   "cell_type": "code",
   "execution_count": 3,
   "metadata": {},
   "outputs": [
    {
     "name": "stderr",
     "output_type": "stream",
     "text": [
      "Warning message:\n",
      "\"package 'dynlm' was built under R version 3.5.3\"Loading required package: zoo\n",
      "Warning message:\n",
      "\"package 'zoo' was built under R version 3.5.3\"\n",
      "Attaching package: 'zoo'\n",
      "\n",
      "The following objects are masked from 'package:base':\n",
      "\n",
      "    as.Date, as.Date.numeric\n",
      "\n",
      "Warning message:\n",
      "\"package 'car' was built under R version 3.5.3\"Loading required package: carData\n",
      "Warning message:\n",
      "\"package 'carData' was built under R version 3.5.3\"Warning message:\n",
      "\"package 'xts' was built under R version 3.5.3\"Warning message:\n",
      "\"package 'tsbox' was built under R version 3.5.3\"Warning message:\n",
      "\"package 'tseries' was built under R version 3.5.3\"Warning message:\n",
      "\"package 'forecast' was built under R version 3.5.3\"Warning message:\n",
      "\"package 'astsa' was built under R version 3.5.3\"\n",
      "Attaching package: 'astsa'\n",
      "\n",
      "The following object is masked from 'package:forecast':\n",
      "\n",
      "    gas\n",
      "\n"
     ]
    }
   ],
   "source": [
    "library(dynlm)\n",
    "library(car)\n",
    "library(carData)\n",
    "library(zoo)\n",
    "library(xts)\n",
    "library(tsbox)\n",
    "library(tseries)\n",
    "library(forecast)\n",
    "library(astsa)"
   ]
  },
  {
   "cell_type": "code",
   "execution_count": 61,
   "metadata": {},
   "outputs": [
    {
     "data": {
      "text/html": [
       "<table>\n",
       "<thead><tr><th scope=col>Date</th><th scope=col>NewCases</th><th scope=col>TotalCases</th><th scope=col>Lockdown</th><th scope=col>Temperature</th><th scope=col>RH</th></tr></thead>\n",
       "<tbody>\n",
       "\t<tr><td>2020-01-30</td><td>0         </td><td>0         </td><td>0         </td><td>24        </td><td>50        </td></tr>\n",
       "\t<tr><td>2020-01-31</td><td>0         </td><td>0         </td><td>0         </td><td>25        </td><td>50        </td></tr>\n",
       "\t<tr><td>2020-02-01</td><td>0         </td><td>0         </td><td>0         </td><td>25        </td><td>54        </td></tr>\n",
       "\t<tr><td>2020-02-02</td><td>0         </td><td>0         </td><td>0         </td><td>27        </td><td>60        </td></tr>\n",
       "\t<tr><td>2020-02-03</td><td>0         </td><td>0         </td><td>0         </td><td>29        </td><td>67        </td></tr>\n",
       "\t<tr><td>2020-02-04</td><td>0         </td><td>0         </td><td>0         </td><td>26        </td><td>60        </td></tr>\n",
       "</tbody>\n",
       "</table>\n"
      ],
      "text/latex": [
       "\\begin{tabular}{r|llllll}\n",
       " Date & NewCases & TotalCases & Lockdown & Temperature & RH\\\\\n",
       "\\hline\n",
       "\t 2020-01-30 & 0          & 0          & 0          & 24         & 50        \\\\\n",
       "\t 2020-01-31 & 0          & 0          & 0          & 25         & 50        \\\\\n",
       "\t 2020-02-01 & 0          & 0          & 0          & 25         & 54        \\\\\n",
       "\t 2020-02-02 & 0          & 0          & 0          & 27         & 60        \\\\\n",
       "\t 2020-02-03 & 0          & 0          & 0          & 29         & 67        \\\\\n",
       "\t 2020-02-04 & 0          & 0          & 0          & 26         & 60        \\\\\n",
       "\\end{tabular}\n"
      ],
      "text/markdown": [
       "\n",
       "Date | NewCases | TotalCases | Lockdown | Temperature | RH | \n",
       "|---|---|---|---|---|---|\n",
       "| 2020-01-30 | 0          | 0          | 0          | 24         | 50         | \n",
       "| 2020-01-31 | 0          | 0          | 0          | 25         | 50         | \n",
       "| 2020-02-01 | 0          | 0          | 0          | 25         | 54         | \n",
       "| 2020-02-02 | 0          | 0          | 0          | 27         | 60         | \n",
       "| 2020-02-03 | 0          | 0          | 0          | 29         | 67         | \n",
       "| 2020-02-04 | 0          | 0          | 0          | 26         | 60         | \n",
       "\n",
       "\n"
      ],
      "text/plain": [
       "  Date       NewCases TotalCases Lockdown Temperature RH\n",
       "1 2020-01-30 0        0          0        24          50\n",
       "2 2020-01-31 0        0          0        25          50\n",
       "3 2020-02-01 0        0          0        25          54\n",
       "4 2020-02-02 0        0          0        27          60\n",
       "5 2020-02-03 0        0          0        29          67\n",
       "6 2020-02-04 0        0          0        26          60"
      ]
     },
     "metadata": {},
     "output_type": "display_data"
    }
   ],
   "source": [
    "# Making an xts object for the data\n",
    "# Mumbai\n",
    "\n",
    "mumbai <- as.data.frame(read.csv(\"../../Data/DistTimeSeries/Cases/Mumbai.csv\", sep = \",\"))\n",
    "mumbai$ï..Date <- as.Date(mumbai$ï..Date , format = \"%d-%m-%Y\")\n",
    "colnames(mumbai) <- c(\"Date\", \"NewCases\", \"TotalCases\", \"Lockdown\", \"Temperature\", \"RH\")\n",
    "mumbai.xts <- xts(mumbai, order.by=mumbai$Date)\n",
    "mumbai.xts <- mumbai.xts[, colnames(mumbai.xts) != \"Date\"]\n",
    "head(mumbai)"
   ]
  },
  {
   "cell_type": "code",
   "execution_count": 62,
   "metadata": {},
   "outputs": [],
   "source": [
    "# We make date with zero cases to 1 case\n",
    "mumbai.xts$NewCases <- replace(mumbai.xts$NewCases, (as.numeric(mumbai.xts$NewCases) == 0), \"1\")\n",
    "\n",
    "# Making new dataset after 20-Mar\n",
    "startDate <- as.Date(\"20-Mar-20\" , format = \"%d-%b-%y\")\n",
    "newMumbai.xts <- subset(mumbai.xts, index(mumbai.xts)>=startDate)\n",
    "# mumbai.xts$NewCases"
   ]
  },
  {
   "cell_type": "code",
   "execution_count": 125,
   "metadata": {
    "scrolled": false
   },
   "outputs": [
    {
     "data": {
      "image/png": "[encoded data removed]",
      "text/plain": [
       "Plot with title \"Daily Cases in Mumbai (Log)\""
      ]
     },
     "metadata": {},
     "output_type": "display_data"
    },
    {
     "data": {
      "image/png": "[encoded data removed]",
      "text/plain": [
       "Plot with title \"Cross Correlation between new Confirmed Cases(t+lag) and Lockdown(t)\""
      ]
     },
     "metadata": {},
     "output_type": "display_data"
    },
    {
     "data": {
      "image/png": "[encoded data removed]",
      "text/plain": [
       "Plot with title \"Cross Correlation between new Confirmed Cases(t+lag) and Relative Humidity(t)\""
      ]
     },
     "metadata": {},
     "output_type": "display_data"
    }
   ],
   "source": [
    "# Plots for Daily new Cases\n",
    "\n",
    "par(mfrow = c(2,1)) # set up the graphics\n",
    "plot(index(newMumbai.xts), newMumbai.xts$NewCases, type=\"o\", col=\"blue\", pch=\"o\", lty=1, main=\"Daily Cases in Mumbai\", ylab=\"Number of New Cases\", xlab=\"Date\")\n",
    "plot(index(newMumbai.xts), log(as.numeric(newMumbai.xts$NewCases)), type=\"o\", col=\"blue\", pch=\"o\", lty=1, main=\"Daily Cases in Mumbai (Log)\", ylab=\"Log of Number of new Cases\", xlab=\"Date\")\n",
    "\n",
    "par(mfrow = c(2,1))\n",
    "acf(log(as.numeric(newMumbai.xts$NewCases)), main=\"Autocorrelation for Confirmed Cases (Daily new)\")\n",
    "ccf(as.numeric(newMumbai.xts$NewCases), as.numeric(newMumbai.xts$Lockdown), main=\"Cross Correlation between new Confirmed Cases(t+lag) and Lockdown(t)\")\n",
    "\n",
    "par(mfrow = c(2,1))\n",
    "ccf(as.numeric(newMumbai.xts$NewCases), as.numeric(newMumbai.xts$Temperature), main=\"Cross Correlation between new Confirmed Cases(t+lag) and Temperature(t)\")\n",
    "ccf(as.numeric(newMumbai.xts$NewCases), as.numeric(newMumbai.xts$RH), main=\"Cross Correlation between new Confirmed Cases(t+lag) and Relative Humidity(t)\")\n"
   ]
  },
  {
   "cell_type": "code",
   "execution_count": 64,
   "metadata": {},
   "outputs": [
    {
     "data": {
      "image/png": "[encoded data removed]",
      "text/plain": [
       "Plot with title \"Total Cases in Mumbai (Log)\""
      ]
     },
     "metadata": {},
     "output_type": "display_data"
    },
    {
     "data": {
      "image/png": "[encoded data removed]",
      "text/plain": [
       "Plot with title \"Cross Correlation between Total Confirmed Cases(t+lag) and Relative Humidity(t)\""
      ]
     },
     "metadata": {},
     "output_type": "display_data"
    }
   ],
   "source": [
    "# Plots for Total Cases\n",
    "\n",
    "par(mfrow = c(2,1)) # set up the graphics\n",
    "plot(index(newMumbai.xts), newMumbai.xts$TotalCases, type=\"o\", col=\"blue\", pch=\"o\", lty=1, main=\"Total Cases in Mumbai\", ylab=\"Number of Total Cases\", xlab=\"Date\")\n",
    "plot(index(newMumbai.xts), log(as.numeric(newMumbai.xts$TotalCases)), type=\"o\", col=\"blue\", pch=\"o\", lty=1, main=\"Total Cases in Mumbai (Log)\", ylab=\"Log of Number of Total Cases\", xlab=\"Date\")\n",
    "\n",
    "par(mfrow = c(4,1))\n",
    "acf(log(as.numeric(newMumbai.xts$TotalCases)), main=\"Autocorrelation for Confirmed Cases (Total)\")\n",
    "ccf(as.numeric(newMumbai.xts$TotalCases), as.numeric(newMumbai.xts$Lockdown), main=\"Cross Correlation between Total Confirmed Cases(t+lag) and Lockdown(t)\")\n",
    "ccf(as.numeric(newMumbai.xts$TotalCases), as.numeric(newMumbai.xts$Temperature), main=\"Cross Correlation between Total Confirmed Cases(t+lag) and Temperature(t)\")\n",
    "ccf(as.numeric(newMumbai.xts$TotalCases), as.numeric(newMumbai.xts$RH), main=\"Cross Correlation between Total Confirmed Cases(t+lag) and Relative Humidity(t)\")\n"
   ]
  },
  {
   "cell_type": "code",
   "execution_count": 181,
   "metadata": {},
   "outputs": [
    {
     "data": {
      "text/html": [
       "<table>\n",
       "<thead><tr><th scope=col>Lockdown</th><th scope=col>Temperature</th><th scope=col>RH</th><th scope=col>timeTrend</th><th scope=col>timeTrend_2</th></tr></thead>\n",
       "<tbody>\n",
       "\t<tr><td>0   </td><td>29  </td><td>64  </td><td> 1  </td><td>   1</td></tr>\n",
       "\t<tr><td>0   </td><td>29  </td><td>66  </td><td> 2  </td><td>   4</td></tr>\n",
       "\t<tr><td>0   </td><td>30  </td><td>65  </td><td> 3  </td><td>   9</td></tr>\n",
       "\t<tr><td>0   </td><td>32  </td><td>61  </td><td> 4  </td><td>  16</td></tr>\n",
       "\t<tr><td>0   </td><td>33  </td><td>60  </td><td> 5  </td><td>  25</td></tr>\n",
       "\t<tr><td>1   </td><td>33  </td><td>63  </td><td> 6  </td><td>  36</td></tr>\n",
       "\t<tr><td>1   </td><td>33  </td><td>70  </td><td> 7  </td><td>  49</td></tr>\n",
       "\t<tr><td>1   </td><td>31  </td><td>63  </td><td> 8  </td><td>  64</td></tr>\n",
       "\t<tr><td>1   </td><td>31  </td><td>58  </td><td> 9  </td><td>  81</td></tr>\n",
       "\t<tr><td>1   </td><td>30  </td><td>52  </td><td>10  </td><td> 100</td></tr>\n",
       "\t<tr><td>1   </td><td>31  </td><td>57  </td><td>11  </td><td> 121</td></tr>\n",
       "\t<tr><td>1   </td><td>31  </td><td>57  </td><td>12  </td><td> 144</td></tr>\n",
       "\t<tr><td>1   </td><td>30  </td><td>56  </td><td>13  </td><td> 169</td></tr>\n",
       "\t<tr><td>1   </td><td>31  </td><td>55  </td><td>14  </td><td> 196</td></tr>\n",
       "\t<tr><td>1   </td><td>33  </td><td>62  </td><td>15  </td><td> 225</td></tr>\n",
       "\t<tr><td>1   </td><td>33  </td><td>62  </td><td>16  </td><td> 256</td></tr>\n",
       "\t<tr><td>1   </td><td>32  </td><td>65  </td><td>17  </td><td> 289</td></tr>\n",
       "\t<tr><td>1   </td><td>34  </td><td>70  </td><td>18  </td><td> 324</td></tr>\n",
       "\t<tr><td>1   </td><td>33  </td><td>64  </td><td>19  </td><td> 361</td></tr>\n",
       "\t<tr><td>1   </td><td>32  </td><td>63  </td><td>20  </td><td> 400</td></tr>\n",
       "\t<tr><td>1   </td><td>33  </td><td>66  </td><td>21  </td><td> 441</td></tr>\n",
       "\t<tr><td>1   </td><td>33  </td><td>61  </td><td>22  </td><td> 484</td></tr>\n",
       "\t<tr><td>1   </td><td>33  </td><td>60  </td><td>23  </td><td> 529</td></tr>\n",
       "\t<tr><td>1   </td><td>36  </td><td>56  </td><td>24  </td><td> 576</td></tr>\n",
       "\t<tr><td>1   </td><td>36  </td><td>63  </td><td>25  </td><td> 625</td></tr>\n",
       "\t<tr><td>1   </td><td>37  </td><td>64  </td><td>26  </td><td> 676</td></tr>\n",
       "\t<tr><td>1   </td><td>38  </td><td>65  </td><td>27  </td><td> 729</td></tr>\n",
       "\t<tr><td>1   </td><td>37  </td><td>75  </td><td>28  </td><td> 784</td></tr>\n",
       "\t<tr><td>1   </td><td>36  </td><td>73  </td><td>29  </td><td> 841</td></tr>\n",
       "\t<tr><td>1   </td><td>34  </td><td>65  </td><td>30  </td><td> 900</td></tr>\n",
       "\t<tr><td>1   </td><td>35  </td><td>61  </td><td>31  </td><td> 961</td></tr>\n",
       "\t<tr><td>1   </td><td>36  </td><td>50  </td><td>32  </td><td>1024</td></tr>\n",
       "\t<tr><td>1   </td><td>36  </td><td>56  </td><td>33  </td><td>1089</td></tr>\n",
       "\t<tr><td>1   </td><td>35  </td><td>65  </td><td>34  </td><td>1156</td></tr>\n",
       "\t<tr><td>1   </td><td>35  </td><td>68  </td><td>35  </td><td>1225</td></tr>\n",
       "\t<tr><td>1   </td><td>36  </td><td>70  </td><td>36  </td><td>1296</td></tr>\n",
       "\t<tr><td>1   </td><td>37  </td><td>63  </td><td>37  </td><td>1369</td></tr>\n",
       "</tbody>\n",
       "</table>\n"
      ],
      "text/latex": [
       "\\begin{tabular}{r|lllll}\n",
       " Lockdown & Temperature & RH & timeTrend & timeTrend\\_2\\\\\n",
       "\\hline\n",
       "\t 0    & 29   & 64   &  1   &    1\\\\\n",
       "\t 0    & 29   & 66   &  2   &    4\\\\\n",
       "\t 0    & 30   & 65   &  3   &    9\\\\\n",
       "\t 0    & 32   & 61   &  4   &   16\\\\\n",
       "\t 0    & 33   & 60   &  5   &   25\\\\\n",
       "\t 1    & 33   & 63   &  6   &   36\\\\\n",
       "\t 1    & 33   & 70   &  7   &   49\\\\\n",
       "\t 1    & 31   & 63   &  8   &   64\\\\\n",
       "\t 1    & 31   & 58   &  9   &   81\\\\\n",
       "\t 1    & 30   & 52   & 10   &  100\\\\\n",
       "\t 1    & 31   & 57   & 11   &  121\\\\\n",
       "\t 1    & 31   & 57   & 12   &  144\\\\\n",
       "\t 1    & 30   & 56   & 13   &  169\\\\\n",
       "\t 1    & 31   & 55   & 14   &  196\\\\\n",
       "\t 1    & 33   & 62   & 15   &  225\\\\\n",
       "\t 1    & 33   & 62   & 16   &  256\\\\\n",
       "\t 1    & 32   & 65   & 17   &  289\\\\\n",
       "\t 1    & 34   & 70   & 18   &  324\\\\\n",
       "\t 1    & 33   & 64   & 19   &  361\\\\\n",
       "\t 1    & 32   & 63   & 20   &  400\\\\\n",
       "\t 1    & 33   & 66   & 21   &  441\\\\\n",
       "\t 1    & 33   & 61   & 22   &  484\\\\\n",
       "\t 1    & 33   & 60   & 23   &  529\\\\\n",
       "\t 1    & 36   & 56   & 24   &  576\\\\\n",
       "\t 1    & 36   & 63   & 25   &  625\\\\\n",
       "\t 1    & 37   & 64   & 26   &  676\\\\\n",
       "\t 1    & 38   & 65   & 27   &  729\\\\\n",
       "\t 1    & 37   & 75   & 28   &  784\\\\\n",
       "\t 1    & 36   & 73   & 29   &  841\\\\\n",
       "\t 1    & 34   & 65   & 30   &  900\\\\\n",
       "\t 1    & 35   & 61   & 31   &  961\\\\\n",
       "\t 1    & 36   & 50   & 32   & 1024\\\\\n",
       "\t 1    & 36   & 56   & 33   & 1089\\\\\n",
       "\t 1    & 35   & 65   & 34   & 1156\\\\\n",
       "\t 1    & 35   & 68   & 35   & 1225\\\\\n",
       "\t 1    & 36   & 70   & 36   & 1296\\\\\n",
       "\t 1    & 37   & 63   & 37   & 1369\\\\\n",
       "\\end{tabular}\n"
      ],
      "text/markdown": [
       "\n",
       "Lockdown | Temperature | RH | timeTrend | timeTrend_2 | \n",
       "|---|---|---|---|---|---|---|---|---|---|---|---|---|---|---|---|---|---|---|---|---|---|---|---|---|---|---|---|---|---|---|---|---|---|---|---|---|\n",
       "| 0    | 29   | 64   |  1   |    1 | \n",
       "| 0    | 29   | 66   |  2   |    4 | \n",
       "| 0    | 30   | 65   |  3   |    9 | \n",
       "| 0    | 32   | 61   |  4   |   16 | \n",
       "| 0    | 33   | 60   |  5   |   25 | \n",
       "| 1    | 33   | 63   |  6   |   36 | \n",
       "| 1    | 33   | 70   |  7   |   49 | \n",
       "| 1    | 31   | 63   |  8   |   64 | \n",
       "| 1    | 31   | 58   |  9   |   81 | \n",
       "| 1    | 30   | 52   | 10   |  100 | \n",
       "| 1    | 31   | 57   | 11   |  121 | \n",
       "| 1    | 31   | 57   | 12   |  144 | \n",
       "| 1    | 30   | 56   | 13   |  169 | \n",
       "| 1    | 31   | 55   | 14   |  196 | \n",
       "| 1    | 33   | 62   | 15   |  225 | \n",
       "| 1    | 33   | 62   | 16   |  256 | \n",
       "| 1    | 32   | 65   | 17   |  289 | \n",
       "| 1    | 34   | 70   | 18   |  324 | \n",
       "| 1    | 33   | 64   | 19   |  361 | \n",
       "| 1    | 32   | 63   | 20   |  400 | \n",
       "| 1    | 33   | 66   | 21   |  441 | \n",
       "| 1    | 33   | 61   | 22   |  484 | \n",
       "| 1    | 33   | 60   | 23   |  529 | \n",
       "| 1    | 36   | 56   | 24   |  576 | \n",
       "| 1    | 36   | 63   | 25   |  625 | \n",
       "| 1    | 37   | 64   | 26   |  676 | \n",
       "| 1    | 38   | 65   | 27   |  729 | \n",
       "| 1    | 37   | 75   | 28   |  784 | \n",
       "| 1    | 36   | 73   | 29   |  841 | \n",
       "| 1    | 34   | 65   | 30   |  900 | \n",
       "| 1    | 35   | 61   | 31   |  961 | \n",
       "| 1    | 36   | 50   | 32   | 1024 | \n",
       "| 1    | 36   | 56   | 33   | 1089 | \n",
       "| 1    | 35   | 65   | 34   | 1156 | \n",
       "| 1    | 35   | 68   | 35   | 1225 | \n",
       "| 1    | 36   | 70   | 36   | 1296 | \n",
       "| 1    | 37   | 63   | 37   | 1369 | \n",
       "\n",
       "\n"
      ],
      "text/plain": [
       "   Lockdown Temperature RH timeTrend timeTrend_2\n",
       "1  0        29          64  1           1       \n",
       "2  0        29          66  2           4       \n",
       "3  0        30          65  3           9       \n",
       "4  0        32          61  4          16       \n",
       "5  0        33          60  5          25       \n",
       "6  1        33          63  6          36       \n",
       "7  1        33          70  7          49       \n",
       "8  1        31          63  8          64       \n",
       "9  1        31          58  9          81       \n",
       "10 1        30          52 10         100       \n",
       "11 1        31          57 11         121       \n",
       "12 1        31          57 12         144       \n",
       "13 1        30          56 13         169       \n",
       "14 1        31          55 14         196       \n",
       "15 1        33          62 15         225       \n",
       "16 1        33          62 16         256       \n",
       "17 1        32          65 17         289       \n",
       "18 1        34          70 18         324       \n",
       "19 1        33          64 19         361       \n",
       "20 1        32          63 20         400       \n",
       "21 1        33          66 21         441       \n",
       "22 1        33          61 22         484       \n",
       "23 1        33          60 23         529       \n",
       "24 1        36          56 24         576       \n",
       "25 1        36          63 25         625       \n",
       "26 1        37          64 26         676       \n",
       "27 1        38          65 27         729       \n",
       "28 1        37          75 28         784       \n",
       "29 1        36          73 29         841       \n",
       "30 1        34          65 30         900       \n",
       "31 1        35          61 31         961       \n",
       "32 1        36          50 32        1024       \n",
       "33 1        36          56 33        1089       \n",
       "34 1        35          65 34        1156       \n",
       "35 1        35          68 35        1225       \n",
       "36 1        36          70 36        1296       \n",
       "37 1        37          63 37        1369       "
      ]
     },
     "metadata": {},
     "output_type": "display_data"
    }
   ],
   "source": [
    "# For lockdown, we will take today, seven days and 10 days before data\n",
    "\n",
    "# Date objects\n",
    "DayZero <- as.Date(\"25-Mar\" , format = \"%d-%b\")\n",
    "DayOne <- as.Date(\"26-Mar\" , format = \"%d-%b\")\n",
    "DayTwo <- as.Date(\"27-Mar\" , format = \"%d-%b\")\n",
    "DayThree <- as.Date(\"28-Mar\" , format = \"%d-%b\")\n",
    "DayFour <- as.Date(\"29-Mar\" , format = \"%d-%b\")\n",
    "DayFive <- as.Date(\"30-Mar\" , format = \"%d-%b\")\n",
    "DaySix <- as.Date(\"31-Mar\" , format = \"%d-%b\")\n",
    "DaySeven <- as.Date(\"1-Apr\" , format = \"%d-%b\")\n",
    "DayEight <- as.Date(\"2-Apr\" , format = \"%d-%b\")\n",
    "DayNine <- as.Date(\"3-Apr\" , format = \"%d-%b\")\n",
    "DayTen <- as.Date(\"4-Apr\" , format = \"%d-%b\")\n",
    "DayEleven <- as.Date(\"5-Apr\", format = \"%d-%b\")\n",
    "\n",
    "# Creating columns\n",
    "l1 <- (newMumbai.xts$Lockdown)\n",
    "l2 <- (newMumbai.xts$Lockdown)\n",
    "l3 <- (newMumbai.xts$Lockdown)\n",
    "l4 <- (newMumbai.xts$Lockdown)\n",
    "l5 <- (newMumbai.xts$Lockdown)\n",
    "l6 <- (newMumbai.xts$Lockdown)\n",
    "l7 <- (newMumbai.xts$Lockdown)\n",
    "l8 <- (newMumbai.xts$Lockdown)\n",
    "l9 <- (newMumbai.xts$Lockdown)\n",
    "l10 <- (newMumbai.xts$Lockdown)\n",
    "l11 <- (newMumbai.xts$Lockdown)\n",
    "\n",
    "l1 <- replace(l1, index(l1)<DayOne, \"0\")\n",
    "l2 <- replace(l2, index(l2)<DayTwo, \"0\")\n",
    "l3 <- replace(l3, index(l3)<DayThree, \"0\")\n",
    "l4 <- replace(l4, index(l4)<DayFour, \"0\")\n",
    "l5 <- replace(l5, index(l5)<DayFive, \"0\")\n",
    "l6 <- replace(l6, index(l6)<DaySix, \"0\")\n",
    "l7 <- replace(l7, index(l7)<DaySeven, \"0\")\n",
    "l8 <- replace(l8, index(l8)<DayEight, \"0\")\n",
    "l9 <- replace(l9, index(l9)<DayNine, \"0\")\n",
    "l10 <- replace(l10, index(l10)<DayTen, \"0\")\n",
    "l11 <- replace(l11, index(l11)<DayEleven, \"0\")\n",
    "\n",
    "# Adding columns to newIndia.xts\n",
    "newMumbai.xts$Lockdown_1 <- l1\n",
    "newMumbai.xts$Lockdown_2 <- l2\n",
    "newMumbai.xts$Lockdown_3 <- l3\n",
    "newMumbai.xts$Lockdown_4 <- l4\n",
    "newMumbai.xts$Lockdown_5 <- l5\n",
    "newMumbai.xts$Lockdown_6 <- l6\n",
    "newMumbai.xts$Lockdown_7 <- l7\n",
    "newMumbai.xts$Lockdown_8 <- l8\n",
    "newMumbai.xts$Lockdown_9 <- l9\n",
    "newMumbai.xts$Lockdown_10 <- l10\n",
    "newMumbai.xts$Lockdown_11 <- l11\n",
    "\n",
    "# What variables to include\n",
    "# Lockdown_4|Lockdown_5|Temp_0|Temp_1|Temp2|RH_11\n",
    "\n",
    "\n",
    "# Making time squared trend to be fit\n",
    "# Adding plus 1 kyunki baadme vo subtract ho jaayega\n",
    "timeTrend_2 <- (1:length(index(newMumbai.xts))) ^2  \n",
    "timeTrend <- (1:length(index(newMumbai.xts)))\n",
    "temp <- coredata(newMumbai.xts$Temperature)\n",
    "rh <- coredata(newMumbai.xts$RH)\n",
    "\n",
    "mumbai.reg.data <- data.frame(coredata(newMumbai.xts$Lockdown),\n",
    "                              as.numeric(coredata(newMumbai.xts$Temperature)), as.numeric(coredata(newMumbai.xts$RH)),   \n",
    "                              timeTrend, timeTrend_2)\n",
    "colnames(mumbai.reg.data) <- c(\"Lockdown\", \"Temperature\", \"RH\", \"timeTrend\", \"timeTrend_2\")\n",
    "\n",
    "# mumbai.reg.data.matrix <- data.matrix(mumbai.reg.data)\n",
    "# mumbai.reg.data.xts <- xts(mumbai.reg.data, order.by=index(newMumbai.xts))\n",
    "# mumbai.reg.data.zoo <- as.zoo(mumbai.reg.data.xts)\n",
    "# index(mumbai.reg.data.zoo)\n",
    "mumbai.reg.data"
   ]
  },
  {
   "cell_type": "markdown",
   "metadata": {},
   "source": [
    "## Let's de trend the total Cases Data"
   ]
  },
  {
   "cell_type": "code",
   "execution_count": 184,
   "metadata": {
    "scrolled": false
   },
   "outputs": [
    {
     "data": {
      "text/plain": [
       "\n",
       "Call:\n",
       "lm(formula = dataTimeSeries ~ timeTrend + timeTrend_2 + Lockdown + \n",
       "    RH + Temperature, data = mumbai.reg.data)\n",
       "\n",
       "Residuals:\n",
       "     Min       1Q   Median       3Q      Max \n",
       "-2.56291 -0.32500  0.04093  0.48617  1.32680 \n",
       "\n",
       "Coefficients:\n",
       "             Estimate Std. Error t value Pr(>|t|)    \n",
       "(Intercept)  4.824099   3.092100   1.560  0.12888    \n",
       "timeTrend    0.396167   0.084001   4.716 4.84e-05 ***\n",
       "timeTrend_2 -0.005505   0.001819  -3.027  0.00493 ** \n",
       "Lockdown1   -1.709163   0.675440  -2.530  0.01669 *  \n",
       "RH          -0.043972   0.026229  -1.677  0.10370    \n",
       "Temperature -0.047669   0.102816  -0.464  0.64615    \n",
       "---\n",
       "Signif. codes:  0 '***' 0.001 '**' 0.01 '*' 0.05 '.' 0.1 ' ' 1\n",
       "\n",
       "Residual standard error: 0.8044 on 31 degrees of freedom\n",
       "Multiple R-squared:  0.8233,\tAdjusted R-squared:  0.7949 \n",
       "F-statistic:  28.9 on 5 and 31 DF,  p-value: 8.401e-11\n"
      ]
     },
     "metadata": {},
     "output_type": "display_data"
    },
    {
     "data": {
      "image/png": "[encoded data removed]",
      "text/plain": [
       "plot without title"
      ]
     },
     "metadata": {},
     "output_type": "display_data"
    }
   ],
   "source": [
    "dataTimeSeries <- log(as.numeric(newMumbai.xts$NewCases))\n",
    "detrended <- lm(formula=dataTimeSeries ~ timeTrend+timeTrend_2+Lockdown+RH+Temperature, data=mumbai.reg.data)\n",
    "summary(detrended)\n",
    "prediction <- predict(detrended)\n",
    "plot(index(newMumbai.xts),dataTimeSeries , \"l\", las=1, xlab=\"Time\", ylab=\"Log of Total Number of Cases\")\n",
    "lines(prediction~index(newMumbai.xts), col=\"blue\", lwd=2)\n",
    "# plot(residuals(detrended))\n",
    "# shapiro.test(detrended$residuals)"
   ]
  },
  {
   "cell_type": "code",
   "execution_count": 187,
   "metadata": {},
   "outputs": [
    {
     "data": {
      "text/html": [
       "-1.42396769113333e-17"
      ],
      "text/latex": [
       "-1.42396769113333e-17"
      ],
      "text/markdown": [
       "-1.42396769113333e-17"
      ],
      "text/plain": [
       "[1] -1.423968e-17"
      ]
     },
     "metadata": {},
     "output_type": "display_data"
    }
   ],
   "source": [
    "# par(mfrow = c(2,1))\n",
    "# acf(detrended$residuals)\n",
    "# ccf(detrended$residuals,dataTimeSeries)\n",
    "mean(detrended$residuals)"
   ]
  },
  {
   "cell_type": "code",
   "execution_count": 189,
   "metadata": {},
   "outputs": [
    {
     "name": "stdout",
     "output_type": "stream",
     "text": [
      "[1] 0.5571989\n"
     ]
    }
   ],
   "source": [
    "res <- detrended$residuals\n",
    "data <- dataTimeSeries\n",
    "print(cov(res,data))\n",
    "# var(data)\n",
    "# var(res)"
   ]
  },
  {
   "cell_type": "raw",
   "metadata": {},
   "source": []
  },
  {
   "cell_type": "markdown",
   "metadata": {},
   "source": [
    "### We see that there is ccf between y and error, let's make an ARIMA model now"
   ]
  },
  {
   "cell_type": "code",
   "execution_count": 124,
   "metadata": {},
   "outputs": [
    {
     "data": {
      "text/plain": [
       "Series: residualTimeSeries \n",
       "ARIMA(0,0,0) with zero mean \n",
       "\n",
       "sigma^2 estimated as 0.5421:  log likelihood=-41.17\n",
       "AIC=84.35   AICc=84.46   BIC=85.96"
      ]
     },
     "metadata": {},
     "output_type": "display_data"
    }
   ],
   "source": [
    "nrows <- length(detrended$residuals)\n",
    "residualTimeSeries <- detrended$residuals\n",
    "fit <- auto.arima(residualTimeSeries, method=\"ML\")\n",
    "fit"
   ]
  },
  {
   "cell_type": "code",
   "execution_count": 117,
   "metadata": {},
   "outputs": [
    {
     "data": {
      "text/plain": [
       " lag Autocorrelation D-W Statistic p-value\n",
       "   1     -0.20646156      2.383381   0.654\n",
       "   2      0.01358491      1.913678   0.536\n",
       "   3      0.25778924      1.402050   0.086\n",
       " Alternative hypothesis: rho[lag] != 0"
      ]
     },
     "metadata": {},
     "output_type": "display_data"
    }
   ],
   "source": [
    "# For autocorrelation in residuals\n",
    "durbinWatsonTest(detrended, max.lag=3)\n"
   ]
  },
  {
   "cell_type": "code",
   "execution_count": 84,
   "metadata": {},
   "outputs": [
    {
     "name": "stdout",
     "output_type": "stream",
     "text": [
      "[1] 27\n",
      "[1] \"2020-03-29\"\n"
     ]
    },
    {
     "data": {
      "text/plain": [
       "Series: dataTimeSeries \n",
       "Regression with ARIMA(1,0,0) errors \n",
       "\n",
       "Coefficients:\n",
       "          ar1  Lockdown_4  Lockdown_5   Temp_0  Temp_1   Temp_2   RH_11\n",
       "      -0.8931     -3.5542      1.8645  -0.0159  0.1720  -0.1460  0.0064\n",
       "s.e.   0.0803      0.3283      0.2855   0.0371  0.0515   0.0346  0.0079\n",
       "      time_trend_1  squared_time_trend_1  time_trend_2  squared_time_trend_2\n",
       "            0.7502               -0.1052        0.4612               -0.0088\n",
       "s.e.        0.1129                0.0119        0.0332                0.0009\n",
       "\n",
       "sigma^2 estimated as 0.06402:  log likelihood=5.06\n",
       "AIC=13.88   AICc=36.17   BIC=29.43"
      ]
     },
     "metadata": {},
     "output_type": "display_data"
    }
   ],
   "source": [
    "# Making two beta waala model using auto-ARIMA and new datasets\n",
    "nrows <- length(mumbai.reg.data$timeTrend)\n",
    "print(nrows)\n",
    "\n",
    "# Making a data with 6 columns, we can change entries according to the date\n",
    "# Format-> Lockdown|Lockdown_7|Lockdown_10|time_trend_1|squared_time_trend_1|time_trend_2|squared_time_trend_2\n",
    "\n",
    "modMumbaireg.data <- cbind(mumbai.reg.data,time_trend_2=mumbai.reg.data$timeTrend,\n",
    "                            squared_time_trend_2=mumbai.reg.data$timeTrend_2)\n",
    "colnames(modMumbaireg.data)<- c(\"Lockdown_4\", \"Lockdown_5\", \"Temp_0\", \"Temp_1\", \"Temp_2\", \"RH_11\", \"time_trend_1\", \"squared_time_trend_1\", \n",
    "                           \"time_trend_2\", \"squared_time_trend_2\")\n",
    "# modGujaratreg.data\n",
    "\n",
    "# ARIMA Initialisation\n",
    "\n",
    "dataTimeSeries <- log(as.numeric(newMumbai.xts$NewCases))\n",
    "aicLevel <- 1000\n",
    "etaDate = index(newMumbai.xts)[1]\n",
    "finalModel <- 0\n",
    "\n",
    "# StartDate = 20th March\n",
    "for (eta in (3:(nrows-2))){\n",
    "    tempXreg.data <- modMumbaireg.data\n",
    "    for (tempEta_2 in (1:(eta-1))){\n",
    "        tempXreg.data[tempEta_2,\"time_trend_2\"] <- 1\n",
    "        tempXreg.data[tempEta_2,\"squared_time_trend_2\"] <- 1\n",
    "    }\n",
    "    for (tempEta_1 in (eta:nrows)){\n",
    "        tempXreg.data[tempEta_1,\"time_trend_1\"] <- 1\n",
    "        tempXreg.data[tempEta_1,\"squared_time_trend_1\"] <- 1\n",
    "    }\n",
    "    \n",
    "    tempXreg.matrix <- data.matrix(tempXreg.data)-1\n",
    "    regressors <- tempXreg.matrix\n",
    "    tempFit <- auto.arima(dataTimeSeries, xreg=regressors, method=\"ML\")\n",
    "    if(tempFit$aicc < aicLevel){\n",
    "        aicLevel <- tempFit$aicc\n",
    "        etaDate <- as.Date(startDate + eta)\n",
    "        finalModel <- tempFit\n",
    "    }\n",
    "}\n",
    "print(etaDate)\n",
    "finalModel"
   ]
  },
  {
   "cell_type": "code",
   "execution_count": 86,
   "metadata": {},
   "outputs": [
    {
     "data": {
      "text/html": [
       "<ol class=list-inline>\n",
       "\t<li>28</li>\n",
       "\t<li>29</li>\n",
       "</ol>\n"
      ],
      "text/latex": [
       "\\begin{enumerate*}\n",
       "\\item 28\n",
       "\\item 29\n",
       "\\end{enumerate*}\n"
      ],
      "text/markdown": [
       "1. 28\n",
       "2. 29\n",
       "\n",
       "\n"
      ],
      "text/plain": [
       "[1] 28 29"
      ]
     },
     "metadata": {},
     "output_type": "display_data"
    },
    {
     "data": {
      "text/plain": [
       "Time Series:\n",
       "Start = 28 \n",
       "End = 29 \n",
       "Frequency = 1 \n",
       "[1] 264.5845 137.7562"
      ]
     },
     "metadata": {},
     "output_type": "display_data"
    },
    {
     "data": {
      "image/png": "[encoded data removed]",
      "text/plain": [
       "Plot with title \"Forecasts from Regression with ARIMA(1,0,0) errors\""
      ]
     },
     "metadata": {},
     "output_type": "display_data"
    }
   ],
   "source": [
    "# Forecasting the above model for two days\n",
    "# Setting the lockdown variable for future\n",
    "lastDate <- index(newMumbai.xts)[nrows]\n",
    "lock <- sample(1:1, 2, replace = TRUE)\n",
    "time_Before <- c(0,0)\n",
    "time <- (as.numeric(lastDate-startDate+2):(as.numeric(lastDate-startDate)+3))\n",
    "time\n",
    "time_2 <- time * time\n",
    "temp_0 <- c(38,35)\n",
    "temp_1 <- c(38,38)\n",
    "temp_2 <- c(37,38)\n",
    "RH_11 <- c(65,70)\n",
    "regressor.data <- data.frame(lock,lock,temp_0,temp_1,temp_2,RH_11,time_Before,time_Before,time,time_2)\n",
    "colnames(regressor.data)<- c(\"Lockdown_4\", \"Lockdown_5\", \"Temp_0\", \"Temp_1\", \"Temp_2\", \"RH_11\", \"time_trend_1\", \"squared_time_trend_1\", \n",
    "                           \"time_trend_2\", \"squared_time_trend_2\")\n",
    "regressor.matrix <- data.matrix(regressor.data)\n",
    "\n",
    "# Forecast\n",
    "fore <- forecast(finalModel, level=80,  xreg=regressor.matrix)\n",
    "plot(fore)\n",
    "# (fore$mean)\n",
    "exp((fore$mean))"
   ]
  },
  {
   "cell_type": "code",
   "execution_count": null,
   "metadata": {},
   "outputs": [],
   "source": []
  }
 ],
 "metadata": {
  "kernelspec": {
   "display_name": "R",
   "language": "R",
   "name": "ir"
  },
  "language_info": {
   "codemirror_mode": "r",
   "file_extension": ".r",
   "mimetype": "text/x-r-source",
   "name": "R",
   "pygments_lexer": "r",
   "version": "3.5.1"
  }
 },
 "nbformat": 4,
 "nbformat_minor": 2
}
