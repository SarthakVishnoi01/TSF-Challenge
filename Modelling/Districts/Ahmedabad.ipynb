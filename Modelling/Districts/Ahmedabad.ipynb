{
 "cells": [
  {
   "cell_type": "code",
   "execution_count": 11,
   "metadata": {},
   "outputs": [],
   "source": [
    "library(dynlm)\n",
    "library(car)\n",
    "library(carData)\n",
    "library(zoo)\n",
    "library(xts)\n",
    "library(tsbox)\n",
    "library(tseries)\n",
    "library(forecast)\n",
    "library(astsa)\n",
    "library(gvlma)\n",
    "library(hwwntest)"
   ]
  },
  {
   "cell_type": "code",
   "execution_count": 31,
   "metadata": {},
   "outputs": [
    {
     "data": {
      "text/html": [
       "<table>\n",
       "<thead><tr><th scope=col>Date</th><th scope=col>NewCases</th><th scope=col>TotalCases</th><th scope=col>Lockdown</th><th scope=col>Temperature</th><th scope=col>RH</th></tr></thead>\n",
       "<tbody>\n",
       "\t<tr><td>2020-01-30</td><td>0         </td><td>0         </td><td>0         </td><td>23        </td><td>32        </td></tr>\n",
       "\t<tr><td>2020-01-31</td><td>0         </td><td>0         </td><td>0         </td><td>23        </td><td>31        </td></tr>\n",
       "\t<tr><td>2020-02-01</td><td>0         </td><td>0         </td><td>0         </td><td>22        </td><td>24        </td></tr>\n",
       "\t<tr><td>2020-02-02</td><td>0         </td><td>0         </td><td>0         </td><td>22        </td><td>27        </td></tr>\n",
       "\t<tr><td>2020-02-03</td><td>0         </td><td>0         </td><td>0         </td><td>25        </td><td>27        </td></tr>\n",
       "\t<tr><td>2020-02-04</td><td>0         </td><td>0         </td><td>0         </td><td>23        </td><td>29        </td></tr>\n",
       "</tbody>\n",
       "</table>\n"
      ],
      "text/latex": [
       "\\begin{tabular}{r|llllll}\n",
       " Date & NewCases & TotalCases & Lockdown & Temperature & RH\\\\\n",
       "\\hline\n",
       "\t 2020-01-30 & 0          & 0          & 0          & 23         & 32        \\\\\n",
       "\t 2020-01-31 & 0          & 0          & 0          & 23         & 31        \\\\\n",
       "\t 2020-02-01 & 0          & 0          & 0          & 22         & 24        \\\\\n",
       "\t 2020-02-02 & 0          & 0          & 0          & 22         & 27        \\\\\n",
       "\t 2020-02-03 & 0          & 0          & 0          & 25         & 27        \\\\\n",
       "\t 2020-02-04 & 0          & 0          & 0          & 23         & 29        \\\\\n",
       "\\end{tabular}\n"
      ],
      "text/markdown": [
       "\n",
       "Date | NewCases | TotalCases | Lockdown | Temperature | RH | \n",
       "|---|---|---|---|---|---|\n",
       "| 2020-01-30 | 0          | 0          | 0          | 23         | 32         | \n",
       "| 2020-01-31 | 0          | 0          | 0          | 23         | 31         | \n",
       "| 2020-02-01 | 0          | 0          | 0          | 22         | 24         | \n",
       "| 2020-02-02 | 0          | 0          | 0          | 22         | 27         | \n",
       "| 2020-02-03 | 0          | 0          | 0          | 25         | 27         | \n",
       "| 2020-02-04 | 0          | 0          | 0          | 23         | 29         | \n",
       "\n",
       "\n"
      ],
      "text/plain": [
       "  Date       NewCases TotalCases Lockdown Temperature RH\n",
       "1 2020-01-30 0        0          0        23          32\n",
       "2 2020-01-31 0        0          0        23          31\n",
       "3 2020-02-01 0        0          0        22          24\n",
       "4 2020-02-02 0        0          0        22          27\n",
       "5 2020-02-03 0        0          0        25          27\n",
       "6 2020-02-04 0        0          0        23          29"
      ]
     },
     "metadata": {},
     "output_type": "display_data"
    }
   ],
   "source": [
    "# Making an xts object for the data\n",
    "# Mumbai\n",
    "\n",
    "mumbai <- as.data.frame(read.csv(\"../../Data/DistTimeSeries/Cases/Ahmedabad.csv\", sep = \",\"))\n",
    "mumbai$ï..Date <- as.Date(mumbai$ï..Date , format = \"%d-%m-%Y\")\n",
    "colnames(mumbai) <- c(\"Date\", \"NewCases\", \"TotalCases\", \"Lockdown\", \"Temperature\", \"RH\")\n",
    "mumbai.xts <- xts(mumbai, order.by=mumbai$Date)\n",
    "mumbai.xts <- mumbai.xts[, colnames(mumbai.xts) != \"Date\"]\n",
    "head(mumbai)"
   ]
  },
  {
   "cell_type": "code",
   "execution_count": 38,
   "metadata": {},
   "outputs": [],
   "source": [
    "# We make date with zero cases to 1 case\n",
    "mumbai.xts$NewCases <- replace(mumbai.xts$NewCases, (as.numeric(mumbai.xts$NewCases) == 0), \"1\")\n",
    "\n",
    "# Making new dataset after 20-Mar\n",
    "startDate <- as.Date(\"25-Mar-20\" , format = \"%d-%b-%y\")\n",
    "endDate <- as.Date(\"27-Apr-20\" , format = \"%d-%b-%y\")\n",
    "\n",
    "newMumbai.xts <- subset(mumbai.xts, index(mumbai.xts)>=startDate)\n",
    "newMumbai.xts <- subset(newMumbai.xts, index(newMumbai.xts)<=endDate)\n",
    "\n",
    "# mumbai.xts$NewCases"
   ]
  },
  {
   "cell_type": "code",
   "execution_count": 39,
   "metadata": {
    "scrolled": false
   },
   "outputs": [
    {
     "data": {
      "image/png": "[encoded data removed]",
      "text/plain": [
       "Plot with title \"Daily Cases in Ahmedabad (Log)\""
      ]
     },
     "metadata": {},
     "output_type": "display_data"
    }
   ],
   "source": [
    "# Plots for Daily new Cases\n",
    "\n",
    "par(mfrow = c(2,1), cex.main=0.9) # set up the graphics\n",
    "plot(index(newMumbai.xts), newMumbai.xts$NewCases, type=\"o\", col=\"blue\", pch=\"o\", lty=1, main=\"Daily Cases in Ahmedabad\", ylab=\"Number of New Cases\", xlab=\"Date\")\n",
    "plot(index(newMumbai.xts), log(as.numeric(newMumbai.xts$NewCases)), type=\"o\", col=\"blue\", pch=\"o\", lty=1, main=\"Daily Cases in Ahmedabad (Log)\", ylab=\"Log of Number of new Cases\", xlab=\"Date\")\n",
    "\n",
    "# par(mfrow = c(2,1))\n",
    "# acf(log(as.numeric(newMumbai.xts$NewCases)), main=\"Autocorrelation for log of number of Confirmed Cases (Daily new)\")\n",
    "# # ccf(log(as.numeric(newMumbai.xts$NewCases)), as.numeric(newMumbai.xts$Lockdown), main=\"Cross Correlation between log of new Confirmed Cases(t+lag) and Lockdown(t)\")\n",
    "\n",
    "# par(mfrow = c(2,1), cex.main=0.9)\n",
    "# ccf(log(as.numeric(newMumbai.xts$NewCases)), as.numeric(newMumbai.xts$Temperature), main=\"Cross Correlation between log of new Confirmed Cases(t+lag) and Temperature(t)\")\n",
    "# ccf(log(as.numeric(newMumbai.xts$NewCases)), as.numeric(newMumbai.xts$RH), main=\"Cross Correlation between log of new Confirmed Cases(t+lag) and Relative Humidity(t)\")\n"
   ]
  },
  {
   "cell_type": "code",
   "execution_count": 40,
   "metadata": {
    "scrolled": false
   },
   "outputs": [
    {
     "data": {
      "image/png": "[encoded data removed]",
      "text/plain": [
       "Plot with title \"Total Cases in Ahmedabad (Log)\""
      ]
     },
     "metadata": {},
     "output_type": "display_data"
    },
    {
     "data": {
      "image/png": "[encoded data removed]",
      "text/plain": [
       "Plot with title \"Autocorrelation for Confirmed Cases (Total)\""
      ]
     },
     "metadata": {},
     "output_type": "display_data"
    },
    {
     "data": {
      "image/png": "[encoded data removed]",
      "text/plain": [
       "Plot with title \"Cross Correlation between log of Total Confirmed Cases(t+lag) and Relative Humidity(t)\""
      ]
     },
     "metadata": {},
     "output_type": "display_data"
    }
   ],
   "source": [
    "# Plots for Total Cases\n",
    "\n",
    "par(mfrow = c(2,1)) # set up the graphics\n",
    "plot(index(newMumbai.xts), newMumbai.xts$TotalCases, type=\"o\", col=\"blue\", pch=\"o\", lty=1, main=\"Total Cases in Ahmedabad\", ylab=\"Number of Total Cases\", xlab=\"Date\")\n",
    "plot(index(newMumbai.xts), log(as.numeric(newMumbai.xts$TotalCases)), type=\"o\", col=\"blue\", pch=\"o\", lty=1, main=\"Total Cases in Ahmedabad (Log)\", ylab=\"Log of Number of Total Cases\", xlab=\"Date\")\n",
    "\n",
    "par(mfrow = c(2,1), cex.main=0.9)\n",
    "acf(log(as.numeric(newMumbai.xts$TotalCases)), main=\"Autocorrelation for Confirmed Cases (Total)\")\n",
    "# ccf(log(as.numeric(newMumbai.xts$TotalCases)), as.numeric(newMumbai.xts$Lockdown), main=\"Cross Correlation between log of Total Confirmed Cases(t+lag) and Lockdown(t)\")\n",
    "\n",
    "par(mfrow = c(2,1), cex.main=0.9)\n",
    "ccf(log(as.numeric(newMumbai.xts$TotalCases)), as.numeric(newMumbai.xts$Temperature), cex=0.25, main=\"Cross Correlation between log of Total Confirmed Cases(t+lag) and Temperature(t)\")\n",
    "ccf(log(as.numeric(newMumbai.xts$TotalCases)), as.numeric(newMumbai.xts$RH), main=\"Cross Correlation between log of Total Confirmed Cases(t+lag) and Relative Humidity(t)\")"
   ]
  },
  {
   "cell_type": "code",
   "execution_count": 41,
   "metadata": {},
   "outputs": [
    {
     "data": {
      "text/html": [
       "<table>\n",
       "<thead><tr><th scope=col>TimeSeries</th><th scope=col>Temperature</th><th scope=col>RH</th><th scope=col>timeTrend</th><th scope=col>timeTrend_2</th></tr></thead>\n",
       "<tbody>\n",
       "\t<tr><td>1.9459101</td><td>33       </td><td>27       </td><td> 1       </td><td>   1     </td></tr>\n",
       "\t<tr><td>0.0000000</td><td>31       </td><td>40       </td><td> 2       </td><td>   4     </td></tr>\n",
       "\t<tr><td>0.6931472</td><td>28       </td><td>42       </td><td> 3       </td><td>   9     </td></tr>\n",
       "\t<tr><td>3.0910425</td><td>29       </td><td>28       </td><td> 4       </td><td>  16     </td></tr>\n",
       "\t<tr><td>1.6094379</td><td>33       </td><td>19       </td><td> 5       </td><td>  25     </td></tr>\n",
       "\t<tr><td>1.9459101</td><td>32       </td><td>15       </td><td> 6       </td><td>  36     </td></tr>\n",
       "\t<tr><td>4.4188406</td><td>31       </td><td>20       </td><td> 7       </td><td>  49     </td></tr>\n",
       "\t<tr><td>2.6390573</td><td>32       </td><td>31       </td><td> 8       </td><td>  64     </td></tr>\n",
       "\t<tr><td>3.9889840</td><td>36       </td><td>22       </td><td> 9       </td><td>  81     </td></tr>\n",
       "\t<tr><td>3.7612001</td><td>36       </td><td>13       </td><td>10       </td><td> 100     </td></tr>\n",
       "\t<tr><td>4.5951199</td><td>37       </td><td>13       </td><td>11       </td><td> 121     </td></tr>\n",
       "\t<tr><td>4.3820266</td><td>38       </td><td>13       </td><td>12       </td><td> 144     </td></tr>\n",
       "\t<tr><td>4.2195077</td><td>35       </td><td>15       </td><td>13       </td><td> 169     </td></tr>\n",
       "\t<tr><td>4.7535902</td><td>34       </td><td>23       </td><td>14       </td><td> 196     </td></tr>\n",
       "\t<tr><td>4.2766661</td><td>32       </td><td>29       </td><td>15       </td><td> 225     </td></tr>\n",
       "\t<tr><td>5.0875963</td><td>34       </td><td>25       </td><td>16       </td><td> 256     </td></tr>\n",
       "\t<tr><td>4.8828019</td><td>38       </td><td>22       </td><td>17       </td><td> 289     </td></tr>\n",
       "\t<tr><td>4.9272537</td><td>37       </td><td>15       </td><td>18       </td><td> 324     </td></tr>\n",
       "\t<tr><td>5.0238805</td><td>38       </td><td>13       </td><td>19       </td><td> 361     </td></tr>\n",
       "\t<tr><td>5.4889377</td><td>36       </td><td>14       </td><td>20       </td><td> 400     </td></tr>\n",
       "\t<tr><td>5.3752784</td><td>35       </td><td>20       </td><td>21       </td><td> 441     </td></tr>\n",
       "\t<tr><td>4.9416424</td><td>35       </td><td>20       </td><td>22       </td><td> 484     </td></tr>\n",
       "\t<tr><td>5.1761497</td><td>36       </td><td>22       </td><td>23       </td><td> 529     </td></tr>\n",
       "\t<tr><td>2.4849066</td><td>37       </td><td>24       </td><td>24       </td><td> 576     </td></tr>\n",
       "\t<tr><td>5.2094862</td><td>35       </td><td>23       </td><td>25       </td><td> 625     </td></tr>\n",
       "\t<tr><td>6.1224928</td><td>34       </td><td>26       </td><td>26       </td><td> 676     </td></tr>\n",
       "\t<tr><td>5.7300998</td><td>33       </td><td>29       </td><td>27       </td><td> 729     </td></tr>\n",
       "\t<tr><td>6.0378709</td><td>34       </td><td>31       </td><td>28       </td><td> 784     </td></tr>\n",
       "\t<tr><td>5.4467374</td><td>35       </td><td>31       </td><td>29       </td><td> 841     </td></tr>\n",
       "\t<tr><td>6.2576676</td><td>36       </td><td>28       </td><td>30       </td><td> 900     </td></tr>\n",
       "\t<tr><td>5.4889377</td><td>36       </td><td>30       </td><td>31       </td><td> 961     </td></tr>\n",
       "\t<tr><td>6.4002574</td><td>35       </td><td>36       </td><td>32       </td><td>1024     </td></tr>\n",
       "\t<tr><td>5.1817836</td><td>36       </td><td>39       </td><td>33       </td><td>1089     </td></tr>\n",
       "\t<tr><td>5.2832037</td><td>36       </td><td>35       </td><td>34       </td><td>1156     </td></tr>\n",
       "</tbody>\n",
       "</table>\n"
      ],
      "text/latex": [
       "\\begin{tabular}{lllll}\n",
       " TimeSeries & Temperature & RH & timeTrend & timeTrend\\_2\\\\\n",
       "\\hline\n",
       "\t 1.9459101 & 33        & 27        &  1        &    1     \\\\\n",
       "\t 0.0000000 & 31        & 40        &  2        &    4     \\\\\n",
       "\t 0.6931472 & 28        & 42        &  3        &    9     \\\\\n",
       "\t 3.0910425 & 29        & 28        &  4        &   16     \\\\\n",
       "\t 1.6094379 & 33        & 19        &  5        &   25     \\\\\n",
       "\t 1.9459101 & 32        & 15        &  6        &   36     \\\\\n",
       "\t 4.4188406 & 31        & 20        &  7        &   49     \\\\\n",
       "\t 2.6390573 & 32        & 31        &  8        &   64     \\\\\n",
       "\t 3.9889840 & 36        & 22        &  9        &   81     \\\\\n",
       "\t 3.7612001 & 36        & 13        & 10        &  100     \\\\\n",
       "\t 4.5951199 & 37        & 13        & 11        &  121     \\\\\n",
       "\t 4.3820266 & 38        & 13        & 12        &  144     \\\\\n",
       "\t 4.2195077 & 35        & 15        & 13        &  169     \\\\\n",
       "\t 4.7535902 & 34        & 23        & 14        &  196     \\\\\n",
       "\t 4.2766661 & 32        & 29        & 15        &  225     \\\\\n",
       "\t 5.0875963 & 34        & 25        & 16        &  256     \\\\\n",
       "\t 4.8828019 & 38        & 22        & 17        &  289     \\\\\n",
       "\t 4.9272537 & 37        & 15        & 18        &  324     \\\\\n",
       "\t 5.0238805 & 38        & 13        & 19        &  361     \\\\\n",
       "\t 5.4889377 & 36        & 14        & 20        &  400     \\\\\n",
       "\t 5.3752784 & 35        & 20        & 21        &  441     \\\\\n",
       "\t 4.9416424 & 35        & 20        & 22        &  484     \\\\\n",
       "\t 5.1761497 & 36        & 22        & 23        &  529     \\\\\n",
       "\t 2.4849066 & 37        & 24        & 24        &  576     \\\\\n",
       "\t 5.2094862 & 35        & 23        & 25        &  625     \\\\\n",
       "\t 6.1224928 & 34        & 26        & 26        &  676     \\\\\n",
       "\t 5.7300998 & 33        & 29        & 27        &  729     \\\\\n",
       "\t 6.0378709 & 34        & 31        & 28        &  784     \\\\\n",
       "\t 5.4467374 & 35        & 31        & 29        &  841     \\\\\n",
       "\t 6.2576676 & 36        & 28        & 30        &  900     \\\\\n",
       "\t 5.4889377 & 36        & 30        & 31        &  961     \\\\\n",
       "\t 6.4002574 & 35        & 36        & 32        & 1024     \\\\\n",
       "\t 5.1817836 & 36        & 39        & 33        & 1089     \\\\\n",
       "\t 5.2832037 & 36        & 35        & 34        & 1156     \\\\\n",
       "\\end{tabular}\n"
      ],
      "text/markdown": [
       "\n",
       "TimeSeries | Temperature | RH | timeTrend | timeTrend_2 | \n",
       "|---|---|---|---|---|---|---|---|---|---|---|---|---|---|---|---|---|---|---|---|---|---|---|---|---|---|---|---|---|---|---|---|---|---|\n",
       "| 1.9459101 | 33        | 27        |  1        |    1      | \n",
       "| 0.0000000 | 31        | 40        |  2        |    4      | \n",
       "| 0.6931472 | 28        | 42        |  3        |    9      | \n",
       "| 3.0910425 | 29        | 28        |  4        |   16      | \n",
       "| 1.6094379 | 33        | 19        |  5        |   25      | \n",
       "| 1.9459101 | 32        | 15        |  6        |   36      | \n",
       "| 4.4188406 | 31        | 20        |  7        |   49      | \n",
       "| 2.6390573 | 32        | 31        |  8        |   64      | \n",
       "| 3.9889840 | 36        | 22        |  9        |   81      | \n",
       "| 3.7612001 | 36        | 13        | 10        |  100      | \n",
       "| 4.5951199 | 37        | 13        | 11        |  121      | \n",
       "| 4.3820266 | 38        | 13        | 12        |  144      | \n",
       "| 4.2195077 | 35        | 15        | 13        |  169      | \n",
       "| 4.7535902 | 34        | 23        | 14        |  196      | \n",
       "| 4.2766661 | 32        | 29        | 15        |  225      | \n",
       "| 5.0875963 | 34        | 25        | 16        |  256      | \n",
       "| 4.8828019 | 38        | 22        | 17        |  289      | \n",
       "| 4.9272537 | 37        | 15        | 18        |  324      | \n",
       "| 5.0238805 | 38        | 13        | 19        |  361      | \n",
       "| 5.4889377 | 36        | 14        | 20        |  400      | \n",
       "| 5.3752784 | 35        | 20        | 21        |  441      | \n",
       "| 4.9416424 | 35        | 20        | 22        |  484      | \n",
       "| 5.1761497 | 36        | 22        | 23        |  529      | \n",
       "| 2.4849066 | 37        | 24        | 24        |  576      | \n",
       "| 5.2094862 | 35        | 23        | 25        |  625      | \n",
       "| 6.1224928 | 34        | 26        | 26        |  676      | \n",
       "| 5.7300998 | 33        | 29        | 27        |  729      | \n",
       "| 6.0378709 | 34        | 31        | 28        |  784      | \n",
       "| 5.4467374 | 35        | 31        | 29        |  841      | \n",
       "| 6.2576676 | 36        | 28        | 30        |  900      | \n",
       "| 5.4889377 | 36        | 30        | 31        |  961      | \n",
       "| 6.4002574 | 35        | 36        | 32        | 1024      | \n",
       "| 5.1817836 | 36        | 39        | 33        | 1089      | \n",
       "| 5.2832037 | 36        | 35        | 34        | 1156      | \n",
       "\n",
       "\n"
      ],
      "text/plain": [
       "      TimeSeries Temperature RH timeTrend timeTrend_2\n",
       " [1,] 1.9459101  33          27  1           1       \n",
       " [2,] 0.0000000  31          40  2           4       \n",
       " [3,] 0.6931472  28          42  3           9       \n",
       " [4,] 3.0910425  29          28  4          16       \n",
       " [5,] 1.6094379  33          19  5          25       \n",
       " [6,] 1.9459101  32          15  6          36       \n",
       " [7,] 4.4188406  31          20  7          49       \n",
       " [8,] 2.6390573  32          31  8          64       \n",
       " [9,] 3.9889840  36          22  9          81       \n",
       "[10,] 3.7612001  36          13 10         100       \n",
       "[11,] 4.5951199  37          13 11         121       \n",
       "[12,] 4.3820266  38          13 12         144       \n",
       "[13,] 4.2195077  35          15 13         169       \n",
       "[14,] 4.7535902  34          23 14         196       \n",
       "[15,] 4.2766661  32          29 15         225       \n",
       "[16,] 5.0875963  34          25 16         256       \n",
       "[17,] 4.8828019  38          22 17         289       \n",
       "[18,] 4.9272537  37          15 18         324       \n",
       "[19,] 5.0238805  38          13 19         361       \n",
       "[20,] 5.4889377  36          14 20         400       \n",
       "[21,] 5.3752784  35          20 21         441       \n",
       "[22,] 4.9416424  35          20 22         484       \n",
       "[23,] 5.1761497  36          22 23         529       \n",
       "[24,] 2.4849066  37          24 24         576       \n",
       "[25,] 5.2094862  35          23 25         625       \n",
       "[26,] 6.1224928  34          26 26         676       \n",
       "[27,] 5.7300998  33          29 27         729       \n",
       "[28,] 6.0378709  34          31 28         784       \n",
       "[29,] 5.4467374  35          31 29         841       \n",
       "[30,] 6.2576676  36          28 30         900       \n",
       "[31,] 5.4889377  36          30 31         961       \n",
       "[32,] 6.4002574  35          36 32        1024       \n",
       "[33,] 5.1817836  36          39 33        1089       \n",
       "[34,] 5.2832037  36          35 34        1156       "
      ]
     },
     "metadata": {},
     "output_type": "display_data"
    }
   ],
   "source": [
    "# Making time squared trend to be fit\n",
    "# Adding plus 1 kyunki baadme vo subtract ho jaayega\n",
    "timeTrend_2 <- (1:length(index(newMumbai.xts))) ^2  \n",
    "timeTrend <- (1:length(index(newMumbai.xts)))\n",
    "\n",
    "mumbai.reg.data <- data.frame(log(as.numeric(coredata(newMumbai.xts$NewCases))),\n",
    "                              as.numeric(coredata(newMumbai.xts$Temperature)), as.numeric(coredata(newMumbai.xts$RH)),   \n",
    "                              timeTrend, timeTrend_2)\n",
    "colnames(mumbai.reg.data) <- c(\"TimeSeries\", \"Temperature\", \"RH\", \"timeTrend\", \"timeTrend_2\")\n",
    "\n",
    "# mumbai.reg.data.matrix <- data.matrix(mumbai.reg.data)\n",
    "# mumbai.reg.data.xts <- xts(mumbai.reg.data, order.by=index(newMumbai.xts))\n",
    "mumbai.reg.data.ts <- as.ts(mumbai.reg.data, order.by=index(newMumbai.xts))\n",
    "# index(mumbai.reg.data.zoo)\n",
    "mumbai.reg.data.ts "
   ]
  },
  {
   "cell_type": "markdown",
   "metadata": {},
   "source": [
    "## Let's de trend the total Cases Data\n"
   ]
  },
  {
   "cell_type": "code",
   "execution_count": 42,
   "metadata": {
    "scrolled": false
   },
   "outputs": [
    {
     "data": {
      "text/plain": [
       "\n",
       "Time series regression with \"ts\" data:\n",
       "Start = 1, End = 34\n",
       "\n",
       "Call:\n",
       "dynlm(formula = TimeSeries ~ timeTrend + timeTrend_2 + Temperature + \n",
       "    RH, data = mumbai.reg.data.ts)\n",
       "\n",
       "Residuals:\n",
       "     Min       1Q   Median       3Q      Max \n",
       "-2.78316 -0.19735 -0.00716  0.55229  1.12546 \n",
       "\n",
       "Coefficients:\n",
       "             Estimate Std. Error t value Pr(>|t|)   \n",
       "(Intercept)  6.060256   3.666663   1.653   0.1092   \n",
       "timeTrend    0.269648   0.081065   3.326   0.0024 **\n",
       "timeTrend_2 -0.003286   0.002360  -1.392   0.1744   \n",
       "Temperature -0.105791   0.096183  -1.100   0.2804   \n",
       "RH          -0.060694   0.031774  -1.910   0.0660 . \n",
       "---\n",
       "Signif. codes:  0 '***' 0.001 '**' 0.01 '*' 0.05 '.' 0.1 ' ' 1\n",
       "\n",
       "Residual standard error: 0.8112 on 29 degrees of freedom\n",
       "Multiple R-squared:  0.777,\tAdjusted R-squared:  0.7463 \n",
       "F-statistic: 25.27 on 4 and 29 DF,  p-value: 4.349e-09\n"
      ]
     },
     "metadata": {},
     "output_type": "display_data"
    },
    {
     "data": {
      "text/html": [
       "88.8524146864379"
      ],
      "text/latex": [
       "88.8524146864379"
      ],
      "text/markdown": [
       "88.8524146864379"
      ],
      "text/plain": [
       "[1] 88.85241"
      ]
     },
     "metadata": {},
     "output_type": "display_data"
    },
    {
     "data": {
      "image/png": "[encoded data removed]",
      "text/plain": [
       "plot without title"
      ]
     },
     "metadata": {},
     "output_type": "display_data"
    }
   ],
   "source": [
    "dataTimeSeries <- log(as.numeric(newMumbai.xts$NewCases))\n",
    "numRows <- length(dataTimeSeries)\n",
    "start = 1\n",
    "detrended <- dynlm(TimeSeries ~ timeTrend+timeTrend_2+Temperature+RH, data=mumbai.reg.data.ts)\n",
    "summary(detrended)\n",
    "prediction <- predict(detrended)\n",
    "plot(index(newMumbai.xts)[start:numRows], dataTimeSeries[start:numRows], \"l\", las=1, xlab=\"Time\", ylab=\"Log of Total Number of Cases\")\n",
    "lines(prediction~index(newMumbai.xts)[start:numRows], col=\"blue\", lwd=2)\n",
    "# plot(residuals(detrended))\n",
    "# shapiro.test(detrended$residuals)\n",
    "AIC(detrended)"
   ]
  },
  {
   "cell_type": "code",
   "execution_count": 43,
   "metadata": {},
   "outputs": [
    {
     "data": {
      "text/html": [
       "<table>\n",
       "<thead><tr><th scope=col>Temperature</th><th scope=col>RH</th><th scope=col>timeTrend</th><th scope=col>timeTrend_2</th></tr></thead>\n",
       "<tbody>\n",
       "\t<tr><td>36  </td><td>35  </td><td>35  </td><td>1225</td></tr>\n",
       "</tbody>\n",
       "</table>\n"
      ],
      "text/latex": [
       "\\begin{tabular}{r|llll}\n",
       " Temperature & RH & timeTrend & timeTrend\\_2\\\\\n",
       "\\hline\n",
       "\t 36   & 35   & 35   & 1225\\\\\n",
       "\\end{tabular}\n"
      ],
      "text/markdown": [
       "\n",
       "Temperature | RH | timeTrend | timeTrend_2 | \n",
       "|---|\n",
       "| 36   | 35   | 35   | 1225 | \n",
       "\n",
       "\n"
      ],
      "text/plain": [
       "  Temperature RH timeTrend timeTrend_2\n",
       "1 36          35 35        1225       "
      ]
     },
     "metadata": {},
     "output_type": "display_data"
    },
    {
     "data": {
      "text/html": [
       "0.289151026020151"
      ],
      "text/latex": [
       "0.289151026020151"
      ],
      "text/markdown": [
       "0.289151026020151"
      ],
      "text/plain": [
       "[1] 0.289151"
      ]
     },
     "metadata": {},
     "output_type": "display_data"
    },
    {
     "data": {
      "text/html": [
       "<strong>1:</strong> 254.583127837885"
      ],
      "text/latex": [
       "\\textbf{1:} 254.583127837885"
      ],
      "text/markdown": [
       "**1:** 254.583127837885"
      ],
      "text/plain": [
       "       1 \n",
       "254.5831 "
      ]
     },
     "metadata": {},
     "output_type": "display_data"
    },
    {
     "data": {
      "text/html": [
       "<strong>1:</strong> 339.943164585838"
      ],
      "text/latex": [
       "\\textbf{1:} 339.943164585838"
      ],
      "text/markdown": [
       "**1:** 339.943164585838"
      ],
      "text/plain": [
       "       1 \n",
       "339.9432 "
      ]
     },
     "metadata": {},
     "output_type": "display_data"
    },
    {
     "data": {
      "text/html": [
       "602"
      ],
      "text/latex": [
       "602"
      ],
      "text/markdown": [
       "602"
      ],
      "text/plain": [
       "[1] 602"
      ]
     },
     "metadata": {},
     "output_type": "display_data"
    }
   ],
   "source": [
    "# Forecasting\n",
    "# Predicting for 26th, 27th and 28th\n",
    "time <- c(35)\n",
    "timeSquared <- time*time\n",
    "\n",
    "# For 25th, 26th and 27th\n",
    "temperature <- c(36)\n",
    "RelHum <- c(35)\n",
    "data <- data.frame(temperature, RelHum, time, timeSquared)\n",
    "colnames(data) <- c(\"Temperature\", \"RH\", \"timeTrend\", \"timeTrend_2\")\n",
    "data\n",
    "pred <- predict(detrended, newdata = data)\n",
    "varianceError <- var(detrended$residuals)\n",
    "varianceError <- varianceError/2\n",
    "varianceError\n",
    "exp(pred)\n",
    "pred <- pred+varianceError\n",
    "finalPred <- exp(pred)\n",
    "finalPred\n",
    "initial <- exp(dataTimeSeries[32])\n",
    "initial"
   ]
  },
  {
   "cell_type": "code",
   "execution_count": 44,
   "metadata": {},
   "outputs": [],
   "source": [
    "# par(mfrow = c(2,1))\n",
    "# acf(detrended$residuals, main=\"Autocorrelation between residuals\")\n",
    "# pacf(detrended$residuals, main=\"Partial autocorrelation between residuals\")"
   ]
  },
  {
   "cell_type": "code",
   "execution_count": 45,
   "metadata": {},
   "outputs": [
    {
     "data": {
      "text/plain": [
       "\n",
       "\tBartlett B Test for white noise\n",
       "\n",
       "data:  \n",
       "= 0.365, p-value = 0.9993\n"
      ]
     },
     "metadata": {},
     "output_type": "display_data"
    }
   ],
   "source": [
    "# Test for white noise\n",
    "bartlettB.test(detrended$residuals)"
   ]
  },
  {
   "cell_type": "code",
   "execution_count": null,
   "metadata": {},
   "outputs": [],
   "source": []
  }
 ],
 "metadata": {
  "kernelspec": {
   "display_name": "R",
   "language": "R",
   "name": "ir"
  },
  "language_info": {
   "codemirror_mode": "r",
   "file_extension": ".r",
   "mimetype": "text/x-r-source",
   "name": "R",
   "pygments_lexer": "r",
   "version": "3.5.1"
  }
 },
 "nbformat": 4,
 "nbformat_minor": 2
}
