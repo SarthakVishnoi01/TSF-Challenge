{
 "cells": [
  {
   "cell_type": "code",
   "execution_count": 1,
   "metadata": {},
   "outputs": [
    {
     "name": "stderr",
     "output_type": "stream",
     "text": [
      "Warning message:\n",
      "\"package 'dynlm' was built under R version 3.5.3\"Loading required package: zoo\n",
      "Warning message:\n",
      "\"package 'zoo' was built under R version 3.5.3\"\n",
      "Attaching package: 'zoo'\n",
      "\n",
      "The following objects are masked from 'package:base':\n",
      "\n",
      "    as.Date, as.Date.numeric\n",
      "\n",
      "Warning message:\n",
      "\"package 'car' was built under R version 3.5.3\"Loading required package: carData\n",
      "Warning message:\n",
      "\"package 'carData' was built under R version 3.5.3\"Warning message:\n",
      "\"package 'xts' was built under R version 3.5.3\"Warning message:\n",
      "\"package 'tsbox' was built under R version 3.5.3\"Warning message:\n",
      "\"package 'tseries' was built under R version 3.5.3\"Warning message:\n",
      "\"package 'forecast' was built under R version 3.5.3\"Warning message:\n",
      "\"package 'astsa' was built under R version 3.5.3\"\n",
      "Attaching package: 'astsa'\n",
      "\n",
      "The following object is masked from 'package:forecast':\n",
      "\n",
      "    gas\n",
      "\n",
      "Warning message:\n",
      "\"package 'gvlma' was built under R version 3.5.2\"Warning message:\n",
      "\"package 'hwwntest' was built under R version 3.5.3\""
     ]
    }
   ],
   "source": [
    "library(dynlm)\n",
    "library(car)\n",
    "library(carData)\n",
    "library(zoo)\n",
    "library(xts)\n",
    "library(tsbox)\n",
    "library(tseries)\n",
    "library(forecast)\n",
    "library(astsa)\n",
    "library(gvlma)\n",
    "library(hwwntest)"
   ]
  },
  {
   "cell_type": "code",
   "execution_count": 2,
   "metadata": {},
   "outputs": [
    {
     "data": {
      "text/html": [
       "<table>\n",
       "<thead><tr><th scope=col>Date</th><th scope=col>NewCases</th><th scope=col>TotalCases</th><th scope=col>Lockdown</th><th scope=col>Temperature</th><th scope=col>RH</th></tr></thead>\n",
       "<tbody>\n",
       "\t<tr><td>2020-01-30</td><td>0         </td><td>0         </td><td>0         </td><td>15        </td><td>42        </td></tr>\n",
       "\t<tr><td>2020-01-31</td><td>0         </td><td>0         </td><td>0         </td><td>16        </td><td>44        </td></tr>\n",
       "\t<tr><td>2020-02-01</td><td>0         </td><td>0         </td><td>0         </td><td>16        </td><td>43        </td></tr>\n",
       "\t<tr><td>2020-02-02</td><td>0         </td><td>0         </td><td>0         </td><td>16        </td><td>41        </td></tr>\n",
       "\t<tr><td>2020-02-03</td><td>0         </td><td>0         </td><td>0         </td><td>17        </td><td>43        </td></tr>\n",
       "\t<tr><td>2020-02-04</td><td>0         </td><td>0         </td><td>0         </td><td>15        </td><td>45        </td></tr>\n",
       "</tbody>\n",
       "</table>\n"
      ],
      "text/latex": [
       "\\begin{tabular}{r|llllll}\n",
       " Date & NewCases & TotalCases & Lockdown & Temperature & RH\\\\\n",
       "\\hline\n",
       "\t 2020-01-30 & 0          & 0          & 0          & 15         & 42        \\\\\n",
       "\t 2020-01-31 & 0          & 0          & 0          & 16         & 44        \\\\\n",
       "\t 2020-02-01 & 0          & 0          & 0          & 16         & 43        \\\\\n",
       "\t 2020-02-02 & 0          & 0          & 0          & 16         & 41        \\\\\n",
       "\t 2020-02-03 & 0          & 0          & 0          & 17         & 43        \\\\\n",
       "\t 2020-02-04 & 0          & 0          & 0          & 15         & 45        \\\\\n",
       "\\end{tabular}\n"
      ],
      "text/markdown": [
       "\n",
       "Date | NewCases | TotalCases | Lockdown | Temperature | RH | \n",
       "|---|---|---|---|---|---|\n",
       "| 2020-01-30 | 0          | 0          | 0          | 15         | 42         | \n",
       "| 2020-01-31 | 0          | 0          | 0          | 16         | 44         | \n",
       "| 2020-02-01 | 0          | 0          | 0          | 16         | 43         | \n",
       "| 2020-02-02 | 0          | 0          | 0          | 16         | 41         | \n",
       "| 2020-02-03 | 0          | 0          | 0          | 17         | 43         | \n",
       "| 2020-02-04 | 0          | 0          | 0          | 15         | 45         | \n",
       "\n",
       "\n"
      ],
      "text/plain": [
       "  Date       NewCases TotalCases Lockdown Temperature RH\n",
       "1 2020-01-30 0        0          0        15          42\n",
       "2 2020-01-31 0        0          0        16          44\n",
       "3 2020-02-01 0        0          0        16          43\n",
       "4 2020-02-02 0        0          0        16          41\n",
       "5 2020-02-03 0        0          0        17          43\n",
       "6 2020-02-04 0        0          0        15          45"
      ]
     },
     "metadata": {},
     "output_type": "display_data"
    }
   ],
   "source": [
    "# Making an xts object for the data\n",
    "# Mumbai\n",
    "\n",
    "mumbai <- as.data.frame(read.csv(\"../../Data/DistTimeSeries/Cases/Jaipur.csv\", sep = \",\"))\n",
    "mumbai$ï..Date <- as.Date(mumbai$ï..Date , format = \"%d-%m-%Y\")\n",
    "colnames(mumbai) <- c(\"Date\", \"NewCases\", \"TotalCases\", \"Lockdown\", \"Temperature\", \"RH\")\n",
    "mumbai.xts <- xts(mumbai, order.by=mumbai$Date)\n",
    "mumbai.xts <- mumbai.xts[, colnames(mumbai.xts) != \"Date\"]\n",
    "head(mumbai)"
   ]
  },
  {
   "cell_type": "code",
   "execution_count": 16,
   "metadata": {},
   "outputs": [],
   "source": [
    "# We make date with zero cases to 1 case\n",
    "mumbai.xts$NewCases <- replace(mumbai.xts$NewCases, (as.numeric(mumbai.xts$NewCases) == 0), \"1\")\n",
    "\n",
    "# Making new dataset after 20-Mar\n",
    "startDate <- as.Date(\"25-Mar-20\" , format = \"%d-%b-%y\")\n",
    "endDate <- as.Date(\"27-Apr-20\" , format = \"%d-%b-%y\")\n",
    "\n",
    "newMumbai.xts <- subset(mumbai.xts, index(mumbai.xts)>=startDate)\n",
    "newMumbai.xts <- subset(newMumbai.xts, index(newMumbai.xts)<=endDate)\n",
    "# mumbai.xts$NewCases"
   ]
  },
  {
   "cell_type": "code",
   "execution_count": 17,
   "metadata": {
    "scrolled": false
   },
   "outputs": [
    {
     "data": {
      "image/png": "[encoded data removed]",
      "text/plain": [
       "Plot with title \"Daily Cases in Jaipur (Log)\""
      ]
     },
     "metadata": {},
     "output_type": "display_data"
    },
    {
     "data": {
      "image/png": "[encoded data removed]",
      "text/plain": [
       "Plot with title \"Cross Correlation between log of new Confirmed Cases(t+lag) and Relative Humidity(t)\""
      ]
     },
     "metadata": {},
     "output_type": "display_data"
    }
   ],
   "source": [
    "# Plots for Daily new Cases\n",
    "\n",
    "par(mfrow = c(2,1), cex.main=0.9) # set up the graphics\n",
    "plot(index(newMumbai.xts), newMumbai.xts$NewCases, type=\"o\", col=\"blue\", pch=\"o\", lty=1, main=\"Daily Cases in Jaipur\", ylab=\"Number of New Cases\", xlab=\"Date\")\n",
    "plot(index(newMumbai.xts), log(as.numeric(newMumbai.xts$NewCases)), type=\"o\", col=\"blue\", pch=\"o\", lty=1, main=\"Daily Cases in Jaipur (Log)\", ylab=\"Log of Number of new Cases\", xlab=\"Date\")\n",
    "\n",
    "par(mfrow = c(3,1), cex.main = 0.9)\n",
    "acf(log(as.numeric(newMumbai.xts$NewCases)), main=\"Autocorrelation for log of number of Confirmed Cases (Daily new)\")\n",
    "ccf(log(as.numeric(newMumbai.xts$NewCases)), as.numeric(newMumbai.xts$Temperature), main=\"Cross Correlation between log of new Confirmed Cases(t+lag) and Temperature(t)\")\n",
    "ccf(log(as.numeric(newMumbai.xts$NewCases)), as.numeric(newMumbai.xts$RH), main=\"Cross Correlation between log of new Confirmed Cases(t+lag) and Relative Humidity(t)\")\n"
   ]
  },
  {
   "cell_type": "code",
   "execution_count": 18,
   "metadata": {
    "scrolled": false
   },
   "outputs": [
    {
     "data": {
      "image/png": "[encoded data removed]",
      "text/plain": [
       "Plot with title \"Total Cases in Jaipur (Log)\""
      ]
     },
     "metadata": {},
     "output_type": "display_data"
    },
    {
     "data": {
      "image/png": "[encoded data removed]",
      "text/plain": [
       "Plot with title \"Cross Correlation between log of Total Confirmed Cases(t+lag) and Relative Humidity(t)\""
      ]
     },
     "metadata": {},
     "output_type": "display_data"
    }
   ],
   "source": [
    "# Plots for Total Cases\n",
    "\n",
    "par(mfrow = c(2,1)) # set up the graphics\n",
    "plot(index(newMumbai.xts), newMumbai.xts$TotalCases, type=\"o\", col=\"blue\", pch=\"o\", lty=1, main=\"Total Cases in Jaipur\", ylab=\"Number of Total Cases\", xlab=\"Date\")\n",
    "plot(index(newMumbai.xts), log(as.numeric(newMumbai.xts$TotalCases)), type=\"o\", col=\"blue\", pch=\"o\", lty=1, main=\"Total Cases in Jaipur (Log)\", ylab=\"Log of Number of Total Cases\", xlab=\"Date\")\n",
    "\n",
    "par(mfrow = c(3,1), cex.main=0.9)\n",
    "acf(log(as.numeric(newMumbai.xts$TotalCases)), main=\"Autocorrelation for Confirmed Cases (Total)\")\n",
    "ccf(log(as.numeric(newMumbai.xts$TotalCases)), as.numeric(newMumbai.xts$Temperature), cex=0.25, main=\"Cross Correlation between log of Total Confirmed Cases(t+lag) and Temperature(t)\")\n",
    "ccf(log(as.numeric(newMumbai.xts$TotalCases)), as.numeric(newMumbai.xts$RH), main=\"Cross Correlation between log of Total Confirmed Cases(t+lag) and Relative Humidity(t)\")"
   ]
  },
  {
   "cell_type": "code",
   "execution_count": 19,
   "metadata": {},
   "outputs": [
    {
     "data": {
      "text/html": [
       "<table>\n",
       "<thead><tr><th scope=col>TimeSeries</th><th scope=col>Temperature</th><th scope=col>RH</th><th scope=col>timeTrend</th><th scope=col>timeTrend_2</th></tr></thead>\n",
       "<tbody>\n",
       "\t<tr><td>0.000000</td><td>27      </td><td>37      </td><td> 1      </td><td>   1    </td></tr>\n",
       "\t<tr><td>0.000000</td><td>25      </td><td>48      </td><td> 2      </td><td>   4    </td></tr>\n",
       "\t<tr><td>0.000000</td><td>22      </td><td>65      </td><td> 3      </td><td>   9    </td></tr>\n",
       "\t<tr><td>0.000000</td><td>25      </td><td>42      </td><td> 4      </td><td>  16    </td></tr>\n",
       "\t<tr><td>0.000000</td><td>26      </td><td>28      </td><td> 5      </td><td>  25    </td></tr>\n",
       "\t<tr><td>2.302585</td><td>26      </td><td>26      </td><td> 6      </td><td>  36    </td></tr>\n",
       "\t<tr><td>0.000000</td><td>27      </td><td>22      </td><td> 7      </td><td>  49    </td></tr>\n",
       "\t<tr><td>2.564949</td><td>28      </td><td>25      </td><td> 8      </td><td>  64    </td></tr>\n",
       "\t<tr><td>1.945910</td><td>27      </td><td>22      </td><td> 9      </td><td>  81    </td></tr>\n",
       "\t<tr><td>2.639057</td><td>28      </td><td>15      </td><td>10      </td><td> 100    </td></tr>\n",
       "\t<tr><td>0.000000</td><td>28      </td><td>15      </td><td>11      </td><td> 121    </td></tr>\n",
       "\t<tr><td>3.663562</td><td>30      </td><td>16      </td><td>12      </td><td> 144    </td></tr>\n",
       "\t<tr><td>2.079442</td><td>30      </td><td>16      </td><td>13      </td><td> 169    </td></tr>\n",
       "\t<tr><td>1.791759</td><td>31      </td><td>15      </td><td>14      </td><td> 196    </td></tr>\n",
       "\t<tr><td>3.135494</td><td>30      </td><td>18      </td><td>15      </td><td> 225    </td></tr>\n",
       "\t<tr><td>3.663562</td><td>29      </td><td>18      </td><td>16      </td><td> 256    </td></tr>\n",
       "\t<tr><td>3.970292</td><td>32      </td><td>19      </td><td>17      </td><td> 289    </td></tr>\n",
       "\t<tr><td>4.382027</td><td>33      </td><td>18      </td><td>18      </td><td> 324    </td></tr>\n",
       "\t<tr><td>3.688879</td><td>32      </td><td>20      </td><td>19      </td><td> 361    </td></tr>\n",
       "\t<tr><td>3.367296</td><td>33      </td><td>20      </td><td>20      </td><td> 400    </td></tr>\n",
       "\t<tr><td>4.418841</td><td>34      </td><td>15      </td><td>21      </td><td> 441    </td></tr>\n",
       "\t<tr><td>3.401197</td><td>34      </td><td>15      </td><td>22      </td><td> 484    </td></tr>\n",
       "\t<tr><td>1.098612</td><td>33      </td><td>16      </td><td>23      </td><td> 529    </td></tr>\n",
       "\t<tr><td>2.079442</td><td>33      </td><td>17      </td><td>24      </td><td> 576    </td></tr>\n",
       "\t<tr><td>3.218876</td><td>31      </td><td>18      </td><td>25      </td><td> 625    </td></tr>\n",
       "\t<tr><td>2.772589</td><td>31      </td><td>23      </td><td>26      </td><td> 676    </td></tr>\n",
       "\t<tr><td>3.912023</td><td>29      </td><td>30      </td><td>27      </td><td> 729    </td></tr>\n",
       "\t<tr><td>4.276666</td><td>29      </td><td>28      </td><td>28      </td><td> 784    </td></tr>\n",
       "\t<tr><td>4.219508</td><td>31      </td><td>20      </td><td>29      </td><td> 841    </td></tr>\n",
       "\t<tr><td>2.708050</td><td>30      </td><td>25      </td><td>30      </td><td> 900    </td></tr>\n",
       "\t<tr><td>3.583519</td><td>31      </td><td>26      </td><td>31      </td><td> 961    </td></tr>\n",
       "\t<tr><td>2.708050</td><td>29      </td><td>29      </td><td>32      </td><td>1024    </td></tr>\n",
       "\t<tr><td>2.772589</td><td>29      </td><td>32      </td><td>33      </td><td>1089    </td></tr>\n",
       "\t<tr><td>3.218876</td><td>30      </td><td>32      </td><td>34      </td><td>1156    </td></tr>\n",
       "</tbody>\n",
       "</table>\n"
      ],
      "text/latex": [
       "\\begin{tabular}{lllll}\n",
       " TimeSeries & Temperature & RH & timeTrend & timeTrend\\_2\\\\\n",
       "\\hline\n",
       "\t 0.000000 & 27       & 37       &  1       &    1    \\\\\n",
       "\t 0.000000 & 25       & 48       &  2       &    4    \\\\\n",
       "\t 0.000000 & 22       & 65       &  3       &    9    \\\\\n",
       "\t 0.000000 & 25       & 42       &  4       &   16    \\\\\n",
       "\t 0.000000 & 26       & 28       &  5       &   25    \\\\\n",
       "\t 2.302585 & 26       & 26       &  6       &   36    \\\\\n",
       "\t 0.000000 & 27       & 22       &  7       &   49    \\\\\n",
       "\t 2.564949 & 28       & 25       &  8       &   64    \\\\\n",
       "\t 1.945910 & 27       & 22       &  9       &   81    \\\\\n",
       "\t 2.639057 & 28       & 15       & 10       &  100    \\\\\n",
       "\t 0.000000 & 28       & 15       & 11       &  121    \\\\\n",
       "\t 3.663562 & 30       & 16       & 12       &  144    \\\\\n",
       "\t 2.079442 & 30       & 16       & 13       &  169    \\\\\n",
       "\t 1.791759 & 31       & 15       & 14       &  196    \\\\\n",
       "\t 3.135494 & 30       & 18       & 15       &  225    \\\\\n",
       "\t 3.663562 & 29       & 18       & 16       &  256    \\\\\n",
       "\t 3.970292 & 32       & 19       & 17       &  289    \\\\\n",
       "\t 4.382027 & 33       & 18       & 18       &  324    \\\\\n",
       "\t 3.688879 & 32       & 20       & 19       &  361    \\\\\n",
       "\t 3.367296 & 33       & 20       & 20       &  400    \\\\\n",
       "\t 4.418841 & 34       & 15       & 21       &  441    \\\\\n",
       "\t 3.401197 & 34       & 15       & 22       &  484    \\\\\n",
       "\t 1.098612 & 33       & 16       & 23       &  529    \\\\\n",
       "\t 2.079442 & 33       & 17       & 24       &  576    \\\\\n",
       "\t 3.218876 & 31       & 18       & 25       &  625    \\\\\n",
       "\t 2.772589 & 31       & 23       & 26       &  676    \\\\\n",
       "\t 3.912023 & 29       & 30       & 27       &  729    \\\\\n",
       "\t 4.276666 & 29       & 28       & 28       &  784    \\\\\n",
       "\t 4.219508 & 31       & 20       & 29       &  841    \\\\\n",
       "\t 2.708050 & 30       & 25       & 30       &  900    \\\\\n",
       "\t 3.583519 & 31       & 26       & 31       &  961    \\\\\n",
       "\t 2.708050 & 29       & 29       & 32       & 1024    \\\\\n",
       "\t 2.772589 & 29       & 32       & 33       & 1089    \\\\\n",
       "\t 3.218876 & 30       & 32       & 34       & 1156    \\\\\n",
       "\\end{tabular}\n"
      ],
      "text/markdown": [
       "\n",
       "TimeSeries | Temperature | RH | timeTrend | timeTrend_2 | \n",
       "|---|---|---|---|---|---|---|---|---|---|---|---|---|---|---|---|---|---|---|---|---|---|---|---|---|---|---|---|---|---|---|---|---|---|\n",
       "| 0.000000 | 27       | 37       |  1       |    1     | \n",
       "| 0.000000 | 25       | 48       |  2       |    4     | \n",
       "| 0.000000 | 22       | 65       |  3       |    9     | \n",
       "| 0.000000 | 25       | 42       |  4       |   16     | \n",
       "| 0.000000 | 26       | 28       |  5       |   25     | \n",
       "| 2.302585 | 26       | 26       |  6       |   36     | \n",
       "| 0.000000 | 27       | 22       |  7       |   49     | \n",
       "| 2.564949 | 28       | 25       |  8       |   64     | \n",
       "| 1.945910 | 27       | 22       |  9       |   81     | \n",
       "| 2.639057 | 28       | 15       | 10       |  100     | \n",
       "| 0.000000 | 28       | 15       | 11       |  121     | \n",
       "| 3.663562 | 30       | 16       | 12       |  144     | \n",
       "| 2.079442 | 30       | 16       | 13       |  169     | \n",
       "| 1.791759 | 31       | 15       | 14       |  196     | \n",
       "| 3.135494 | 30       | 18       | 15       |  225     | \n",
       "| 3.663562 | 29       | 18       | 16       |  256     | \n",
       "| 3.970292 | 32       | 19       | 17       |  289     | \n",
       "| 4.382027 | 33       | 18       | 18       |  324     | \n",
       "| 3.688879 | 32       | 20       | 19       |  361     | \n",
       "| 3.367296 | 33       | 20       | 20       |  400     | \n",
       "| 4.418841 | 34       | 15       | 21       |  441     | \n",
       "| 3.401197 | 34       | 15       | 22       |  484     | \n",
       "| 1.098612 | 33       | 16       | 23       |  529     | \n",
       "| 2.079442 | 33       | 17       | 24       |  576     | \n",
       "| 3.218876 | 31       | 18       | 25       |  625     | \n",
       "| 2.772589 | 31       | 23       | 26       |  676     | \n",
       "| 3.912023 | 29       | 30       | 27       |  729     | \n",
       "| 4.276666 | 29       | 28       | 28       |  784     | \n",
       "| 4.219508 | 31       | 20       | 29       |  841     | \n",
       "| 2.708050 | 30       | 25       | 30       |  900     | \n",
       "| 3.583519 | 31       | 26       | 31       |  961     | \n",
       "| 2.708050 | 29       | 29       | 32       | 1024     | \n",
       "| 2.772589 | 29       | 32       | 33       | 1089     | \n",
       "| 3.218876 | 30       | 32       | 34       | 1156     | \n",
       "\n",
       "\n"
      ],
      "text/plain": [
       "      TimeSeries Temperature RH timeTrend timeTrend_2\n",
       " [1,] 0.000000   27          37  1           1       \n",
       " [2,] 0.000000   25          48  2           4       \n",
       " [3,] 0.000000   22          65  3           9       \n",
       " [4,] 0.000000   25          42  4          16       \n",
       " [5,] 0.000000   26          28  5          25       \n",
       " [6,] 2.302585   26          26  6          36       \n",
       " [7,] 0.000000   27          22  7          49       \n",
       " [8,] 2.564949   28          25  8          64       \n",
       " [9,] 1.945910   27          22  9          81       \n",
       "[10,] 2.639057   28          15 10         100       \n",
       "[11,] 0.000000   28          15 11         121       \n",
       "[12,] 3.663562   30          16 12         144       \n",
       "[13,] 2.079442   30          16 13         169       \n",
       "[14,] 1.791759   31          15 14         196       \n",
       "[15,] 3.135494   30          18 15         225       \n",
       "[16,] 3.663562   29          18 16         256       \n",
       "[17,] 3.970292   32          19 17         289       \n",
       "[18,] 4.382027   33          18 18         324       \n",
       "[19,] 3.688879   32          20 19         361       \n",
       "[20,] 3.367296   33          20 20         400       \n",
       "[21,] 4.418841   34          15 21         441       \n",
       "[22,] 3.401197   34          15 22         484       \n",
       "[23,] 1.098612   33          16 23         529       \n",
       "[24,] 2.079442   33          17 24         576       \n",
       "[25,] 3.218876   31          18 25         625       \n",
       "[26,] 2.772589   31          23 26         676       \n",
       "[27,] 3.912023   29          30 27         729       \n",
       "[28,] 4.276666   29          28 28         784       \n",
       "[29,] 4.219508   31          20 29         841       \n",
       "[30,] 2.708050   30          25 30         900       \n",
       "[31,] 3.583519   31          26 31         961       \n",
       "[32,] 2.708050   29          29 32        1024       \n",
       "[33,] 2.772589   29          32 33        1089       \n",
       "[34,] 3.218876   30          32 34        1156       "
      ]
     },
     "metadata": {},
     "output_type": "display_data"
    }
   ],
   "source": [
    "# Making time squared trend to be fit\n",
    "# Adding plus 1 kyunki baadme vo subtract ho jaayega\n",
    "timeTrend_2 <- (1:length(index(newMumbai.xts))) ^2  \n",
    "timeTrend <- (1:length(index(newMumbai.xts)))\n",
    "\n",
    "mumbai.reg.data <- data.frame(log(as.numeric(coredata(newMumbai.xts$NewCases))),\n",
    "                              as.numeric(coredata(newMumbai.xts$Temperature)), as.numeric(coredata(newMumbai.xts$RH)),   \n",
    "                              timeTrend, timeTrend_2)\n",
    "colnames(mumbai.reg.data) <- c(\"TimeSeries\", \"Temperature\", \"RH\", \"timeTrend\", \"timeTrend_2\")\n",
    "\n",
    "# mumbai.reg.data.matrix <- data.matrix(mumbai.reg.data)\n",
    "# mumbai.reg.data.xts <- xts(mumbai.reg.data, order.by=index(newMumbai.xts))\n",
    "mumbai.reg.data.ts <- as.ts(mumbai.reg.data, order.by=index(newMumbai.xts))\n",
    "# index(mumbai.reg.data.zoo)\n",
    "mumbai.reg.data.ts "
   ]
  },
  {
   "cell_type": "markdown",
   "metadata": {},
   "source": [
    "## Let's de trend the total Cases Data\n"
   ]
  },
  {
   "cell_type": "code",
   "execution_count": 20,
   "metadata": {
    "scrolled": false
   },
   "outputs": [
    {
     "data": {
      "text/plain": [
       "\n",
       "Time series regression with \"ts\" data:\n",
       "Start = 2, End = 34\n",
       "\n",
       "Call:\n",
       "dynlm(formula = TimeSeries ~ timeTrend + timeTrend_2 + L(Temperature) + \n",
       "    L(RH, 1), data = mumbai.reg.data.ts)\n",
       "\n",
       "Residuals:\n",
       "    Min      1Q  Median      3Q     Max \n",
       "-2.3039 -0.4982  0.2459  0.5533  1.3038 \n",
       "\n",
       "Coefficients:\n",
       "                Estimate Std. Error t value Pr(>|t|)   \n",
       "(Intercept)     1.930298   3.690965   0.523  0.60510   \n",
       "timeTrend       0.506057   0.154068   3.285  0.00275 **\n",
       "timeTrend_2    -0.010660   0.003771  -2.827  0.00858 **\n",
       "L(Temperature) -0.140930   0.129783  -1.086  0.28679   \n",
       "L(RH, 1)        0.002859   0.029281   0.098  0.92290   \n",
       "---\n",
       "Signif. codes:  0 '***' 0.001 '**' 0.01 '*' 0.05 '.' 0.1 ' ' 1\n",
       "\n",
       "Residual standard error: 0.9721 on 28 degrees of freedom\n",
       "Multiple R-squared:  0.6032,\tAdjusted R-squared:  0.5465 \n",
       "F-statistic: 10.64 on 4 and 28 DF,  p-value: 2.269e-05\n"
      ]
     },
     "metadata": {},
     "output_type": "display_data"
    },
    {
     "data": {
      "text/html": [
       "98.3622610718579"
      ],
      "text/latex": [
       "98.3622610718579"
      ],
      "text/markdown": [
       "98.3622610718579"
      ],
      "text/plain": [
       "[1] 98.36226"
      ]
     },
     "metadata": {},
     "output_type": "display_data"
    },
    {
     "data": {
      "image/png": "[encoded data removed]",
      "text/plain": [
       "plot without title"
      ]
     },
     "metadata": {},
     "output_type": "display_data"
    }
   ],
   "source": [
    "dataTimeSeries <- log(as.numeric(newMumbai.xts$NewCases))\n",
    "numRows <- length(dataTimeSeries)\n",
    "start = 2\n",
    "detrended <- dynlm(TimeSeries ~ timeTrend+timeTrend_2+L(Temperature)+L(RH,1), data=mumbai.reg.data.ts)\n",
    "summary(detrended)\n",
    "prediction <- predict(detrended)\n",
    "plot(index(newMumbai.xts)[start:numRows], dataTimeSeries[start:numRows], \"l\", las=1, xlab=\"Time\", ylab=\"Log of Total Number of Cases\")\n",
    "lines(prediction~index(newMumbai.xts)[start:numRows], col=\"blue\", lwd=2)\n",
    "# plot(residuals(detrended))\n",
    "# shapiro.test(detrended$residuals)\n",
    "AIC(detrended)"
   ]
  },
  {
   "cell_type": "code",
   "execution_count": 21,
   "metadata": {},
   "outputs": [
    {
     "data": {
      "text/html": [
       "<table>\n",
       "<thead><tr><th scope=col>Temperature</th><th scope=col>RH</th><th scope=col>timeTrend</th><th scope=col>timeTrend_2</th></tr></thead>\n",
       "<tbody>\n",
       "\t<tr><td>32  </td><td>30  </td><td>35  </td><td>1225</td></tr>\n",
       "</tbody>\n",
       "</table>\n"
      ],
      "text/latex": [
       "\\begin{tabular}{r|llll}\n",
       " Temperature & RH & timeTrend & timeTrend\\_2\\\\\n",
       "\\hline\n",
       "\t 32   & 30   & 35   & 1225\\\\\n",
       "\\end{tabular}\n"
      ],
      "text/markdown": [
       "\n",
       "Temperature | RH | timeTrend | timeTrend_2 | \n",
       "|---|\n",
       "| 32   | 30   | 35   | 1225 | \n",
       "\n",
       "\n"
      ],
      "text/plain": [
       "  Temperature RH timeTrend timeTrend_2\n",
       "1 32          30 35        1225       "
      ]
     },
     "metadata": {},
     "output_type": "display_data"
    },
    {
     "data": {
      "text/html": [
       "0.413451784789008"
      ],
      "text/latex": [
       "0.413451784789008"
      ],
      "text/markdown": [
       "0.413451784789008"
      ],
      "text/plain": [
       "[1] 0.4134518"
      ]
     },
     "metadata": {},
     "output_type": "display_data"
    },
    {
     "data": {
      "text/html": [
       "<strong>1:</strong> 8.66768814540202"
      ],
      "text/latex": [
       "\\textbf{1:} 8.66768814540202"
      ],
      "text/markdown": [
       "**1:** 8.66768814540202"
      ],
      "text/plain": [
       "       1 \n",
       "8.667688 "
      ]
     },
     "metadata": {},
     "output_type": "display_data"
    },
    {
     "data": {
      "text/html": [
       "<strong>1:</strong> 13.1057870228189"
      ],
      "text/latex": [
       "\\textbf{1:} 13.1057870228189"
      ],
      "text/markdown": [
       "**1:** 13.1057870228189"
      ],
      "text/plain": [
       "       1 \n",
       "13.10579 "
      ]
     },
     "metadata": {},
     "output_type": "display_data"
    },
    {
     "data": {
      "text/html": [
       "15"
      ],
      "text/latex": [
       "15"
      ],
      "text/markdown": [
       "15"
      ],
      "text/plain": [
       "[1] 15"
      ]
     },
     "metadata": {},
     "output_type": "display_data"
    }
   ],
   "source": [
    "# Forecasting\n",
    "# Predicting for 26th, 27th and 28th\n",
    "time <- c(35)\n",
    "timeSquared <- time*time\n",
    "\n",
    "# For 25th, 26th and 27th\n",
    "temperature <- c(32)\n",
    "RelHum <- c(30)\n",
    "data <- data.frame(temperature, RelHum, time, timeSquared)\n",
    "colnames(data) <- c(\"Temperature\", \"RH\", \"timeTrend\", \"timeTrend_2\")\n",
    "data\n",
    "pred <- predict(detrended, newdata = data)\n",
    "varianceError <- var(detrended$residuals)\n",
    "varianceError <- varianceError/2\n",
    "varianceError\n",
    "exp(pred)\n",
    "pred <- pred+varianceError\n",
    "finalPred <- exp(pred)\n",
    "finalPred\n",
    "initial <- exp(dataTimeSeries[32])\n",
    "initial"
   ]
  },
  {
   "cell_type": "code",
   "execution_count": 22,
   "metadata": {},
   "outputs": [
    {
     "data": {
      "image/png": "[encoded data removed]",
      "text/plain": [
       "Plot with title \"Partial autocorrelation between residuals\""
      ]
     },
     "metadata": {},
     "output_type": "display_data"
    }
   ],
   "source": [
    "par(mfrow = c(2,1))\n",
    "acf(detrended$residuals, main=\"Autocorrelation between residuals\")\n",
    "pacf(detrended$residuals, main=\"Partial autocorrelation between residuals\")"
   ]
  },
  {
   "cell_type": "code",
   "execution_count": 37,
   "metadata": {},
   "outputs": [
    {
     "data": {
      "text/plain": [
       "Series: residualTimeSeries \n",
       "ARIMA(0,0,0) with zero mean \n",
       "\n",
       "sigma^2 estimated as 0.008649:  log likelihood=22.95\n",
       "AIC=-43.9   AICc=-43.72   BIC=-42.72"
      ]
     },
     "metadata": {},
     "output_type": "display_data"
    }
   ],
   "source": [
    "nrows <- length(detrended$residuals)\n",
    "residualTimeSeries <- detrended$residuals\n",
    "fit <- auto.arima(residualTimeSeries, method=\"ML\")\n",
    "fit"
   ]
  },
  {
   "cell_type": "code",
   "execution_count": null,
   "metadata": {},
   "outputs": [],
   "source": []
  }
 ],
 "metadata": {
  "kernelspec": {
   "display_name": "R",
   "language": "R",
   "name": "ir"
  },
  "language_info": {
   "codemirror_mode": "r",
   "file_extension": ".r",
   "mimetype": "text/x-r-source",
   "name": "R",
   "pygments_lexer": "r",
   "version": "3.5.1"
  }
 },
 "nbformat": 4,
 "nbformat_minor": 2
}
